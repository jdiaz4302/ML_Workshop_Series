{
 "cells": [
  {
   "cell_type": "markdown",
   "metadata": {},
   "source": [
    "# Set up"
   ]
  },
  {
   "cell_type": "markdown",
   "metadata": {},
   "source": [
    "Prior to Python, I had only used R, so I was surprised to learn that you need to import libraries for routine tasks like handling a dataframe, doing vectorized math, and data visualization. This is what we are doing below."
   ]
  },
  {
   "cell_type": "code",
   "execution_count": 7,
   "metadata": {},
   "outputs": [],
   "source": [
    "# Standard data science libraries\n",
    "# Used for dataframes\n",
    "import pandas as pd\n",
    "# Used for doing math\n",
    "import numpy as np\n",
    "# Used for visualization\n",
    "import matplotlib.pyplot as plt\n",
    "\n",
    "# Making the plot show within our notebook\n",
    "%matplotlib inline\n",
    "\n",
    "# Allowing us to set the plot size\n",
    "import pylab\n",
    "pylab.rcParams['figure.figsize'] = (10, 10)"
   ]
  },
  {
   "cell_type": "markdown",
   "metadata": {},
   "source": [
    "This makes Python read our data table"
   ]
  },
  {
   "cell_type": "code",
   "execution_count": 8,
   "metadata": {},
   "outputs": [
    {
     "data": {
      "text/plain": [
       "(1793, 104)"
      ]
     },
     "execution_count": 8,
     "metadata": {},
     "output_type": "execute_result"
    }
   ],
   "source": [
    "# Importing the csv\n",
    "climate_essay_df = pd.read_csv('data_noID.csv')\n",
    "\n",
    "# How big is this dataframe\n",
    "climate_essay_df.shape"
   ]
  },
  {
   "cell_type": "markdown",
   "metadata": {},
   "source": [
    "That's a lot of columns to deal with...\n",
    "<br>Let's focus on the essays written about climate change and the respondants' education and essay"
   ]
  },
  {
   "cell_type": "code",
   "execution_count": 9,
   "metadata": {},
   "outputs": [
    {
     "data": {
      "text/plain": [
       "(589, 3)"
      ]
     },
     "execution_count": 9,
     "metadata": {},
     "output_type": "execute_result"
    }
   ],
   "source": [
    "subsetted_df = climate_essay_df[climate_essay_df['trt1'] == 1]\n",
    "subsetted_df = subsetted_df[['trt1', 'don', 'essay']]\n",
    "subsetted_df = subsetted_df.reset_index(drop = True)\n",
    "subsetted_df.shape"
   ]
  },
  {
   "cell_type": "code",
   "execution_count": 10,
   "metadata": {},
   "outputs": [
    {
     "data": {
      "text/html": [
       "<div>\n",
       "<style scoped>\n",
       "    .dataframe tbody tr th:only-of-type {\n",
       "        vertical-align: middle;\n",
       "    }\n",
       "\n",
       "    .dataframe tbody tr th {\n",
       "        vertical-align: top;\n",
       "    }\n",
       "\n",
       "    .dataframe thead th {\n",
       "        text-align: right;\n",
       "    }\n",
       "</style>\n",
       "<table border=\"1\" class=\"dataframe\">\n",
       "  <thead>\n",
       "    <tr style=\"text-align: right;\">\n",
       "      <th></th>\n",
       "      <th>trt1</th>\n",
       "      <th>don</th>\n",
       "      <th>essay</th>\n",
       "    </tr>\n",
       "  </thead>\n",
       "  <tbody>\n",
       "    <tr>\n",
       "      <th>0</th>\n",
       "      <td>1</td>\n",
       "      <td>15.0</td>\n",
       "      <td>Dear Adelyn, \\n Today is January 7, 2015. I kn...</td>\n",
       "    </tr>\n",
       "    <tr>\n",
       "      <th>1</th>\n",
       "      <td>1</td>\n",
       "      <td>0.0</td>\n",
       "      <td>To whom it may concern in 2050:\\n\\nThis is 201...</td>\n",
       "    </tr>\n",
       "    <tr>\n",
       "      <th>2</th>\n",
       "      <td>1</td>\n",
       "      <td>19.0</td>\n",
       "      <td>Dear son,\\n    This is your mother from 2015 w...</td>\n",
       "    </tr>\n",
       "    <tr>\n",
       "      <th>3</th>\n",
       "      <td>1</td>\n",
       "      <td>15.0</td>\n",
       "      <td>Dear J-Swag,\\n I want you to know how much I l...</td>\n",
       "    </tr>\n",
       "    <tr>\n",
       "      <th>4</th>\n",
       "      <td>1</td>\n",
       "      <td>0.0</td>\n",
       "      <td>Dear Kailey,\\nYou will be reading this in the ...</td>\n",
       "    </tr>\n",
       "  </tbody>\n",
       "</table>\n",
       "</div>"
      ],
      "text/plain": [
       "   trt1   don                                              essay\n",
       "0     1  15.0  Dear Adelyn, \\n Today is January 7, 2015. I kn...\n",
       "1     1   0.0  To whom it may concern in 2050:\\n\\nThis is 201...\n",
       "2     1  19.0  Dear son,\\n    This is your mother from 2015 w...\n",
       "3     1  15.0  Dear J-Swag,\\n I want you to know how much I l...\n",
       "4     1   0.0  Dear Kailey,\\nYou will be reading this in the ..."
      ]
     },
     "execution_count": 10,
     "metadata": {},
     "output_type": "execute_result"
    }
   ],
   "source": [
    "subsetted_df.head(5)"
   ]
  },
  {
   "cell_type": "markdown",
   "metadata": {},
   "source": [
    "# Exploratory Data Analysis"
   ]
  },
  {
   "cell_type": "markdown",
   "metadata": {},
   "source": [
    "What does this text look like? Well it's stored in the `essay` column, so let's view a random entry"
   ]
  },
  {
   "cell_type": "code",
   "execution_count": 11,
   "metadata": {},
   "outputs": [
    {
     "data": {
      "text/plain": [
       "\"Dear Lily, \\n\\nThere are many people in our world who are currently refuting the effects of climate change and global warming.  However, we just spent Christmas in 80 degree weather (and I promise you, we weren't anywhere tropical!), and the record high temps were set for the 8th consecutive month in a row, which suggests to me that we have a serious problem.  Daddy and I could be doing a lot more to reduce our carbon footprint.  Currently we recycle, and we use energy-saving lightbulbs.  In the summertime, and when it's nice out, we do a lot of walking to different places in town, like the library, instead of driving.  We could definitely do more biking, and carpooling.  I would like to get a hybrid vehicle so that I can be more eco-friendly with all the driving I do for work, but unfortunately that isn't in the cards just yet.  We could certainly use less electricity, but it's definitely a challenge to limit these things, when it's so readily accessible.  However, I want you and your family to be able to live a healthy life, and enjoy the beautiful world we've been given.  We will continue doing what we can, and working on even more long-term solutions to help fix the problems that we've created.\\n\\nLove,\\nMom\""
      ]
     },
     "execution_count": 11,
     "metadata": {},
     "output_type": "execute_result"
    }
   ],
   "source": [
    "random_row = np.random.choice(len(subsetted_df))\n",
    "\n",
    "subsetted_df['essay'][random_row]"
   ]
  },
  {
   "cell_type": "markdown",
   "metadata": {},
   "source": [
    "Let's figure out how many words people wrote for the essays"
   ]
  },
  {
   "cell_type": "code",
   "execution_count": 12,
   "metadata": {},
   "outputs": [],
   "source": [
    "# Creating an empty vector to store word counts in\n",
    "word_counts_list = []\n",
    "\n",
    "# For-looping over all the rows\n",
    "for row in range(len(subsetted_df)):\n",
    "    # Storing the text from each row\n",
    "    sentence = subsetted_df['essay'][row]\n",
    "    # Splitting the string vector into a list of individual words\n",
    "    words = sentence.split()\n",
    "    # Getting the length of that list\n",
    "    word_count = len(words)\n",
    "    # Appending that to our growing list\n",
    "    word_counts_list.append(word_count)"
   ]
  },
  {
   "cell_type": "markdown",
   "metadata": {},
   "source": [
    "Plot the word counts"
   ]
  },
  {
   "cell_type": "code",
   "execution_count": 13,
   "metadata": {},
   "outputs": [
    {
     "data": {
      "text/plain": [
       "(array([170., 204., 119.,  59.,  16.,  10.,   4.,   3.,   3.,   1.]),\n",
       " array([ 84., 139., 194., 249., 304., 359., 414., 469., 524., 579., 634.]),\n",
       " <a list of 10 Patch objects>)"
      ]
     },
     "execution_count": 13,
     "metadata": {},
     "output_type": "execute_result"
    },
    {
     "data": {
      "image/png": "[encoded data removed]",
      "text/plain": [
       "<matplotlib.figure.Figure at 0x7fd9722d2588>"
      ]
     },
     "metadata": {},
     "output_type": "display_data"
    }
   ],
   "source": [
    "# View the distribution of word counts within essays\n",
    "plt.hist(word_counts_list)"
   ]
  },
  {
   "cell_type": "markdown",
   "metadata": {},
   "source": [
    "That's kind of ugly, and what's up with all those arrays and numbers?\n",
    "<br>Let's clean this up a little bit"
   ]
  },
  {
   "cell_type": "code",
   "execution_count": 14,
   "metadata": {
    "scrolled": false
   },
   "outputs": [
    {
     "name": "stdout",
     "output_type": "stream",
     "text": [
      "The average number of words written is 186.319185\n"
     ]
    },
    {
     "data": {
      "image/png": "[encoded data removed]",
      "text/plain": [
       "<matplotlib.figure.Figure at 0x7fd96ae01cc0>"
      ]
     },
     "metadata": {},
     "output_type": "display_data"
    }
   ],
   "source": [
    "average_word_count = np.mean(word_counts_list)\n",
    "print('The average number of words written is %0.6f' % average_word_count)\n",
    "\n",
    "plt.hist(word_counts_list, bins = 100, color = 'grey', edgecolor = 'black')\n",
    "plt.xlabel('Word Count', fontsize = 15)\n",
    "plt.ylabel('Frequency', fontsize = 15)\n",
    "plt.title(\"What's the word count distribution?\", fontsize = 18)\n",
    "plt.axvline(x = average_word_count, lw = 2, color = 'red', linestyle = '--');"
   ]
  },
  {
   "cell_type": "markdown",
   "metadata": {},
   "source": [
    "<br><br><br>"
   ]
  },
  {
   "cell_type": "code",
   "execution_count": 15,
   "metadata": {},
   "outputs": [
    {
     "data": {
      "text/plain": [
       "(array([168.,  31., 101.,   4.,   0., 167.,   5.,  34.,   4.,  75.]),\n",
       " array([ 0.,  2.,  4.,  6.,  8., 10., 12., 14., 16., 18., 20.]),\n",
       " <a list of 10 Patch objects>)"
      ]
     },
     "execution_count": 15,
     "metadata": {},
     "output_type": "execute_result"
    },
    {
     "data": {
      "image/png": "[encoded data removed]",
      "text/plain": [
       "<matplotlib.figure.Figure at 0x7fd96ae56ba8>"
      ]
     },
     "metadata": {},
     "output_type": "display_data"
    }
   ],
   "source": [
    "plt.hist(subsetted_df['don'])"
   ]
  },
  {
   "cell_type": "code",
   "execution_count": 16,
   "metadata": {},
   "outputs": [
    {
     "name": "stdout",
     "output_type": "stream",
     "text": [
      "The average number of words written is 7.522920\n"
     ]
    },
    {
     "data": {
      "image/png": "[encoded data removed]",
      "text/plain": [
       "<matplotlib.figure.Figure at 0x7fd96ac5ccf8>"
      ]
     },
     "metadata": {},
     "output_type": "display_data"
    }
   ],
   "source": [
    "average_donation = np.mean(subsetted_df['don'])\n",
    "print('The average number of words written is %0.6f' % average_donation)\n",
    "\n",
    "plt.hist(subsetted_df['don'], bins = 100, color = 'grey', edgecolor = 'black')\n",
    "plt.xlabel('Word Count', fontsize = 15)\n",
    "plt.ylabel('Frequency', fontsize = 15)\n",
    "plt.title(\"What's the word count distribution?\", fontsize = 18)\n",
    "plt.axvline(x = average_donation, lw = 1, color = 'red', linestyle = '--');"
   ]
  },
  {
   "cell_type": "code",
   "execution_count": 17,
   "metadata": {},
   "outputs": [
    {
     "data": {
      "text/html": [
       "<div>\n",
       "<style scoped>\n",
       "    .dataframe tbody tr th:only-of-type {\n",
       "        vertical-align: middle;\n",
       "    }\n",
       "\n",
       "    .dataframe tbody tr th {\n",
       "        vertical-align: top;\n",
       "    }\n",
       "\n",
       "    .dataframe thead th {\n",
       "        text-align: right;\n",
       "    }\n",
       "</style>\n",
       "<table border=\"1\" class=\"dataframe\">\n",
       "  <thead>\n",
       "    <tr style=\"text-align: right;\">\n",
       "      <th></th>\n",
       "      <th>trt1</th>\n",
       "      <th>don</th>\n",
       "      <th>essay</th>\n",
       "      <th>big_donator</th>\n",
       "    </tr>\n",
       "  </thead>\n",
       "  <tbody>\n",
       "    <tr>\n",
       "      <th>0</th>\n",
       "      <td>1</td>\n",
       "      <td>15.0</td>\n",
       "      <td>Dear Adelyn, \\n Today is January 7, 2015. I kn...</td>\n",
       "      <td>1</td>\n",
       "    </tr>\n",
       "    <tr>\n",
       "      <th>1</th>\n",
       "      <td>1</td>\n",
       "      <td>0.0</td>\n",
       "      <td>To whom it may concern in 2050:\\n\\nThis is 201...</td>\n",
       "      <td>0</td>\n",
       "    </tr>\n",
       "    <tr>\n",
       "      <th>2</th>\n",
       "      <td>1</td>\n",
       "      <td>19.0</td>\n",
       "      <td>Dear son,\\n    This is your mother from 2015 w...</td>\n",
       "      <td>1</td>\n",
       "    </tr>\n",
       "    <tr>\n",
       "      <th>3</th>\n",
       "      <td>1</td>\n",
       "      <td>15.0</td>\n",
       "      <td>Dear J-Swag,\\n I want you to know how much I l...</td>\n",
       "      <td>1</td>\n",
       "    </tr>\n",
       "    <tr>\n",
       "      <th>4</th>\n",
       "      <td>1</td>\n",
       "      <td>0.0</td>\n",
       "      <td>Dear Kailey,\\nYou will be reading this in the ...</td>\n",
       "      <td>0</td>\n",
       "    </tr>\n",
       "  </tbody>\n",
       "</table>\n",
       "</div>"
      ],
      "text/plain": [
       "   trt1   don                                              essay  big_donator\n",
       "0     1  15.0  Dear Adelyn, \\n Today is January 7, 2015. I kn...            1\n",
       "1     1   0.0  To whom it may concern in 2050:\\n\\nThis is 201...            0\n",
       "2     1  19.0  Dear son,\\n    This is your mother from 2015 w...            1\n",
       "3     1  15.0  Dear J-Swag,\\n I want you to know how much I l...            1\n",
       "4     1   0.0  Dear Kailey,\\nYou will be reading this in the ...            0"
      ]
     },
     "execution_count": 17,
     "metadata": {},
     "output_type": "execute_result"
    }
   ],
   "source": [
    "subsetted_df['big_donator'] = (subsetted_df['don'] > 8.5)\n",
    "subsetted_df['big_donator'] = subsetted_df['big_donator'].astype(int)\n",
    "subsetted_df.head()"
   ]
  },
  {
   "cell_type": "code",
   "execution_count": 18,
   "metadata": {},
   "outputs": [
    {
     "data": {
      "text/plain": [
       "0    304\n",
       "1    285\n",
       "Name: big_donator, dtype: int64"
      ]
     },
     "execution_count": 18,
     "metadata": {},
     "output_type": "execute_result"
    }
   ],
   "source": [
    "subsetted_df['big_donator'].value_counts()"
   ]
  },
  {
   "cell_type": "markdown",
   "metadata": {},
   "source": [
    "# Text Processing"
   ]
  },
  {
   "cell_type": "markdown",
   "metadata": {},
   "source": [
    "Importing some sklearn functions which are helpful prior to fitting a model"
   ]
  },
  {
   "cell_type": "code",
   "execution_count": 19,
   "metadata": {},
   "outputs": [],
   "source": [
    "from sklearn.feature_extraction.text import CountVectorizer\n",
    "from sklearn.model_selection import train_test_split"
   ]
  },
  {
   "cell_type": "markdown",
   "metadata": {},
   "source": [
    "Data split for evaluation"
   ]
  },
  {
   "cell_type": "code",
   "execution_count": 20,
   "metadata": {},
   "outputs": [],
   "source": [
    "train_df, test_df = train_test_split(subsetted_df, test_size = 0.2, random_state = 123)"
   ]
  },
  {
   "cell_type": "markdown",
   "metadata": {},
   "source": [
    "Some data conversion\n",
    "<br>The essays are currently in a Panda's DataFrame column, it would be more reasonable to have them as a vector (`np.ndarray`) of strings. This data structure carries less formatting and is more generalizable than a data frame column."
   ]
  },
  {
   "cell_type": "code",
   "execution_count": 21,
   "metadata": {},
   "outputs": [
    {
     "data": {
      "text/plain": [
       "'Dear Danny,\\n     So it is 2015 and I am concerned about you and your brother\\'s future. Your father and I see on the news all of the time about how the polar ice caps are melting. We know that if this happens there will be great floods in the coastal cities such as New York. Floods in all major coastal cities would cause millions or even billions of people worldwide to relocate further inland, which could then put a major strain on resources. It will be 2050 by the time you are reading this and I suppose by then some of the extreme consequences of our pollution of the earth will have taken effect. My only prayer is that between now and then, enough people around the world will have changed their ways enough to save our planet.\\n    Our family will do its part by driving less, walking more, and recycling. Right now our habits in these areas have a lot of room to improve. Your brothers and father most certainly do not consider what they are throwing away and whether or not it could be recycled. All of us also simply consume too much and need to learn to be more conservative. When I read articles or see videos that explain that actual impact on the Earth, I realize that our family needs to make changes in the way we live. We will work together to do our part in the fight to save our planet. When the weather is warmer here at home, we can walk to and from school. That would be good exercise for all of us and it will save carbon emissions from our vehicles, which is a huge part of the problem around the world right now. All the extra carbon that humans are adding into the atmosphere is creating a \"greenhouse effect\", trapping the sun\\'s heat near the earth\\'s surface and thereby making the entire planet slightly warmer. When we as a society collectively pollute the earth and fail to exercise better habits, we are ruining the climate stability of the earth and jeopardizing the safety and living conditions for all of us. Earth is the only planet, we know of at this time, that is habitable for humanity. If we continue to ignore the warning signs that our planet is in danger, we can effectively doom our entire race and any chance we have of continuing to inhabit this planet for generations to come.\\n    I hope the necessary changes have been made by not only our family, but everyone around the world  and that by now you might live in a better world than the one we are headed for.\\n                                                                                                           Love, \\n                                                                                                            Mom'"
      ]
     },
     "execution_count": 21,
     "metadata": {},
     "output_type": "execute_result"
    }
   ],
   "source": [
    "# Converting the Panda's formal dataframe column into a standard vector of strings\n",
    "train_essays = train_df['essay'].values\n",
    "test_essays = test_df['essay'].values\n",
    "\n",
    "train_essays[0]"
   ]
  },
  {
   "cell_type": "markdown",
   "metadata": {},
   "source": [
    "Let's get a count of words"
   ]
  },
  {
   "cell_type": "code",
   "execution_count": 22,
   "metadata": {},
   "outputs": [
    {
     "data": {
      "text/plain": [
       "<471x5394 sparse matrix of type '<class 'numpy.int64'>'\n",
       "\twith 52240 stored elements in Compressed Sparse Row format>"
      ]
     },
     "execution_count": 22,
     "metadata": {},
     "output_type": "execute_result"
    }
   ],
   "source": [
    "word_counter = CountVectorizer()\n",
    "\n",
    "word_counter.fit(train_essays)\n",
    "\n",
    "test_word_counts = word_counter.transform(test_essays)\n",
    "train_word_counts = word_counter.transform(train_essays)\n",
    "train_word_counts"
   ]
  },
  {
   "cell_type": "markdown",
   "metadata": {},
   "source": [
    "What in the world is that?\n",
    "<br>Because most words won't be present in any given paragraph, the resulting word counts are mostly zeros. Since it's mostly empty, it's nice to prevent printing out 1000s of zeros, so it is stored as a sparse matrix. We can try to inspect it, but, in reality, it's too much, as shown below."
   ]
  },
  {
   "cell_type": "code",
   "execution_count": 23,
   "metadata": {},
   "outputs": [
    {
     "data": {
      "text/plain": [
       "matrix([[0, 0, 0, ..., 0, 0, 0],\n",
       "        [0, 0, 0, ..., 0, 0, 0],\n",
       "        [0, 0, 0, ..., 0, 0, 0],\n",
       "        ...,\n",
       "        [0, 0, 0, ..., 0, 0, 0],\n",
       "        [0, 0, 0, ..., 0, 0, 0],\n",
       "        [0, 0, 0, ..., 0, 0, 0]])"
      ]
     },
     "execution_count": 23,
     "metadata": {},
     "output_type": "execute_result"
    }
   ],
   "source": [
    "train_word_counts.todense()"
   ]
  },
  {
   "cell_type": "markdown",
   "metadata": {},
   "source": [
    "Well, how can we trust this?\n",
    "<br>We can inspect the attributes that this `word_counter` has learned"
   ]
  },
  {
   "cell_type": "code",
   "execution_count": 24,
   "metadata": {},
   "outputs": [
    {
     "name": "stdout",
     "output_type": "stream",
     "text": [
      "['000', '01', '02', '10', '100', '10000x', '11', '12', '120', '12x6x']\n",
      "['youth', 'yrs', 'yyyyyyyyyyy', 'zabiah', 'zach', 'zayna', 'zero', 'ziplock', 'zoo', 'zzzzzzzzzzz']\n",
      "\n",
      "In total, it learned 5394.000000 words\n"
     ]
    }
   ],
   "source": [
    "learned_words = word_counter.get_feature_names()\n",
    "\n",
    "print(learned_words[0:10])\n",
    "print(learned_words[-10:])\n",
    "print(\"\\nIn total, it learned %0.6f words\" % len(word_counter.get_feature_names()))"
   ]
  },
  {
   "cell_type": "markdown",
   "metadata": {},
   "source": [
    "What are the individual word counts?"
   ]
  },
  {
   "cell_type": "code",
   "execution_count": 25,
   "metadata": {
    "scrolled": true
   },
   "outputs": [
    {
     "data": {
      "text/plain": [
       "{'dear': 1234,\n",
       " 'danny': 1212,\n",
       " 'so': 4438,\n",
       " 'it': 2654,\n",
       " 'is': 2642,\n",
       " '2015': 41,\n",
       " 'and': 312,\n",
       " 'am': 291,\n",
       " 'concerned': 1000,\n",
       " 'about': 102,\n",
       " 'you': 5376,\n",
       " 'your': 5380,\n",
       " 'brother': 655,\n",
       " 'future': 2057,\n",
       " 'father': 1859,\n",
       " 'see': 4270,\n",
       " 'on': 3358,\n",
       " 'the': 4780,\n",
       " 'news': 3256,\n",
       " 'all': 262,\n",
       " 'of': 3340,\n",
       " 'time': 4843,\n",
       " 'how': 2396,\n",
       " 'polar': 3624,\n",
       " 'ice': 2435,\n",
       " 'caps': 738,\n",
       " 'are': 364,\n",
       " 'melting': 3048,\n",
       " 'we': 5221,\n",
       " 'know': 2741,\n",
       " 'that': 4778,\n",
       " 'if': 2447,\n",
       " 'this': 4805,\n",
       " 'happens': 2248,\n",
       " 'there': 4790,\n",
       " 'will': 5281,\n",
       " 'be': 487,\n",
       " 'great': 2176,\n",
       " 'floods': 1940,\n",
       " 'in': 2494,\n",
       " 'coastal': 919,\n",
       " 'cities': 867,\n",
       " 'such': 4626,\n",
       " 'as': 383,\n",
       " 'new': 3253,\n",
       " 'york': 5375,\n",
       " 'major': 2970,\n",
       " 'would': 5343,\n",
       " 'cause': 780,\n",
       " 'millions': 3099,\n",
       " 'or': 3387,\n",
       " 'even': 1705,\n",
       " 'billions': 563,\n",
       " 'people': 3522,\n",
       " 'worldwide': 5330,\n",
       " 'to': 4853,\n",
       " 'relocate': 4022,\n",
       " 'further': 2052,\n",
       " 'inland': 2563,\n",
       " 'which': 5265,\n",
       " 'could': 1122,\n",
       " 'then': 4787,\n",
       " 'put': 3842,\n",
       " 'strain': 4576,\n",
       " 'resources': 4083,\n",
       " '2050': 44,\n",
       " 'by': 703,\n",
       " 'reading': 3910,\n",
       " 'suppose': 4660,\n",
       " 'some': 4453,\n",
       " 'extreme': 1796,\n",
       " 'consequences': 1030,\n",
       " 'our': 3407,\n",
       " 'pollution': 3641,\n",
       " 'earth': 1526,\n",
       " 'have': 2279,\n",
       " 'taken': 4710,\n",
       " 'effect': 1565,\n",
       " 'my': 3203,\n",
       " 'only': 3363,\n",
       " 'prayer': 3689,\n",
       " 'between': 547,\n",
       " 'now': 3305,\n",
       " 'enough': 1663,\n",
       " 'around': 374,\n",
       " 'world': 5328,\n",
       " 'changed': 812,\n",
       " 'their': 4784,\n",
       " 'ways': 5220,\n",
       " 'save': 4214,\n",
       " 'planet': 3582,\n",
       " 'family': 1836,\n",
       " 'do': 1436,\n",
       " 'its': 2657,\n",
       " 'part': 3479,\n",
       " 'driving': 1497,\n",
       " 'less': 2821,\n",
       " 'walking': 5167,\n",
       " 'more': 3161,\n",
       " 'recycling': 3965,\n",
       " 'right': 4131,\n",
       " 'habits': 2224,\n",
       " 'these': 4794,\n",
       " 'areas': 366,\n",
       " 'lot': 2924,\n",
       " 'room': 4158,\n",
       " 'improve': 2487,\n",
       " 'brothers': 656,\n",
       " 'most': 3164,\n",
       " 'certainly': 799,\n",
       " 'not': 3292,\n",
       " 'consider': 1039,\n",
       " 'what': 5254,\n",
       " 'they': 4796,\n",
       " 'throwing': 4828,\n",
       " 'away': 441,\n",
       " 'whether': 5264,\n",
       " 'recycled': 3961,\n",
       " 'us': 5062,\n",
       " 'also': 279,\n",
       " 'simply': 4384,\n",
       " 'consume': 1056,\n",
       " 'too': 4866,\n",
       " 'much': 3187,\n",
       " 'need': 3235,\n",
       " 'learn': 2805,\n",
       " 'conservative': 1033,\n",
       " 'when': 5260,\n",
       " 'read': 3908,\n",
       " 'articles': 381,\n",
       " 'videos': 5129,\n",
       " 'explain': 1774,\n",
       " 'actual': 157,\n",
       " 'impact': 2466,\n",
       " 'realize': 3920,\n",
       " 'needs': 3237,\n",
       " 'make': 2973,\n",
       " 'changes': 813,\n",
       " 'way': 5218,\n",
       " 'live': 2885,\n",
       " 'work': 5321,\n",
       " 'together': 4857,\n",
       " 'fight': 1891,\n",
       " 'weather': 5228,\n",
       " 'warmer': 5181,\n",
       " 'here': 2323,\n",
       " 'at': 400,\n",
       " 'home': 2359,\n",
       " 'can': 721,\n",
       " 'walk': 5164,\n",
       " 'from': 2022,\n",
       " 'school': 4240,\n",
       " 'good': 2142,\n",
       " 'exercise': 1747,\n",
       " 'for': 1970,\n",
       " 'carbon': 743,\n",
       " 'emissions': 1619,\n",
       " 'vehicles': 5115,\n",
       " 'huge': 2401,\n",
       " 'problem': 3745,\n",
       " 'extra': 1792,\n",
       " 'humans': 2411,\n",
       " 'adding': 170,\n",
       " 'into': 2614,\n",
       " 'atmosphere': 403,\n",
       " 'creating': 1155,\n",
       " 'greenhouse': 2186,\n",
       " 'trapping': 4909,\n",
       " 'sun': 4642,\n",
       " 'heat': 2300,\n",
       " 'near': 3226,\n",
       " 'surface': 4666,\n",
       " 'thereby': 4791,\n",
       " 'making': 2976,\n",
       " 'entire': 1670,\n",
       " 'slightly': 4413,\n",
       " 'society': 4443,\n",
       " 'collectively': 934,\n",
       " 'pollute': 3636,\n",
       " 'fail': 1819,\n",
       " 'better': 546,\n",
       " 'ruining': 4174,\n",
       " 'climate': 895,\n",
       " 'stability': 4519,\n",
       " 'jeopardizing': 2672,\n",
       " 'safety': 4197,\n",
       " 'living': 2889,\n",
       " 'conditions': 1011,\n",
       " 'habitable': 2222,\n",
       " 'humanity': 2408,\n",
       " 'continue': 1069,\n",
       " 'ignore': 2450,\n",
       " 'warning': 5189,\n",
       " 'signs': 4377,\n",
       " 'danger': 1207,\n",
       " 'effectively': 1569,\n",
       " 'doom': 1458,\n",
       " 'race': 3859,\n",
       " 'any': 331,\n",
       " 'chance': 808,\n",
       " 'continuing': 1072,\n",
       " 'inhabit': 2553,\n",
       " 'generations': 2091,\n",
       " 'come': 946,\n",
       " 'hope': 2373,\n",
       " 'necessary': 3232,\n",
       " 'been': 508,\n",
       " 'made': 2957,\n",
       " 'but': 696,\n",
       " 'everyone': 1718,\n",
       " 'might': 3086,\n",
       " 'than': 4773,\n",
       " 'one': 3360,\n",
       " 'headed': 2288,\n",
       " 'love': 2927,\n",
       " 'mom': 3146,\n",
       " 'hello': 2312,\n",
       " 'dolly': 1446,\n",
       " 'has': 2271,\n",
       " 'treating': 4919,\n",
       " 'penguins': 3518,\n",
       " 'well': 5245,\n",
       " 'tried': 4933,\n",
       " 'keep': 2711,\n",
       " 'shape': 4318,\n",
       " 'possible': 3670,\n",
       " 'during': 1513,\n",
       " 'conserve': 1035,\n",
       " 'fuel': 2033,\n",
       " 'efficient': 1574,\n",
       " 'vehicle': 5114,\n",
       " 'afford': 219,\n",
       " 'reusing': 4115,\n",
       " 'hopefully': 2375,\n",
       " 'done': 1455,\n",
       " 'reverse': 4117,\n",
       " 'global': 2123,\n",
       " 'warming': 5183,\n",
       " 'trend': 4927,\n",
       " 'many': 2997,\n",
       " 'believe': 525,\n",
       " 'starting': 4536,\n",
       " 'told': 4860,\n",
       " 'me': 3026,\n",
       " 'recently': 3939,\n",
       " 'her': 2321,\n",
       " '91': 95,\n",
       " 'years': 5369,\n",
       " 'she': 4323,\n",
       " 'remember': 4035,\n",
       " 'seeing': 4271,\n",
       " 'crazy': 1150,\n",
       " 'had': 2225,\n",
       " 'childhood': 843,\n",
       " 'why': 5274,\n",
       " 'try': 4955,\n",
       " 'help': 2313,\n",
       " 'noot': 3283,\n",
       " 'rosalynn': 4163,\n",
       " 'talk': 4714,\n",
       " 'change': 811,\n",
       " 'days': 1225,\n",
       " 'causes': 782,\n",
       " 'who': 5270,\n",
       " 'alarmists': 254,\n",
       " 'got': 2145,\n",
       " 'couldn': 1123,\n",
       " 'sustain': 4679,\n",
       " 'current': 1180,\n",
       " 'population': 3658,\n",
       " 'fact': 1812,\n",
       " 're': 3899,\n",
       " 'letter': 2828,\n",
       " '35': 58,\n",
       " 'tells': 4749,\n",
       " 'were': 5247,\n",
       " 'wrong': 5355,\n",
       " 'may': 3021,\n",
       " 'very': 5123,\n",
       " 'happening': 2247,\n",
       " 'caused': 781,\n",
       " 'man': 2986,\n",
       " 'best': 544,\n",
       " 'thing': 4799,\n",
       " 'adapt': 161,\n",
       " 'with': 5302,\n",
       " 'kids': 2725,\n",
       " 'leading': 2801,\n",
       " 'happy': 2250,\n",
       " 'life': 2844,\n",
       " 'say': 4221,\n",
       " 'adapted': 163,\n",
       " 'job': 2676,\n",
       " 'proud': 3807,\n",
       " 'please': 3605,\n",
       " 'don': 1450,\n",
       " 'take': 4709,\n",
       " 'environment': 1675,\n",
       " 'granted': 2171,\n",
       " 'realist': 3914,\n",
       " 'environmental': 1676,\n",
       " 'issues': 2653,\n",
       " 'arise': 373,\n",
       " 'gasses': 2081,\n",
       " 'causing': 783,\n",
       " 'warm': 5179,\n",
       " 'alter': 280,\n",
       " 'whole': 5271,\n",
       " 'maybe': 3022,\n",
       " 'scientists': 4247,\n",
       " 'sins': 4391,\n",
       " 'fathers': 1860,\n",
       " 'becoming': 503,\n",
       " 'hippy': 2343,\n",
       " 'allowing': 271,\n",
       " 'vast': 5104,\n",
       " 'swaths': 4688,\n",
       " 'human': 2405,\n",
       " 'die': 1356,\n",
       " 'isn': 2649,\n",
       " 'solution': 4449,\n",
       " 'advocate': 210,\n",
       " 'position': 3664,\n",
       " 'support': 4654,\n",
       " 'fighting': 1892,\n",
       " 'real': 3913,\n",
       " 'adaptation': 162,\n",
       " 'other': 3402,\n",
       " 'side': 4365,\n",
       " 'aunt': 422,\n",
       " 'patience': 3500,\n",
       " 'going': 2137,\n",
       " 'important': 2479,\n",
       " 'get': 2101,\n",
       " 'back': 448,\n",
       " 'simple': 4382,\n",
       " 'before': 511,\n",
       " 'corporations': 1107,\n",
       " 'enslaved': 1665,\n",
       " 'consumerism': 1059,\n",
       " 'specifically': 4488,\n",
       " 'where': 5262,\n",
       " 'procured': 3752,\n",
       " 'independently': 2525,\n",
       " 'bartered': 471,\n",
       " 'goods': 2143,\n",
       " 'skills': 4410,\n",
       " 'turn': 4965,\n",
       " 'indirectly': 2528,\n",
       " 'proverbial': 3810,\n",
       " 'ball': 459,\n",
       " 'rolling': 4155,\n",
       " 'positive': 3666,\n",
       " 'direction': 1381,\n",
       " 'lose': 2919,\n",
       " 'dependence': 1302,\n",
       " 'reason': 3925,\n",
       " 'existing': 1755,\n",
       " 'wither': 5303,\n",
       " 'disappear': 1389,\n",
       " 'massive': 3011,\n",
       " 'independence': 2523,\n",
       " 'greatest': 2178,\n",
       " 'action': 147,\n",
       " 'preserve': 3709,\n",
       " 'end': 1635,\n",
       " 'social': 4440,\n",
       " 'governance': 2148,\n",
       " 'thus': 4832,\n",
       " 'ends': 1644,\n",
       " 'fascist': 1853,\n",
       " 'corporatocracy': 1108,\n",
       " 'government': 2149,\n",
       " 'represents': 4056,\n",
       " 'negatives': 3240,\n",
       " 'greetings': 2189,\n",
       " 'past': 3497,\n",
       " 'former': 1986,\n",
       " 'child': 842,\n",
       " 'things': 4800,\n",
       " 'flying': 1953,\n",
       " 'cars': 763,\n",
       " 'invented': 2619,\n",
       " 'widely': 5275,\n",
       " 'implemented': 2475,\n",
       " 'yet': 5374,\n",
       " 'didn': 1355,\n",
       " 'think': 4801,\n",
       " 'another': 320,\n",
       " 'eh': 1580,\n",
       " 'like': 2855,\n",
       " 'kinda': 2734,\n",
       " 'cold': 926,\n",
       " 'winter': 5292,\n",
       " 'england': 1655,\n",
       " 'still': 4561,\n",
       " 'snows': 4435,\n",
       " 'christmas': 858,\n",
       " 'wasn': 5199,\n",
       " 'white': 5269,\n",
       " 'year': 5368,\n",
       " 'yours': 5382,\n",
       " 'nothing': 3297,\n",
       " 'weirder': 5242,\n",
       " 'off': 3341,\n",
       " 'putting': 3844,\n",
       " 'sunny': 4646,\n",
       " '60': 79,\n",
       " 'degree': 1279,\n",
       " 'day': 1224,\n",
       " 'sure': 4664,\n",
       " 've': 5106,\n",
       " 'figured': 1895,\n",
       " 'out': 3410,\n",
       " 'mine': 3106,\n",
       " 'normal': 3286,\n",
       " 'honest': 2366,\n",
       " 'significant': 4374,\n",
       " 'drive': 1492,\n",
       " 'often': 3348,\n",
       " 'trash': 4910,\n",
       " 'recycle': 3960,\n",
       " 'whenever': 5261,\n",
       " 'clean': 880,\n",
       " 'up': 5045,\n",
       " 'after': 224,\n",
       " 'others': 3403,\n",
       " 'sheer': 4324,\n",
       " 'amount': 303,\n",
       " 'waste': 5201,\n",
       " 'businesses': 694,\n",
       " 'wow': 5346,\n",
       " 'anyway': 337,\n",
       " 'both': 608,\n",
       " 'wise': 5296,\n",
       " 'otherwise': 3404,\n",
       " 'energy': 1647,\n",
       " 'started': 4534,\n",
       " 'using': 5073,\n",
       " 'different': 1364,\n",
       " 'light': 2850,\n",
       " 'bulbs': 678,\n",
       " 'house': 2390,\n",
       " 'lights': 2854,\n",
       " 'needed': 3236,\n",
       " 'since': 4385,\n",
       " 'country': 1131,\n",
       " 'hard': 2251,\n",
       " 'garbage': 2072,\n",
       " 'pickup': 3565,\n",
       " 'nor': 3284,\n",
       " 'use': 5068,\n",
       " 'local': 2899,\n",
       " 'landfill': 2761,\n",
       " 'without': 5305,\n",
       " 'paying': 3508,\n",
       " 'price': 3725,\n",
       " 'therefore': 4792,\n",
       " 'burned': 687,\n",
       " 'pit': 3575,\n",
       " 'pasture': 3498,\n",
       " 'bike': 557,\n",
       " 'etc': 1699,\n",
       " '10': 3,\n",
       " 'miles': 3096,\n",
       " 'town': 4885,\n",
       " 'wheel': 5258,\n",
       " 'takes': 4712,\n",
       " 'gas': 2078,\n",
       " 'because': 500,\n",
       " 'months': 3158,\n",
       " 'snow': 4431,\n",
       " 'bigger': 555,\n",
       " 'able': 100,\n",
       " 'through': 4825,\n",
       " 'roads': 4147,\n",
       " 'understand': 4998,\n",
       " 'should': 4346,\n",
       " 'always': 289,\n",
       " 'appliances': 350,\n",
       " 'lots': 2925,\n",
       " 'insulation': 2589,\n",
       " 'cost': 1117,\n",
       " 'heating': 2304,\n",
       " 'aria': 372,\n",
       " 'uncle': 4991,\n",
       " 'travis': 4916,\n",
       " 'receive': 3935,\n",
       " 'wanted': 5173,\n",
       " 'let': 2827,\n",
       " 'essay': 1696,\n",
       " 'want': 5172,\n",
       " 'became': 499,\n",
       " 'born': 605,\n",
       " 'just': 2702,\n",
       " 'effects': 1570,\n",
       " 'process': 3748,\n",
       " 'natural': 3221,\n",
       " 'increases': 2515,\n",
       " 'decreases': 1261,\n",
       " 'earths': 1529,\n",
       " 'temperature': 4751,\n",
       " 'was': 5192,\n",
       " 'getting': 2104,\n",
       " 'heated': 2301,\n",
       " 'coupled': 1135,\n",
       " 'explosion': 1780,\n",
       " 'humankind': 2409,\n",
       " 'fluctuations': 1948,\n",
       " 'happened': 2246,\n",
       " 'beginning': 514,\n",
       " 'however': 2397,\n",
       " 'really': 3923,\n",
       " 'unknown': 5024,\n",
       " 'said': 4199,\n",
       " 'dioxide': 1378,\n",
       " 'care': 747,\n",
       " 'called': 712,\n",
       " 'experts': 1772,\n",
       " '150': 13,\n",
       " 'ago': 235,\n",
       " 'guess': 2206,\n",
       " 'trying': 4956,\n",
       " 'generation': 2090,\n",
       " 'did': 1354,\n",
       " 'means': 3032,\n",
       " 'old': 3353,\n",
       " 'lucky': 2940,\n",
       " 'hanging': 2242,\n",
       " 'ripe': 4136,\n",
       " '64': 81,\n",
       " 'point': 3618,\n",
       " 'learned': 2806,\n",
       " 'sustainably': 4682,\n",
       " 'successfully': 4625,\n",
       " 'delayed': 1283,\n",
       " 'writing': 5353,\n",
       " 'grandpa': 2168,\n",
       " 'them': 4785,\n",
       " 'pluck': 3612,\n",
       " 'individual': 2529,\n",
       " 'anecdata': 314,\n",
       " 'fit': 1925,\n",
       " 'ideas': 2441,\n",
       " 'resistant': 4078,\n",
       " 'changing': 814,\n",
       " 'almost': 274,\n",
       " 'total': 4878,\n",
       " 'scientific': 4244,\n",
       " 'consensus': 1028,\n",
       " 'poses': 3663,\n",
       " 'threat': 4815,\n",
       " 'civilization': 872,\n",
       " 'children': 844,\n",
       " 'wish': 5299,\n",
       " 'small': 4421,\n",
       " 'contributions': 1082,\n",
       " 'hybrid': 2425,\n",
       " 'car': 742,\n",
       " 'half': 2230,\n",
       " 'electric': 1590,\n",
       " 'purchase': 3829,\n",
       " 'reusable': 4111,\n",
       " 'products': 3762,\n",
       " 'cloth': 905,\n",
       " 'diapers': 1350,\n",
       " 'sister': 4395,\n",
       " 'wore': 5320,\n",
       " 'doing': 1443,\n",
       " 'level': 2832,\n",
       " 'general': 2086,\n",
       " 'striving': 4593,\n",
       " 'harder': 2252,\n",
       " 'reduce': 3972,\n",
       " 'co2': 916,\n",
       " 'levels': 2833,\n",
       " 'reaches': 3903,\n",
       " 'safe': 4194,\n",
       " 'fear': 1868,\n",
       " 'catastrophes': 773,\n",
       " 'an': 306,\n",
       " 'over': 3425,\n",
       " 'reliance': 4017,\n",
       " 'upon': 5053,\n",
       " 'fossil': 1993,\n",
       " 'fuels': 2035,\n",
       " 'travel': 4913,\n",
       " 'spend': 4494,\n",
       " 'outside': 3422,\n",
       " 'amazing': 293,\n",
       " 'places': 3579,\n",
       " 'eliza': 1605,\n",
       " 'place': 3578,\n",
       " 'bad': 451,\n",
       " 'growing': 2201,\n",
       " 'definitely': 1275,\n",
       " 'prevalent': 3720,\n",
       " 'already': 278,\n",
       " 'steps': 4557,\n",
       " 'built': 676,\n",
       " 'star': 4530,\n",
       " 'certified': 800,\n",
       " 'grow': 2200,\n",
       " 'garden': 2073,\n",
       " 'provide': 3811,\n",
       " 'healthy': 2295,\n",
       " 'food': 1963,\n",
       " 'dad': 1194,\n",
       " 'studied': 4602,\n",
       " 'implements': 2477,\n",
       " 'practice': 3686,\n",
       " 'permaculture': 3536,\n",
       " 'uses': 5072,\n",
       " 'principles': 3734,\n",
       " 'return': 4108,\n",
       " 'surplus': 4667,\n",
       " 'comfortable': 949,\n",
       " 'large': 2769,\n",
       " 'example': 1733,\n",
       " 'coal': 917,\n",
       " 'producing': 3758,\n",
       " 'plants': 3593,\n",
       " 'produce': 3753,\n",
       " 'baking': 456,\n",
       " 'soda': 4444,\n",
       " 'sold': 4447,\n",
       " 'reburied': 3931,\n",
       " 'allow': 269,\n",
       " 'rereleased': 4068,\n",
       " 'next': 3259,\n",
       " 'few': 1882,\n",
       " 'little': 2883,\n",
       " 'parker': 3476,\n",
       " 'quite': 3856,\n",
       " 'young': 5377,\n",
       " 'fully': 2040,\n",
       " 'actions': 148,\n",
       " 'instill': 2582,\n",
       " 'proper': 3790,\n",
       " 'foundation': 1997,\n",
       " 'aiding': 247,\n",
       " 'seems': 4277,\n",
       " 'pain': 3453,\n",
       " 'butt': 697,\n",
       " 'items': 2656,\n",
       " 'instead': 2581,\n",
       " 'easily': 1534,\n",
       " 'reuse': 4112,\n",
       " 'objects': 3319,\n",
       " 'send': 4284,\n",
       " 'factories': 1815,\n",
       " 'having': 2281,\n",
       " 'disposable': 1415,\n",
       " 'landfills': 2762,\n",
       " 'full': 2038,\n",
       " 'decided': 1250,\n",
       " 'those': 4808,\n",
       " 'plastic': 3594,\n",
       " 'water': 5210,\n",
       " 'bottles': 611,\n",
       " 'center': 792,\n",
       " 'shopping': 4338,\n",
       " 'bags': 454,\n",
       " 'fill': 1896,\n",
       " 'meaningless': 3031,\n",
       " 'picking': 3564,\n",
       " 'doggies': 1441,\n",
       " 'plus': 3615,\n",
       " 'cents': 794,\n",
       " 'every': 1714,\n",
       " 'bag': 453,\n",
       " 'grocery': 2194,\n",
       " 'money': 3152,\n",
       " 'pockets': 3617,\n",
       " 'finally': 1902,\n",
       " 'being': 520,\n",
       " 'chef': 831,\n",
       " 'instilled': 2583,\n",
       " 'idea': 2438,\n",
       " 'gardening': 2074,\n",
       " 'own': 3438,\n",
       " 'along': 276,\n",
       " 'composted': 989,\n",
       " 'nourish': 3303,\n",
       " 'throughout': 4826,\n",
       " 'season': 4261,\n",
       " 'something': 4458,\n",
       " 'older': 3354,\n",
       " 'enjoy': 1657,\n",
       " 'nature': 3223,\n",
       " 'never': 3251,\n",
       " 'long': 2909,\n",
       " 'last': 2773,\n",
       " 'preserved': 3710,\n",
       " 'original': 3397,\n",
       " 'state': 4539,\n",
       " 'beauty': 497,\n",
       " 'today': 4854,\n",
       " 'grey': 2191,\n",
       " 'dearest': 1235,\n",
       " 'jared': 2668,\n",
       " 'risks': 4142,\n",
       " 'challenges': 806,\n",
       " 'wonder': 5310,\n",
       " 'practices': 3687,\n",
       " 'helped': 2314,\n",
       " 'negative': 3238,\n",
       " 'separated': 4294,\n",
       " 'two': 4973,\n",
       " 'bins': 566,\n",
       " 'reserved': 4073,\n",
       " 'recyclable': 3958,\n",
       " 'materials': 3014,\n",
       " 'gradually': 2155,\n",
       " 'kind': 2733,\n",
       " 'cleaned': 881,\n",
       " 'beaches': 489,\n",
       " 'service': 4300,\n",
       " 'project': 3776,\n",
       " 'challenging': 807,\n",
       " 'taking': 4713,\n",
       " 'seriously': 4298,\n",
       " 'politicians': 3631,\n",
       " 'denying': 1299,\n",
       " 'governor': 2151,\n",
       " 'scott': 4249,\n",
       " 'reportedly': 4052,\n",
       " 'memo': 3053,\n",
       " 'insisting': 2570,\n",
       " 'his': 2345,\n",
       " 'staffers': 4522,\n",
       " 'refrain': 3982,\n",
       " 'term': 4760,\n",
       " 'he': 2286,\n",
       " 'visit': 5143,\n",
       " 'miami': 3075,\n",
       " 'beach': 488,\n",
       " 'big': 554,\n",
       " 'rainstorm': 3873,\n",
       " 'flooding': 1939,\n",
       " 'streets': 4582,\n",
       " 'ocean': 3337,\n",
       " 'especially': 1695,\n",
       " 'beautiful': 496,\n",
       " 'lost': 2923,\n",
       " 'shores': 4340,\n",
       " 'erosion': 1690,\n",
       " 'predicting': 3698,\n",
       " 'issue': 2652,\n",
       " 'grandchildren': 2160,\n",
       " 'requires': 4067,\n",
       " 'hotter': 2387,\n",
       " 'dryer': 1503,\n",
       " 'while': 5267,\n",
       " 'colder': 927,\n",
       " 'wetter': 5253,\n",
       " 'exactly': 1730,\n",
       " 'directly': 1382,\n",
       " 'responsible': 4093,\n",
       " 'respectful': 4085,\n",
       " 'knowledgeable': 2744,\n",
       " 'minimum': 3115,\n",
       " 'start': 4533,\n",
       " 'short': 4341,\n",
       " 'drives': 1496,\n",
       " 'temperatures': 4752,\n",
       " 'reasonable': 3926,\n",
       " 'reducing': 3975,\n",
       " 'happen': 2245,\n",
       " 'hungry': 2417,\n",
       " 'basically': 475,\n",
       " 'allowed': 270,\n",
       " 'whatever': 5255,\n",
       " 'impossible': 2481,\n",
       " 'guilt': 2207,\n",
       " 'regular': 3999,\n",
       " 'contributing': 1080,\n",
       " 'microscopic': 3081,\n",
       " 'itself': 2658,\n",
       " 'cannot': 729,\n",
       " 'bend': 534,\n",
       " 'grandson': 2170,\n",
       " 'birthday': 572,\n",
       " '2008': 39,\n",
       " 'took': 4867,\n",
       " 'movie': 3179,\n",
       " 'used': 5069,\n",
       " 'remind': 4036,\n",
       " 'left': 2814,\n",
       " 'bears': 493,\n",
       " 'collect': 929,\n",
       " 'aluminum': 287,\n",
       " 'cans': 730,\n",
       " 'find': 1906,\n",
       " 'impress': 2483,\n",
       " 'importance': 2478,\n",
       " 'helping': 2316,\n",
       " 'recycler': 3962,\n",
       " 'bought': 613,\n",
       " 'mostly': 3165,\n",
       " 'organic': 3392,\n",
       " 'foods': 1964,\n",
       " 'stay': 4548,\n",
       " 'imagine': 2457,\n",
       " 'facing': 1811,\n",
       " 'encouraged': 1632,\n",
       " 'efforts': 1578,\n",
       " 'bay': 485,\n",
       " 'stewards': 4559,\n",
       " 'wonders': 5315,\n",
       " 'switched': 4696,\n",
       " 'utilities': 5077,\n",
       " 'programmable': 3767,\n",
       " 'thermostat': 4793,\n",
       " 'turning': 4967,\n",
       " 'unused': 5042,\n",
       " 'rooms': 4160,\n",
       " 'running': 4180,\n",
       " 'dishwasher': 1409,\n",
       " 'quick': 3852,\n",
       " 'mode': 3138,\n",
       " 'washing': 5197,\n",
       " 'machine': 2951,\n",
       " 'setting': 4302,\n",
       " 'largest': 2772,\n",
       " 'load': 2894,\n",
       " 'rated': 3890,\n",
       " 'purchased': 3830,\n",
       " 'couple': 1134,\n",
       " 'plan': 3581,\n",
       " 'replacing': 4049,\n",
       " 'models': 3141,\n",
       " 'windows': 5289,\n",
       " 'drafts': 1470,\n",
       " 'playroom': 3601,\n",
       " 'clearly': 891,\n",
       " 'later': 2780,\n",
       " 'addition': 171,\n",
       " 'either': 1582,\n",
       " 'doesn': 1439,\n",
       " 'lacking': 2753,\n",
       " 'insulating': 2588,\n",
       " 'paris': 3474,\n",
       " 'summit': 4640,\n",
       " 'unseasonably': 5037,\n",
       " 'united': 5019,\n",
       " 'states': 4543,\n",
       " 'feels': 1878,\n",
       " 'complex': 984,\n",
       " 'fix': 1928,\n",
       " 'strides': 4586,\n",
       " 'wind': 5285,\n",
       " 'solar': 4446,\n",
       " 'common': 958,\n",
       " 'education': 1559,\n",
       " 'myself': 3205,\n",
       " 'solutions': 4450,\n",
       " 'average': 434,\n",
       " 'person': 3542,\n",
       " 'pricey': 3728,\n",
       " 'donate': 1452,\n",
       " 'organizations': 3394,\n",
       " 'awareness': 440,\n",
       " 'cleaner': 882,\n",
       " 'greener': 2184,\n",
       " 'currently': 1181,\n",
       " '2016': 42,\n",
       " 'seasons': 4262,\n",
       " 'began': 512,\n",
       " 'shift': 4327,\n",
       " 'greatly': 2179,\n",
       " 'ever': 1712,\n",
       " 'december': 1247,\n",
       " 'wear': 5224,\n",
       " 'shorts': 4345,\n",
       " 'capri': 737,\n",
       " 'pants': 3464,\n",
       " 'daily': 1196,\n",
       " 'basis': 478,\n",
       " 'regarding': 3991,\n",
       " 'studies': 4603,\n",
       " 'watching': 5209,\n",
       " 'saving': 4218,\n",
       " 'moving': 3181,\n",
       " 'look': 2913,\n",
       " 'public': 3818,\n",
       " 'transportation': 4905,\n",
       " 'deciding': 1251,\n",
       " 'course': 1137,\n",
       " 'immediately': 2462,\n",
       " 'times': 4845,\n",
       " 'hoping': 2379,\n",
       " 'history': 2347,\n",
       " 'book': 600,\n",
       " 'vs': 5158,\n",
       " 'maintain': 2967,\n",
       " 'lifestyle': 2847,\n",
       " 'serious': 4297,\n",
       " 'deal': 1230,\n",
       " 'write': 5352,\n",
       " 'warmest': 5182,\n",
       " 'record': 3951,\n",
       " 'several': 4308,\n",
       " 'weeks': 5238,\n",
       " 'seen': 4278,\n",
       " 'terrible': 4764,\n",
       " 'events': 1709,\n",
       " 'across': 142,\n",
       " 'somewhat': 4462,\n",
       " 'ashamed': 385,\n",
       " 'defense': 1270,\n",
       " 'compared': 973,\n",
       " 'north': 3288,\n",
       " 'americans': 301,\n",
       " 'fairly': 1824,\n",
       " 'green': 2183,\n",
       " 'tend': 4757,\n",
       " 'weekends': 5236,\n",
       " 'urban': 5059,\n",
       " 'area': 365,\n",
       " 'generally': 2087,\n",
       " 'follow': 1960,\n",
       " 'environmentally': 1679,\n",
       " 'friendly': 2017,\n",
       " 'precepts': 3692,\n",
       " 'northeastern': 3289,\n",
       " 'liberals': 2840,\n",
       " 'fly': 1951,\n",
       " 'holiday': 2357,\n",
       " 'trip': 4940,\n",
       " 'middle': 3083,\n",
       " 'age': 227,\n",
       " 'talking': 4716,\n",
       " 'particularly': 3486,\n",
       " 'optimistic': 3383,\n",
       " 'aggregated': 232,\n",
       " 'unless': 5026,\n",
       " 'truly': 4950,\n",
       " 'mobilized': 3137,\n",
       " 'political': 3629,\n",
       " 'movement': 3177,\n",
       " 'technological': 4739,\n",
       " 'innovation': 2564,\n",
       " 'driven': 1493,\n",
       " 'necessity': 3234,\n",
       " 'rising': 4139,\n",
       " 'seas': 4260,\n",
       " 'unstable': 5038,\n",
       " 'reactive': 3907,\n",
       " 'defensive': 1271,\n",
       " 'ameliorate': 297,\n",
       " 'worst': 5340,\n",
       " 'outcomes': 3413,\n",
       " 'alive': 261,\n",
       " 'share': 4320,\n",
       " 'livable': 2884,\n",
       " 'lantz': 2767,\n",
       " 'knows': 2746,\n",
       " 'concern': 999,\n",
       " 'sometimes': 4461,\n",
       " 'reasons': 3928,\n",
       " 'first': 1919,\n",
       " 'repurposing': 4063,\n",
       " 'rags': 3866,\n",
       " 'clothes': 906,\n",
       " 'messes': 3065,\n",
       " 'haha': 2227,\n",
       " 'paper': 3466,\n",
       " 'towels': 4884,\n",
       " 'containers': 1063,\n",
       " 'jars': 2669,\n",
       " 'number': 3309,\n",
       " 'purposes': 3836,\n",
       " 'composting': 991,\n",
       " 'scraps': 4250,\n",
       " 'compost': 988,\n",
       " 'pile': 3571,\n",
       " 'lasts': 2776,\n",
       " 'pair': 3456,\n",
       " 'errands': 1691,\n",
       " 'feasibly': 1871,\n",
       " 'canning': 728,\n",
       " 'buy': 699,\n",
       " 'shipped': 4332,\n",
       " 'everywhere': 1720,\n",
       " 'plant': 3589,\n",
       " 'trees': 4922,\n",
       " 'homestead': 2362,\n",
       " 'install': 2574,\n",
       " 'power': 3679,\n",
       " 'electricity': 1592,\n",
       " 'sources': 4478,\n",
       " 'll': 2891,\n",
       " 'gusts': 2212,\n",
       " 'sometime': 4460,\n",
       " 'grandbabies': 2159,\n",
       " 'forever': 1979,\n",
       " 'baby': 447,\n",
       " 'beset': 542,\n",
       " 'continuously': 1074,\n",
       " ...}"
      ]
     },
     "execution_count": 25,
     "metadata": {},
     "output_type": "execute_result"
    }
   ],
   "source": [
    "word_counter.vocabulary_"
   ]
  },
  {
   "cell_type": "markdown",
   "metadata": {},
   "source": [
    "# Logistic Regression Model"
   ]
  },
  {
   "cell_type": "markdown",
   "metadata": {},
   "source": [
    "Importing some sklearn functions that are important to fitting a model"
   ]
  },
  {
   "cell_type": "code",
   "execution_count": 26,
   "metadata": {},
   "outputs": [],
   "source": [
    "from sklearn.linear_model import LogisticRegression\n",
    "from sklearn.model_selection import GridSearchCV"
   ]
  },
  {
   "cell_type": "markdown",
   "metadata": {},
   "source": [
    "Getting the target variables in a less-formated structure"
   ]
  },
  {
   "cell_type": "code",
   "execution_count": 27,
   "metadata": {},
   "outputs": [],
   "source": [
    "test_Y = test_df['big_donator'].values\n",
    "train_Y = train_df['big_donator'].values"
   ]
  },
  {
   "cell_type": "markdown",
   "metadata": {},
   "source": [
    "Fitting a logistic regression model based on 5-fold cross validation grid search with several regularization options"
   ]
  },
  {
   "cell_type": "code",
   "execution_count": 28,
   "metadata": {},
   "outputs": [
    {
     "data": {
      "text/plain": [
       "GridSearchCV(cv=5, error_score='raise',\n",
       "       estimator=LogisticRegression(C=1.0, class_weight=None, dual=False, fit_intercept=True,\n",
       "          intercept_scaling=1, max_iter=100, multi_class='ovr', n_jobs=1,\n",
       "          penalty='l2', random_state=123, solver='liblinear', tol=0.0001,\n",
       "          verbose=0, warm_start=False),\n",
       "       fit_params=None, iid=True, n_jobs=1,\n",
       "       param_grid=[{'C': [1e-06, 1e-05, 0.0001, 0.001, 0.01, 0.1, 1.0, 10.0, 100.0]}],\n",
       "       pre_dispatch='2*n_jobs', refit=True, return_train_score='warn',\n",
       "       scoring=None, verbose=0)"
      ]
     },
     "execution_count": 28,
     "metadata": {},
     "output_type": "execute_result"
    }
   ],
   "source": [
    "classifier = LogisticRegression(random_state = 123)\n",
    "regularization_options = [{'C': [1e-6, 1e-5, 1e-4, 1e-3, 1e-2, 1e-1, 1e0, 1e1, 1e2]}]\n",
    "gs_classifier = GridSearchCV(classifier, regularization_options, cv = 5)\n",
    "\n",
    "gs_classifier.fit(X = train_word_counts, y = train_Y)"
   ]
  },
  {
   "cell_type": "markdown",
   "metadata": {},
   "source": [
    "# Model Evaluation"
   ]
  },
  {
   "cell_type": "markdown",
   "metadata": {},
   "source": [
    "Importing some sklearn functions that are helpful after fitting a model"
   ]
  },
  {
   "cell_type": "code",
   "execution_count": 29,
   "metadata": {},
   "outputs": [],
   "source": [
    "from sklearn.metrics import accuracy_score, confusion_matrix"
   ]
  },
  {
   "cell_type": "markdown",
   "metadata": {},
   "source": [
    "### Train set - In sample"
   ]
  },
  {
   "cell_type": "markdown",
   "metadata": {},
   "source": [
    "Determining the training set accuracy"
   ]
  },
  {
   "cell_type": "code",
   "execution_count": 30,
   "metadata": {},
   "outputs": [
    {
     "data": {
      "text/plain": [
       "1.0"
      ]
     },
     "execution_count": 30,
     "metadata": {},
     "output_type": "execute_result"
    }
   ],
   "source": [
    "train_predictions = gs_classifier.predict(X = train_word_counts)\n",
    "\n",
    "accuracy_score(train_predictions, train_Y)"
   ]
  },
  {
   "cell_type": "markdown",
   "metadata": {},
   "source": [
    "Viewing the confusion matrix"
   ]
  },
  {
   "cell_type": "code",
   "execution_count": 31,
   "metadata": {},
   "outputs": [
    {
     "data": {
      "text/plain": [
       "array([[249,   0],\n",
       "       [  0, 222]])"
      ]
     },
     "execution_count": 31,
     "metadata": {},
     "output_type": "execute_result"
    }
   ],
   "source": [
    "confusion_matrix(train_predictions, train_Y)"
   ]
  },
  {
   "cell_type": "markdown",
   "metadata": {},
   "source": [
    "### Test set - Out of sample"
   ]
  },
  {
   "cell_type": "code",
   "execution_count": 32,
   "metadata": {},
   "outputs": [
    {
     "data": {
      "text/plain": [
       "0.5677966101694916"
      ]
     },
     "execution_count": 32,
     "metadata": {},
     "output_type": "execute_result"
    }
   ],
   "source": [
    "test_predictions = gs_classifier.predict(X = test_word_counts)\n",
    "\n",
    "accuracy_score(test_predictions, test_Y)"
   ]
  },
  {
   "cell_type": "code",
   "execution_count": 33,
   "metadata": {},
   "outputs": [
    {
     "data": {
      "text/plain": [
       "array([[35, 31],\n",
       "       [20, 32]])"
      ]
     },
     "execution_count": 33,
     "metadata": {},
     "output_type": "execute_result"
    }
   ],
   "source": [
    "confusion_matrix(test_predictions, test_Y)"
   ]
  },
  {
   "cell_type": "markdown",
   "metadata": {},
   "source": [
    "# Other Ways to Quantify Text"
   ]
  },
  {
   "cell_type": "markdown",
   "metadata": {},
   "source": [
    "## 1. Inverse frequency counting"
   ]
  },
  {
   "cell_type": "code",
   "execution_count": 34,
   "metadata": {},
   "outputs": [],
   "source": [
    "from sklearn.feature_extraction.text import TfidfVectorizer"
   ]
  },
  {
   "cell_type": "code",
   "execution_count": 35,
   "metadata": {},
   "outputs": [
    {
     "data": {
      "text/plain": [
       "['at', 'cires', 'earth', 'in', 'is', 'lab', 'work']"
      ]
     },
     "execution_count": 35,
     "metadata": {},
     "output_type": "execute_result"
    }
   ],
   "source": [
    "inverse_freq_counter = TfidfVectorizer(ngram_range = (1, 1))\n",
    "\n",
    "sentence_array = np.array(['I work in CIRES', 'I work at Earth Lab', 'Work is work'])\n",
    "\n",
    "inverse_freq_counter.fit(sentence_array)\n",
    "inverse_freq_counter.get_feature_names()"
   ]
  },
  {
   "cell_type": "code",
   "execution_count": 36,
   "metadata": {},
   "outputs": [
    {
     "data": {
      "text/plain": [
       "matrix([[0.        , 0.65249088, 0.        , 0.65249088, 0.        ,\n",
       "         0.        , 0.38537163],\n",
       "        [0.54645401, 0.        , 0.54645401, 0.        , 0.        ,\n",
       "         0.54645401, 0.32274454],\n",
       "        [0.        , 0.        , 0.        , 0.        , 0.64612892,\n",
       "         0.        , 0.76322829]])"
      ]
     },
     "execution_count": 36,
     "metadata": {},
     "output_type": "execute_result"
    }
   ],
   "source": [
    "tf_idf_weightings = inverse_freq_counter.transform(sentence_array)\n",
    "tf_idf_weightings.todense()"
   ]
  },
  {
   "cell_type": "code",
   "execution_count": 37,
   "metadata": {},
   "outputs": [
    {
     "data": {
      "text/plain": [
       "matrix([[0, 1, 0, 1, 0, 0, 1],\n",
       "        [1, 0, 1, 0, 0, 1, 1],\n",
       "        [0, 0, 0, 0, 1, 0, 2]])"
      ]
     },
     "execution_count": 37,
     "metadata": {},
     "output_type": "execute_result"
    }
   ],
   "source": [
    "word_counter_proof = CountVectorizer(ngram_range = (1, 1))\n",
    "\n",
    "word_counter_proof.fit(sentence_array)\n",
    "\n",
    "word_count_values = word_counter_proof.transform(sentence_array)\n",
    "word_count_values.todense()"
   ]
  },
  {
   "cell_type": "markdown",
   "metadata": {},
   "source": [
    "## 2. Latent Dirichlet Allocation"
   ]
  },
  {
   "cell_type": "code",
   "execution_count": 45,
   "metadata": {},
   "outputs": [],
   "source": [
    "import gensim\n",
    "from gensim import corpora\n",
    "\n",
    "import string\n",
    "\n",
    "import nltk\n",
    "from nltk.corpus import stopwords \n",
    "from nltk.stem.wordnet import WordNetLemmatizer"
   ]
  },
  {
   "cell_type": "code",
   "execution_count": 46,
   "metadata": {},
   "outputs": [],
   "source": [
    "stopwords = set(stopwords.words('english'))\n",
    "punctuation = set(string.punctuation) \n",
    "lemmatize = WordNetLemmatizer()\n",
    "\n",
    "def cleaning(article):\n",
    "    one = \" \".join([i for i in article.lower().split() if i not in stopwords])\n",
    "    two = \"\".join(i for i in one if i not in punctuation)\n",
    "    three = \" \".join(lemmatize.lemmatize(i) for i in two.split())\n",
    "    return three"
   ]
  },
  {
   "cell_type": "code",
   "execution_count": 47,
   "metadata": {},
   "outputs": [
    {
     "data": {
      "text/plain": [
       "589"
      ]
     },
     "execution_count": 47,
     "metadata": {},
     "output_type": "execute_result"
    }
   ],
   "source": [
    "only_essays = pd.DataFrame(subsetted_df['essay'])\n",
    "text = only_essays.applymap(cleaning)['essay']\n",
    "text_list = [i.split() for i in text]\n",
    "len(text_list)"
   ]
  },
  {
   "cell_type": "code",
   "execution_count": 48,
   "metadata": {},
   "outputs": [
    {
     "name": "stdout",
     "output_type": "stream",
     "text": [
      "Dictionary(5668 unique tokens: ['2015', '37', '7', 'ability', 'adelyn']...)\n"
     ]
    }
   ],
   "source": [
    "dictionary = corpora.Dictionary(text_list)\n",
    "dictionary.save('dictionary.dict')\n",
    "print(dictionary)"
   ]
  },
  {
   "cell_type": "code",
   "execution_count": 49,
   "metadata": {},
   "outputs": [],
   "source": [
    "doc_term_matrix = [dictionary.doc2bow(doc) for doc in text_list]"
   ]
  },
  {
   "cell_type": "code",
   "execution_count": 51,
   "metadata": {},
   "outputs": [],
   "source": [
    "Lda = gensim.models.ldamodel.LdaModel\n",
    "\n",
    "# Running and Trainign LDA model on the document term matrix.\n",
    "ldamodel = Lda(doc_term_matrix, num_topics=10, id2word = dictionary, passes=50)"
   ]
  },
  {
   "cell_type": "code",
   "execution_count": 54,
   "metadata": {},
   "outputs": [
    {
     "data": {
      "text/plain": [
       "[(0,\n",
       "  '0.012*\"change\" + 0.009*\"climate\" + 0.006*\"care\" + 0.005*\"like\" + 0.005*\"get\" + 0.005*\"im\" + 0.005*\"would\" + 0.005*\"lot\" + 0.004*\"weather\" + 0.004*\"make\"'),\n",
       " (1,\n",
       "  '0.021*\"people\" + 0.018*\"change\" + 0.014*\"climate\" + 0.010*\"earth\" + 0.010*\"many\" + 0.009*\"believe\" + 0.008*\"hope\" + 0.008*\"time\" + 0.007*\"thing\" + 0.007*\"year\"'),\n",
       " (2,\n",
       "  '0.015*\"change\" + 0.013*\"climate\" + 0.009*\"people\" + 0.009*\"hope\" + 0.009*\"im\" + 0.008*\"world\" + 0.008*\"thing\" + 0.008*\"year\" + 0.007*\"make\" + 0.007*\"time\"'),\n",
       " (3,\n",
       "  '0.020*\"change\" + 0.017*\"climate\" + 0.014*\"hope\" + 0.009*\"world\" + 0.009*\"make\" + 0.009*\"future\" + 0.009*\"energy\" + 0.009*\"earth\" + 0.009*\"thing\" + 0.008*\"help\"'),\n",
       " (4,\n",
       "  '0.011*\"would\" + 0.010*\"change\" + 0.009*\"environment\" + 0.008*\"thing\" + 0.008*\"climate\" + 0.008*\"water\" + 0.007*\"help\" + 0.007*\"world\" + 0.007*\"future\" + 0.006*\"car\"'),\n",
       " (5,\n",
       "  '0.005*\"beautiful\" + 0.004*\"decrease\" + 0.004*\"chosen\" + 0.004*\"defined\" + 0.004*\"breath\" + 0.003*\"roof\" + 0.003*\"news\" + 0.003*\"winter\" + 0.003*\"create\" + 0.003*\"daddy\"'),\n",
       " (6,\n",
       "  '0.013*\"energy\" + 0.013*\"change\" + 0.012*\"climate\" + 0.012*\"use\" + 0.008*\"year\" + 0.008*\"efficient\" + 0.007*\"hope\" + 0.007*\"thing\" + 0.007*\"much\" + 0.006*\"many\"'),\n",
       " (7,\n",
       "  '0.007*\"climate\" + 0.006*\"nature\" + 0.005*\"believe\" + 0.005*\"remember\" + 0.005*\"son\" + 0.005*\"know\" + 0.004*\"change\" + 0.004*\"chose\" + 0.004*\"global\" + 0.004*\"time\"'),\n",
       " (8,\n",
       "  '0.014*\"change\" + 0.014*\"know\" + 0.013*\"climate\" + 0.010*\"also\" + 0.008*\"earth\" + 0.007*\"say\" + 0.007*\"dont\" + 0.007*\"else\" + 0.006*\"energy\" + 0.006*\"hope\"'),\n",
       " (9,\n",
       "  '0.007*\"change\" + 0.006*\"issue\" + 0.006*\"emission\" + 0.006*\"climate\" + 0.006*\"time\" + 0.005*\"effect\" + 0.005*\"tree\" + 0.004*\"life\" + 0.004*\"it\" + 0.004*\"house\"')]"
      ]
     },
     "execution_count": 54,
     "metadata": {},
     "output_type": "execute_result"
    }
   ],
   "source": [
    "ldamodel.print_topics(10)"
   ]
  },
  {
   "cell_type": "markdown",
   "metadata": {},
   "source": [
    "<br><br><br>"
   ]
  },
  {
   "cell_type": "markdown",
   "metadata": {},
   "source": [
    "# Predicting donations"
   ]
  },
  {
   "cell_type": "code",
   "execution_count": null,
   "metadata": {},
   "outputs": [],
   "source": [
    "subsetted_df = climate_essay_df[climate_essay_df['trt1'] == 1]\n",
    "subsetted_df = subsetted_df[['trt1', 'don', 'essay']]\n",
    "subsetted_df.shape"
   ]
  },
  {
   "cell_type": "code",
   "execution_count": null,
   "metadata": {},
   "outputs": [],
   "source": [
    "plt.hist(subsetted_df['don']);"
   ]
  },
  {
   "cell_type": "code",
   "execution_count": null,
   "metadata": {},
   "outputs": [],
   "source": [
    "subsetted_df.head()"
   ]
  },
  {
   "cell_type": "code",
   "execution_count": null,
   "metadata": {},
   "outputs": [],
   "source": [
    "train_df, test_df = train_test_split(subsetted_df, test_size = 0.2)\n",
    "\n",
    "train_Y = train_df['don'].values\n",
    "test_Y = test_df['don'].values\n",
    "\n",
    "train_essays = train_df['essay'].values\n",
    "test_essays = test_df['essay'].values\n",
    "\n",
    "word_counter = CountVectorizer()\n",
    "word_counter.fit(train_essays)\n",
    "\n",
    "train_word_counts = word_counter.transform(train_essays)\n",
    "test_word_counts = word_counter.transform(test_essays)"
   ]
  },
  {
   "cell_type": "code",
   "execution_count": null,
   "metadata": {},
   "outputs": [],
   "source": [
    "from sklearn.linear_model import LinearRegression"
   ]
  },
  {
   "cell_type": "code",
   "execution_count": null,
   "metadata": {},
   "outputs": [],
   "source": [
    "regressor = LinearRegression()\n",
    "regressor.fit(X = train_word_counts, y = train_Y)"
   ]
  },
  {
   "cell_type": "code",
   "execution_count": null,
   "metadata": {},
   "outputs": [],
   "source": [
    "train_predictions = regressor.predict(train_word_counts)\n",
    "plt.scatter(train_predictions, train_Y)"
   ]
  },
  {
   "cell_type": "code",
   "execution_count": null,
   "metadata": {},
   "outputs": [],
   "source": [
    "plt.scatter(train_predictions, train_Y)"
   ]
  },
  {
   "cell_type": "code",
   "execution_count": null,
   "metadata": {},
   "outputs": [],
   "source": [
    "test_predictions = regressor.predict(test_word_counts)\n",
    "plt.scatter(test_predictions, test_Y)"
   ]
  },
  {
   "cell_type": "markdown",
   "metadata": {},
   "source": [
    "<br><br><br>"
   ]
  },
  {
   "cell_type": "code",
   "execution_count": null,
   "metadata": {},
   "outputs": [],
   "source": [
    "from sklearn.linear_model import Ridge"
   ]
  },
  {
   "cell_type": "code",
   "execution_count": null,
   "metadata": {},
   "outputs": [],
   "source": [
    "regressor = Ridge()\n",
    "regularization_options = [{'alpha': [1e-6, 1e-5, 1e-4, 1e-3, 1e-2, 1e-1, 1e0, 1e1, 1e2]}]\n",
    "gs_regressor = GridSearchCV(regressor, regularization_options, cv = 5)\n",
    "\n",
    "gs_regressor.fit(X = train_word_counts, y = train_Y)"
   ]
  },
  {
   "cell_type": "code",
   "execution_count": null,
   "metadata": {},
   "outputs": [],
   "source": [
    "train_predictions = gs_regressor.predict(train_word_counts)\n",
    "plt.scatter(train_predictions, train_Y)"
   ]
  },
  {
   "cell_type": "code",
   "execution_count": null,
   "metadata": {},
   "outputs": [],
   "source": [
    "test_predictions = gs_regressor.predict(test_word_counts)\n",
    "plt.scatter(test_predictions, test_Y)"
   ]
  }
 ],
 "metadata": {
  "kernelspec": {
   "display_name": "Python 3",
   "language": "python",
   "name": "python3"
  },
  "language_info": {
   "codemirror_mode": {
    "name": "ipython",
    "version": 3
   },
   "file_extension": ".py",
   "mimetype": "text/x-python",
   "name": "python",
   "nbconvert_exporter": "python",
   "pygments_lexer": "ipython3",
   "version": "3.6.4"
  }
 },
 "nbformat": 4,
 "nbformat_minor": 2
}
