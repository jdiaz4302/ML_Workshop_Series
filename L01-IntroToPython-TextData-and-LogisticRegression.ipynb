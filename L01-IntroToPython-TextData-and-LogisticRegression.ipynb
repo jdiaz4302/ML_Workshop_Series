{
 "cells": [
  {
   "cell_type": "markdown",
   "metadata": {},
   "source": [
    "# 0. Set up"
   ]
  },
  {
   "cell_type": "markdown",
   "metadata": {},
   "source": [
    "Prior to Python, I had only used R, so I was surprised to learn that you need to import libraries for routine tasks like handling a dataframe, doing vectorized math, and data visualization. This is what we are doing below."
   ]
  },
  {
   "cell_type": "code",
   "execution_count": 2,
   "metadata": {},
   "outputs": [],
   "source": [
    "# Standard data science libraries\n",
    "# Used for dataframes\n",
    "import pandas as pd\n",
    "# Used for doing math\n",
    "import numpy as np\n",
    "# Used for visualization\n",
    "import matplotlib.pyplot as plt\n",
    "\n",
    "# Making the plot show within our notebook\n",
    "%matplotlib inline\n",
    "\n",
    "# Allowing us to set the plot size\n",
    "import pylab\n",
    "pylab.rcParams['figure.figsize'] = (10, 10)"
   ]
  },
  {
   "cell_type": "markdown",
   "metadata": {},
   "source": [
    "# 1. Data Import"
   ]
  },
  {
   "cell_type": "markdown",
   "metadata": {},
   "source": [
    "Now that we have our standard data libraries imported, let's import some actual data.\n",
    "\n",
    "## 1.1 Storm Events background information\n",
    "\n",
    "The following data is the Storm Events 2016 data. Storm Event is a NOAA-sponsored data set that tries to record major weather events and their social impacts. It started in the 1950s as a tornado data set, but has since expanded to nearly every kind of event imaginable, from freezing fog to heat waves to hurricanes.\n",
    "\n",
    "Although Storm Events has 10s of traditional columns (such as lat, lon, and date), it also contains narratives columns; columns which contain text descriptions of that row's specific event.\n",
    "\n",
    "In this lesson we'll be using this narrative column to predict the EF (enhance Fujita) scale of tornadoes."
   ]
  },
  {
   "cell_type": "markdown",
   "metadata": {},
   "source": [
    "<br><br>\n",
    "## 1.2. Importing and viewing a .csv file\n",
    "\n",
    "One thing that is important to know (for non-Python users), is that most popular Python libraries have functions which aid in data science. This functions generally creation objects (just as in R) and these objects generally have many methods (not like R). Methods are somewhat internal ways of manipulating an object and these are used in the following way: `object.method()` where sometimes you need the parentheses, sometimes you don't; this will generally be obvious through simple trial and error."
   ]
  },
  {
   "cell_type": "code",
   "execution_count": 13,
   "metadata": {},
   "outputs": [
    {
     "data": {
      "text/html": [
       "<div>\n",
       "<style scoped>\n",
       "    .dataframe tbody tr th:only-of-type {\n",
       "        vertical-align: middle;\n",
       "    }\n",
       "\n",
       "    .dataframe tbody tr th {\n",
       "        vertical-align: top;\n",
       "    }\n",
       "\n",
       "    .dataframe thead th {\n",
       "        text-align: right;\n",
       "    }\n",
       "</style>\n",
       "<table border=\"1\" class=\"dataframe\">\n",
       "  <thead>\n",
       "    <tr style=\"text-align: right;\">\n",
       "      <th></th>\n",
       "      <th>BEGIN_YEARMONTH</th>\n",
       "      <th>BEGIN_DAY</th>\n",
       "      <th>BEGIN_TIME</th>\n",
       "      <th>END_YEARMONTH</th>\n",
       "      <th>END_DAY</th>\n",
       "      <th>END_TIME</th>\n",
       "      <th>EPISODE_ID</th>\n",
       "      <th>EVENT_ID</th>\n",
       "      <th>STATE</th>\n",
       "      <th>STATE_FIPS</th>\n",
       "      <th>...</th>\n",
       "      <th>END_RANGE</th>\n",
       "      <th>END_AZIMUTH</th>\n",
       "      <th>END_LOCATION</th>\n",
       "      <th>BEGIN_LAT</th>\n",
       "      <th>BEGIN_LON</th>\n",
       "      <th>END_LAT</th>\n",
       "      <th>END_LON</th>\n",
       "      <th>EPISODE_NARRATIVE</th>\n",
       "      <th>EVENT_NARRATIVE</th>\n",
       "      <th>DATA_SOURCE</th>\n",
       "    </tr>\n",
       "  </thead>\n",
       "  <tbody>\n",
       "    <tr>\n",
       "      <th>0</th>\n",
       "      <td>201607</td>\n",
       "      <td>15</td>\n",
       "      <td>1715</td>\n",
       "      <td>201607</td>\n",
       "      <td>15</td>\n",
       "      <td>1715</td>\n",
       "      <td>108769</td>\n",
       "      <td>651823</td>\n",
       "      <td>SOUTH CAROLINA</td>\n",
       "      <td>45</td>\n",
       "      <td>...</td>\n",
       "      <td>1.0</td>\n",
       "      <td>N</td>\n",
       "      <td>BOYD HILL</td>\n",
       "      <td>34.94</td>\n",
       "      <td>-81.03</td>\n",
       "      <td>34.94</td>\n",
       "      <td>-81.03</td>\n",
       "      <td>Scattered thunderstorms developed across the U...</td>\n",
       "      <td>One to two feet of deep standing water develop...</td>\n",
       "      <td>CSV</td>\n",
       "    </tr>\n",
       "    <tr>\n",
       "      <th>1</th>\n",
       "      <td>201607</td>\n",
       "      <td>15</td>\n",
       "      <td>1725</td>\n",
       "      <td>201607</td>\n",
       "      <td>15</td>\n",
       "      <td>1725</td>\n",
       "      <td>108769</td>\n",
       "      <td>651825</td>\n",
       "      <td>SOUTH CAROLINA</td>\n",
       "      <td>45</td>\n",
       "      <td>...</td>\n",
       "      <td>1.0</td>\n",
       "      <td>S</td>\n",
       "      <td>FT MILL</td>\n",
       "      <td>35.01</td>\n",
       "      <td>-80.93</td>\n",
       "      <td>35.01</td>\n",
       "      <td>-80.93</td>\n",
       "      <td>Scattered thunderstorms developed across the U...</td>\n",
       "      <td>NWS Columbia relayed a report of trees blown d...</td>\n",
       "      <td>CSV</td>\n",
       "    </tr>\n",
       "    <tr>\n",
       "      <th>2</th>\n",
       "      <td>201607</td>\n",
       "      <td>16</td>\n",
       "      <td>1246</td>\n",
       "      <td>201607</td>\n",
       "      <td>16</td>\n",
       "      <td>1246</td>\n",
       "      <td>108812</td>\n",
       "      <td>651828</td>\n",
       "      <td>NORTH CAROLINA</td>\n",
       "      <td>37</td>\n",
       "      <td>...</td>\n",
       "      <td>2.0</td>\n",
       "      <td>ENE</td>\n",
       "      <td>OLD FT</td>\n",
       "      <td>35.64</td>\n",
       "      <td>-82.14</td>\n",
       "      <td>35.64</td>\n",
       "      <td>-82.14</td>\n",
       "      <td>Scattered thunderstorms developed near the Blu...</td>\n",
       "      <td>Media reported two trees blown down along I-40...</td>\n",
       "      <td>CSV</td>\n",
       "    </tr>\n",
       "  </tbody>\n",
       "</table>\n",
       "<p>3 rows × 51 columns</p>\n",
       "</div>"
      ],
      "text/plain": [
       "   BEGIN_YEARMONTH  BEGIN_DAY  BEGIN_TIME  END_YEARMONTH  END_DAY  END_TIME  \\\n",
       "0           201607         15        1715         201607       15      1715   \n",
       "1           201607         15        1725         201607       15      1725   \n",
       "2           201607         16        1246         201607       16      1246   \n",
       "\n",
       "   EPISODE_ID  EVENT_ID           STATE  STATE_FIPS     ...      END_RANGE  \\\n",
       "0      108769    651823  SOUTH CAROLINA          45     ...            1.0   \n",
       "1      108769    651825  SOUTH CAROLINA          45     ...            1.0   \n",
       "2      108812    651828  NORTH CAROLINA          37     ...            2.0   \n",
       "\n",
       "  END_AZIMUTH END_LOCATION BEGIN_LAT  BEGIN_LON END_LAT END_LON  \\\n",
       "0           N    BOYD HILL     34.94     -81.03   34.94  -81.03   \n",
       "1           S      FT MILL     35.01     -80.93   35.01  -80.93   \n",
       "2         ENE       OLD FT     35.64     -82.14   35.64  -82.14   \n",
       "\n",
       "                                   EPISODE_NARRATIVE  \\\n",
       "0  Scattered thunderstorms developed across the U...   \n",
       "1  Scattered thunderstorms developed across the U...   \n",
       "2  Scattered thunderstorms developed near the Blu...   \n",
       "\n",
       "                                     EVENT_NARRATIVE DATA_SOURCE  \n",
       "0  One to two feet of deep standing water develop...         CSV  \n",
       "1  NWS Columbia relayed a report of trees blown d...         CSV  \n",
       "2  Media reported two trees blown down along I-40...         CSV  \n",
       "\n",
       "[3 rows x 51 columns]"
      ]
     },
     "execution_count": 13,
     "metadata": {},
     "output_type": "execute_result"
    }
   ],
   "source": [
    "# The equivalent of R's read.csv() - read in the csv file\n",
    "Storm_Events_2016 = pd.read_csv('/home/jeremydiaz/tornadoesr/data/raw/StormEvents_details-ftp_v1.0_d2016_c20171116.csv.gz')\n",
    "\n",
    "# The equivalent of R's head() - display the first x rows of a data set\n",
    "Storm_Events_2016.head(3)"
   ]
  },
  {
   "cell_type": "markdown",
   "metadata": {},
   "source": [
    "<br><br><br>\n",
    "# 2. Basic data set exploration\n",
    "\n",
    "Now that we have the data imported, let's inspect it a little.\n",
    "\n",
    "## 2.1 Viewing data set characteristics (columns and size)\n",
    "\n",
    "This notebook cell prints the columns within the data set. Notice the above method required parentheses while the one below did not"
   ]
  },
  {
   "cell_type": "code",
   "execution_count": 15,
   "metadata": {},
   "outputs": [
    {
     "data": {
      "text/plain": [
       "Index(['BEGIN_YEARMONTH', 'BEGIN_DAY', 'BEGIN_TIME', 'END_YEARMONTH',\n",
       "       'END_DAY', 'END_TIME', 'EPISODE_ID', 'EVENT_ID', 'STATE', 'STATE_FIPS',\n",
       "       'YEAR', 'MONTH_NAME', 'EVENT_TYPE', 'CZ_TYPE', 'CZ_FIPS', 'CZ_NAME',\n",
       "       'WFO', 'BEGIN_DATE_TIME', 'CZ_TIMEZONE', 'END_DATE_TIME',\n",
       "       'INJURIES_DIRECT', 'INJURIES_INDIRECT', 'DEATHS_DIRECT',\n",
       "       'DEATHS_INDIRECT', 'DAMAGE_PROPERTY', 'DAMAGE_CROPS', 'SOURCE',\n",
       "       'MAGNITUDE', 'MAGNITUDE_TYPE', 'FLOOD_CAUSE', 'CATEGORY', 'TOR_F_SCALE',\n",
       "       'TOR_LENGTH', 'TOR_WIDTH', 'TOR_OTHER_WFO', 'TOR_OTHER_CZ_STATE',\n",
       "       'TOR_OTHER_CZ_FIPS', 'TOR_OTHER_CZ_NAME', 'BEGIN_RANGE',\n",
       "       'BEGIN_AZIMUTH', 'BEGIN_LOCATION', 'END_RANGE', 'END_AZIMUTH',\n",
       "       'END_LOCATION', 'BEGIN_LAT', 'BEGIN_LON', 'END_LAT', 'END_LON',\n",
       "       'EPISODE_NARRATIVE', 'EVENT_NARRATIVE', 'DATA_SOURCE'],\n",
       "      dtype='object')"
      ]
     },
     "execution_count": 15,
     "metadata": {},
     "output_type": "execute_result"
    }
   ],
   "source": [
    "# The equivalent of R's colnames() - view the data set's columns\n",
    "Storm_Events_2016.columns"
   ]
  },
  {
   "cell_type": "markdown",
   "metadata": {},
   "source": [
    "This notebook cell prints the `(rows, columns)` of the data set"
   ]
  },
  {
   "cell_type": "code",
   "execution_count": 6,
   "metadata": {},
   "outputs": [
    {
     "data": {
      "text/plain": [
       "(55964, 51)"
      ]
     },
     "execution_count": 6,
     "metadata": {},
     "output_type": "execute_result"
    }
   ],
   "source": [
    "# The equivalent of R's dim() - view the size of the data set\n",
    "Storm_Events_2016.shape"
   ]
  },
  {
   "cell_type": "markdown",
   "metadata": {},
   "source": [
    "<br><br>\n",
    "# 2.2.0. Inspecting a (categorical) column\n",
    "\n",
    "Remember that we are interested in the tornado events, and, surely, there were not 56,000 tornadoes in 2016.\n",
    "\n",
    "Let's view the breakdown of event types from 2016"
   ]
  },
  {
   "cell_type": "code",
   "execution_count": 8,
   "metadata": {},
   "outputs": [
    {
     "data": {
      "text/plain": [
       "Thunderstorm Wind             15657\n",
       "Hail                           9388\n",
       "Flash Flood                    3586\n",
       "High Wind                      3107\n",
       "Winter Weather                 2916\n",
       "Winter Storm                   2367\n",
       "Drought                        2271\n",
       "Marine Thunderstorm Wind       2173\n",
       "Heavy Rain                     1795\n",
       "Flood                          1703\n",
       "Heavy Snow                     1518\n",
       "Tornado                        1079\n",
       "Strong Wind                     902\n",
       "Frost/Freeze                    832\n",
       "Dense Fog                       829\n",
       "Heat                            811\n",
       "Extreme Cold/Wind Chill         570\n",
       "High Surf                       568\n",
       "Excessive Heat                  555\n",
       "Blizzard                        544\n",
       "Lightning                       408\n",
       "Wildfire                        347\n",
       "Tropical Storm                  319\n",
       "Funnel Cloud                    289\n",
       "Lake-Effect Snow                250\n",
       "Coastal Flood                   223\n",
       "Waterspout                      199\n",
       "Cold/Wind Chill                 181\n",
       "Ice Storm                       101\n",
       "Rip Current                      69\n",
       "Dust Storm                       68\n",
       "Debris Flow                      52\n",
       "Marine High Wind                 48\n",
       "Astronomical Low Tide            46\n",
       "Storm Surge/Tide                 34\n",
       "Avalanche                        30\n",
       "Hurricane (Typhoon)              30\n",
       "Marine Hail                      23\n",
       "Dust Devil                       13\n",
       "Marine Tropical Storm            13\n",
       "Tropical Depression              12\n",
       "Marine Hurricane/Typhoon         10\n",
       "Marine Strong Wind                9\n",
       "Freezing Fog                      4\n",
       "Marine Dense Fog                  4\n",
       "Hurricane                         3\n",
       "Sleet                             3\n",
       "Seiche                            2\n",
       "Sneakerwave                       1\n",
       "Lakeshore Flood                   1\n",
       "Marine Tropical Depression        1\n",
       "Name: EVENT_TYPE, dtype: int64"
      ]
     },
     "execution_count": 8,
     "metadata": {},
     "output_type": "execute_result"
    }
   ],
   "source": [
    "Storm_Events_2016['EVENT_TYPE'].value_counts()"
   ]
  },
  {
   "cell_type": "markdown",
   "metadata": {},
   "source": [
    "# 2.2.1 A more readable inspection\n",
    "\n",
    "This can be made into a more readable data frame by simply using the pandas `DataFrame()` function"
   ]
  },
  {
   "cell_type": "code",
   "execution_count": 28,
   "metadata": {},
   "outputs": [
    {
     "data": {
      "text/html": [
       "<div>\n",
       "<style scoped>\n",
       "    .dataframe tbody tr th:only-of-type {\n",
       "        vertical-align: middle;\n",
       "    }\n",
       "\n",
       "    .dataframe tbody tr th {\n",
       "        vertical-align: top;\n",
       "    }\n",
       "\n",
       "    .dataframe thead th {\n",
       "        text-align: right;\n",
       "    }\n",
       "</style>\n",
       "<table border=\"1\" class=\"dataframe\">\n",
       "  <thead>\n",
       "    <tr style=\"text-align: right;\">\n",
       "      <th></th>\n",
       "      <th>EVENT_TYPE</th>\n",
       "    </tr>\n",
       "  </thead>\n",
       "  <tbody>\n",
       "    <tr>\n",
       "      <th>Thunderstorm Wind</th>\n",
       "      <td>15657</td>\n",
       "    </tr>\n",
       "    <tr>\n",
       "      <th>Hail</th>\n",
       "      <td>9388</td>\n",
       "    </tr>\n",
       "    <tr>\n",
       "      <th>Flash Flood</th>\n",
       "      <td>3586</td>\n",
       "    </tr>\n",
       "    <tr>\n",
       "      <th>High Wind</th>\n",
       "      <td>3107</td>\n",
       "    </tr>\n",
       "    <tr>\n",
       "      <th>Winter Weather</th>\n",
       "      <td>2916</td>\n",
       "    </tr>\n",
       "    <tr>\n",
       "      <th>Winter Storm</th>\n",
       "      <td>2367</td>\n",
       "    </tr>\n",
       "    <tr>\n",
       "      <th>Drought</th>\n",
       "      <td>2271</td>\n",
       "    </tr>\n",
       "    <tr>\n",
       "      <th>Marine Thunderstorm Wind</th>\n",
       "      <td>2173</td>\n",
       "    </tr>\n",
       "    <tr>\n",
       "      <th>Heavy Rain</th>\n",
       "      <td>1795</td>\n",
       "    </tr>\n",
       "    <tr>\n",
       "      <th>Flood</th>\n",
       "      <td>1703</td>\n",
       "    </tr>\n",
       "    <tr>\n",
       "      <th>Heavy Snow</th>\n",
       "      <td>1518</td>\n",
       "    </tr>\n",
       "    <tr>\n",
       "      <th>Tornado</th>\n",
       "      <td>1079</td>\n",
       "    </tr>\n",
       "    <tr>\n",
       "      <th>Strong Wind</th>\n",
       "      <td>902</td>\n",
       "    </tr>\n",
       "    <tr>\n",
       "      <th>Frost/Freeze</th>\n",
       "      <td>832</td>\n",
       "    </tr>\n",
       "    <tr>\n",
       "      <th>Dense Fog</th>\n",
       "      <td>829</td>\n",
       "    </tr>\n",
       "    <tr>\n",
       "      <th>Heat</th>\n",
       "      <td>811</td>\n",
       "    </tr>\n",
       "    <tr>\n",
       "      <th>Extreme Cold/Wind Chill</th>\n",
       "      <td>570</td>\n",
       "    </tr>\n",
       "    <tr>\n",
       "      <th>High Surf</th>\n",
       "      <td>568</td>\n",
       "    </tr>\n",
       "    <tr>\n",
       "      <th>Excessive Heat</th>\n",
       "      <td>555</td>\n",
       "    </tr>\n",
       "    <tr>\n",
       "      <th>Blizzard</th>\n",
       "      <td>544</td>\n",
       "    </tr>\n",
       "    <tr>\n",
       "      <th>Lightning</th>\n",
       "      <td>408</td>\n",
       "    </tr>\n",
       "    <tr>\n",
       "      <th>Wildfire</th>\n",
       "      <td>347</td>\n",
       "    </tr>\n",
       "    <tr>\n",
       "      <th>Tropical Storm</th>\n",
       "      <td>319</td>\n",
       "    </tr>\n",
       "    <tr>\n",
       "      <th>Funnel Cloud</th>\n",
       "      <td>289</td>\n",
       "    </tr>\n",
       "    <tr>\n",
       "      <th>Lake-Effect Snow</th>\n",
       "      <td>250</td>\n",
       "    </tr>\n",
       "    <tr>\n",
       "      <th>Coastal Flood</th>\n",
       "      <td>223</td>\n",
       "    </tr>\n",
       "    <tr>\n",
       "      <th>Waterspout</th>\n",
       "      <td>199</td>\n",
       "    </tr>\n",
       "    <tr>\n",
       "      <th>Cold/Wind Chill</th>\n",
       "      <td>181</td>\n",
       "    </tr>\n",
       "    <tr>\n",
       "      <th>Ice Storm</th>\n",
       "      <td>101</td>\n",
       "    </tr>\n",
       "    <tr>\n",
       "      <th>Rip Current</th>\n",
       "      <td>69</td>\n",
       "    </tr>\n",
       "    <tr>\n",
       "      <th>Dust Storm</th>\n",
       "      <td>68</td>\n",
       "    </tr>\n",
       "    <tr>\n",
       "      <th>Debris Flow</th>\n",
       "      <td>52</td>\n",
       "    </tr>\n",
       "    <tr>\n",
       "      <th>Marine High Wind</th>\n",
       "      <td>48</td>\n",
       "    </tr>\n",
       "    <tr>\n",
       "      <th>Astronomical Low Tide</th>\n",
       "      <td>46</td>\n",
       "    </tr>\n",
       "    <tr>\n",
       "      <th>Storm Surge/Tide</th>\n",
       "      <td>34</td>\n",
       "    </tr>\n",
       "    <tr>\n",
       "      <th>Avalanche</th>\n",
       "      <td>30</td>\n",
       "    </tr>\n",
       "    <tr>\n",
       "      <th>Hurricane (Typhoon)</th>\n",
       "      <td>30</td>\n",
       "    </tr>\n",
       "    <tr>\n",
       "      <th>Marine Hail</th>\n",
       "      <td>23</td>\n",
       "    </tr>\n",
       "    <tr>\n",
       "      <th>Dust Devil</th>\n",
       "      <td>13</td>\n",
       "    </tr>\n",
       "    <tr>\n",
       "      <th>Marine Tropical Storm</th>\n",
       "      <td>13</td>\n",
       "    </tr>\n",
       "    <tr>\n",
       "      <th>Tropical Depression</th>\n",
       "      <td>12</td>\n",
       "    </tr>\n",
       "    <tr>\n",
       "      <th>Marine Hurricane/Typhoon</th>\n",
       "      <td>10</td>\n",
       "    </tr>\n",
       "    <tr>\n",
       "      <th>Marine Strong Wind</th>\n",
       "      <td>9</td>\n",
       "    </tr>\n",
       "    <tr>\n",
       "      <th>Freezing Fog</th>\n",
       "      <td>4</td>\n",
       "    </tr>\n",
       "    <tr>\n",
       "      <th>Marine Dense Fog</th>\n",
       "      <td>4</td>\n",
       "    </tr>\n",
       "    <tr>\n",
       "      <th>Hurricane</th>\n",
       "      <td>3</td>\n",
       "    </tr>\n",
       "    <tr>\n",
       "      <th>Sleet</th>\n",
       "      <td>3</td>\n",
       "    </tr>\n",
       "    <tr>\n",
       "      <th>Seiche</th>\n",
       "      <td>2</td>\n",
       "    </tr>\n",
       "    <tr>\n",
       "      <th>Sneakerwave</th>\n",
       "      <td>1</td>\n",
       "    </tr>\n",
       "    <tr>\n",
       "      <th>Lakeshore Flood</th>\n",
       "      <td>1</td>\n",
       "    </tr>\n",
       "    <tr>\n",
       "      <th>Marine Tropical Depression</th>\n",
       "      <td>1</td>\n",
       "    </tr>\n",
       "  </tbody>\n",
       "</table>\n",
       "</div>"
      ],
      "text/plain": [
       "                            EVENT_TYPE\n",
       "Thunderstorm Wind                15657\n",
       "Hail                              9388\n",
       "Flash Flood                       3586\n",
       "High Wind                         3107\n",
       "Winter Weather                    2916\n",
       "Winter Storm                      2367\n",
       "Drought                           2271\n",
       "Marine Thunderstorm Wind          2173\n",
       "Heavy Rain                        1795\n",
       "Flood                             1703\n",
       "Heavy Snow                        1518\n",
       "Tornado                           1079\n",
       "Strong Wind                        902\n",
       "Frost/Freeze                       832\n",
       "Dense Fog                          829\n",
       "Heat                               811\n",
       "Extreme Cold/Wind Chill            570\n",
       "High Surf                          568\n",
       "Excessive Heat                     555\n",
       "Blizzard                           544\n",
       "Lightning                          408\n",
       "Wildfire                           347\n",
       "Tropical Storm                     319\n",
       "Funnel Cloud                       289\n",
       "Lake-Effect Snow                   250\n",
       "Coastal Flood                      223\n",
       "Waterspout                         199\n",
       "Cold/Wind Chill                    181\n",
       "Ice Storm                          101\n",
       "Rip Current                         69\n",
       "Dust Storm                          68\n",
       "Debris Flow                         52\n",
       "Marine High Wind                    48\n",
       "Astronomical Low Tide               46\n",
       "Storm Surge/Tide                    34\n",
       "Avalanche                           30\n",
       "Hurricane (Typhoon)                 30\n",
       "Marine Hail                         23\n",
       "Dust Devil                          13\n",
       "Marine Tropical Storm               13\n",
       "Tropical Depression                 12\n",
       "Marine Hurricane/Typhoon            10\n",
       "Marine Strong Wind                   9\n",
       "Freezing Fog                         4\n",
       "Marine Dense Fog                     4\n",
       "Hurricane                            3\n",
       "Sleet                                3\n",
       "Seiche                               2\n",
       "Sneakerwave                          1\n",
       "Lakeshore Flood                      1\n",
       "Marine Tropical Depression           1"
      ]
     },
     "execution_count": 28,
     "metadata": {},
     "output_type": "execute_result"
    }
   ],
   "source": [
    "events_breakdown = Storm_Events_2016['EVENT_TYPE'].value_counts()\n",
    "\n",
    "readable_df = pd.DataFrame(events_breakdown)\n",
    "readable_df"
   ]
  },
  {
   "cell_type": "markdown",
   "metadata": {},
   "source": [
    "<br><br>\n",
    "## 2.3. Additional information: continuous column\n",
    "\n",
    "The `.value_counts()` method is only helpful for categorical variables. If you want to inspect a continuous column, then you will likely want to view a distribution of the values. This can be done with `matplotlib.pyplot.hist()` or, here, `plt.hist()` (since we important matplotlib.pyplot as plt). This function will be demonstrated later in this notebook."
   ]
  },
  {
   "cell_type": "markdown",
   "metadata": {},
   "source": [
    "<br><br><br>\n",
    "# 3 Data set cleaning\n",
    "\n",
    "We now know that there are 51 columns and most of those are not tornadoes (which we're interested in), so let's clean this data set up.<br><br>\n",
    "\n",
    "## 3.1 Subsetting the data set\n",
    "\n",
    "First, let's filter the data set to only include tornadoes.\n",
    "\n",
    "To do this, we will first get a list-like object indicating whether or not the `EVENT_TYPE` is \"Tornado\".<br>\n",
    "Then, we will use the resulting `True`s and `False`s to subset the data set rows."
   ]
  },
  {
   "cell_type": "code",
   "execution_count": 34,
   "metadata": {},
   "outputs": [
    {
     "data": {
      "text/html": [
       "<div>\n",
       "<style scoped>\n",
       "    .dataframe tbody tr th:only-of-type {\n",
       "        vertical-align: middle;\n",
       "    }\n",
       "\n",
       "    .dataframe tbody tr th {\n",
       "        vertical-align: top;\n",
       "    }\n",
       "\n",
       "    .dataframe thead th {\n",
       "        text-align: right;\n",
       "    }\n",
       "</style>\n",
       "<table border=\"1\" class=\"dataframe\">\n",
       "  <thead>\n",
       "    <tr style=\"text-align: right;\">\n",
       "      <th></th>\n",
       "      <th>BEGIN_YEARMONTH</th>\n",
       "      <th>BEGIN_DAY</th>\n",
       "      <th>BEGIN_TIME</th>\n",
       "      <th>END_YEARMONTH</th>\n",
       "      <th>END_DAY</th>\n",
       "      <th>END_TIME</th>\n",
       "      <th>EPISODE_ID</th>\n",
       "      <th>EVENT_ID</th>\n",
       "      <th>STATE</th>\n",
       "      <th>STATE_FIPS</th>\n",
       "      <th>...</th>\n",
       "      <th>END_RANGE</th>\n",
       "      <th>END_AZIMUTH</th>\n",
       "      <th>END_LOCATION</th>\n",
       "      <th>BEGIN_LAT</th>\n",
       "      <th>BEGIN_LON</th>\n",
       "      <th>END_LAT</th>\n",
       "      <th>END_LON</th>\n",
       "      <th>EPISODE_NARRATIVE</th>\n",
       "      <th>EVENT_NARRATIVE</th>\n",
       "      <th>DATA_SOURCE</th>\n",
       "    </tr>\n",
       "  </thead>\n",
       "  <tbody>\n",
       "    <tr>\n",
       "      <th>72</th>\n",
       "      <td>201601</td>\n",
       "      <td>21</td>\n",
       "      <td>1614</td>\n",
       "      <td>201601</td>\n",
       "      <td>21</td>\n",
       "      <td>1619</td>\n",
       "      <td>101941</td>\n",
       "      <td>609831</td>\n",
       "      <td>MISSISSIPPI</td>\n",
       "      <td>28</td>\n",
       "      <td>...</td>\n",
       "      <td>1.0</td>\n",
       "      <td>SE</td>\n",
       "      <td>BEECH GROVE</td>\n",
       "      <td>31.9388</td>\n",
       "      <td>-90.2981</td>\n",
       "      <td>31.9662</td>\n",
       "      <td>-90.2578</td>\n",
       "      <td>Abundant moisture and instability combined wit...</td>\n",
       "      <td>This weak tornado touched down along Bennett R...</td>\n",
       "      <td>CSV</td>\n",
       "    </tr>\n",
       "    <tr>\n",
       "      <th>73</th>\n",
       "      <td>201601</td>\n",
       "      <td>21</td>\n",
       "      <td>1746</td>\n",
       "      <td>201601</td>\n",
       "      <td>21</td>\n",
       "      <td>1749</td>\n",
       "      <td>101941</td>\n",
       "      <td>609833</td>\n",
       "      <td>MISSISSIPPI</td>\n",
       "      <td>28</td>\n",
       "      <td>...</td>\n",
       "      <td>3.0</td>\n",
       "      <td>NNE</td>\n",
       "      <td>HOMEWOOD</td>\n",
       "      <td>32.2624</td>\n",
       "      <td>-89.5387</td>\n",
       "      <td>32.2645</td>\n",
       "      <td>-89.5030</td>\n",
       "      <td>Abundant moisture and instability combined wit...</td>\n",
       "      <td>This weak tornado snapped a handful of large p...</td>\n",
       "      <td>CSV</td>\n",
       "    </tr>\n",
       "    <tr>\n",
       "      <th>89</th>\n",
       "      <td>201607</td>\n",
       "      <td>5</td>\n",
       "      <td>1928</td>\n",
       "      <td>201607</td>\n",
       "      <td>5</td>\n",
       "      <td>1930</td>\n",
       "      <td>107447</td>\n",
       "      <td>644135</td>\n",
       "      <td>MINNESOTA</td>\n",
       "      <td>27</td>\n",
       "      <td>...</td>\n",
       "      <td>4.0</td>\n",
       "      <td>NE</td>\n",
       "      <td>OAK CENTER</td>\n",
       "      <td>44.3935</td>\n",
       "      <td>-92.3456</td>\n",
       "      <td>44.3938</td>\n",
       "      <td>-92.3439</td>\n",
       "      <td>A tornado hit a small part of southeast Minnes...</td>\n",
       "      <td>A short-lived tornado touched down southwest o...</td>\n",
       "      <td>CSV</td>\n",
       "    </tr>\n",
       "  </tbody>\n",
       "</table>\n",
       "<p>3 rows × 51 columns</p>\n",
       "</div>"
      ],
      "text/plain": [
       "    BEGIN_YEARMONTH  BEGIN_DAY  BEGIN_TIME  END_YEARMONTH  END_DAY  END_TIME  \\\n",
       "72           201601         21        1614         201601       21      1619   \n",
       "73           201601         21        1746         201601       21      1749   \n",
       "89           201607          5        1928         201607        5      1930   \n",
       "\n",
       "    EPISODE_ID  EVENT_ID        STATE  STATE_FIPS     ...      END_RANGE  \\\n",
       "72      101941    609831  MISSISSIPPI          28     ...            1.0   \n",
       "73      101941    609833  MISSISSIPPI          28     ...            3.0   \n",
       "89      107447    644135    MINNESOTA          27     ...            4.0   \n",
       "\n",
       "   END_AZIMUTH END_LOCATION BEGIN_LAT  BEGIN_LON  END_LAT  END_LON  \\\n",
       "72          SE  BEECH GROVE   31.9388   -90.2981  31.9662 -90.2578   \n",
       "73         NNE     HOMEWOOD   32.2624   -89.5387  32.2645 -89.5030   \n",
       "89          NE   OAK CENTER   44.3935   -92.3456  44.3938 -92.3439   \n",
       "\n",
       "                                    EPISODE_NARRATIVE  \\\n",
       "72  Abundant moisture and instability combined wit...   \n",
       "73  Abundant moisture and instability combined wit...   \n",
       "89  A tornado hit a small part of southeast Minnes...   \n",
       "\n",
       "                                      EVENT_NARRATIVE DATA_SOURCE  \n",
       "72  This weak tornado touched down along Bennett R...         CSV  \n",
       "73  This weak tornado snapped a handful of large p...         CSV  \n",
       "89  A short-lived tornado touched down southwest o...         CSV  \n",
       "\n",
       "[3 rows x 51 columns]"
      ]
     },
     "execution_count": 34,
     "metadata": {},
     "output_type": "execute_result"
    }
   ],
   "source": [
    "# Getting a list-like object that contains True if the event was a tornado\n",
    "# and False if it is not a tornado \n",
    "tornado_logical = (Storm_Events_2016['EVENT_TYPE'] == 'Tornado')\n",
    "\n",
    "# Using that list to subset the data set\n",
    "tornadoes_2016 = Storm_Events_2016[tornado_logical]\n",
    "\n",
    "# View the first 3 rows\n",
    "tornadoes_2016.head(3)"
   ]
  },
  {
   "cell_type": "markdown",
   "metadata": {},
   "source": [
    "From the tables we created earlier, we know how many tornadoes there are, so as a sanity check we can confirm that the number of rows in the data set is equal to that number."
   ]
  },
  {
   "cell_type": "code",
   "execution_count": 35,
   "metadata": {},
   "outputs": [
    {
     "data": {
      "text/plain": [
       "(1079, 51)"
      ]
     },
     "execution_count": 35,
     "metadata": {},
     "output_type": "execute_result"
    }
   ],
   "source": [
    "tornadoes_2016.shape"
   ]
  },
  {
   "cell_type": "markdown",
   "metadata": {},
   "source": [
    "<br><br>\n",
    "## 3.2. Additional information: list-like objects\n",
    "\n",
    "Notice that I called our `tornado_logical` object a \"list-like object\". There are many list-like objects in python. Three very common ones are:\n",
    "\n",
    "1. Lists\n",
    "2. Numpy n-dimensional arrays\n",
    "3. Pandas series\n",
    "\n",
    "**Lists** are base-Python objects which are very general and unfascinating; they mostly just *store many things*.\n",
    "\n",
    "**Numpy n-dimensional arrays** are like lists that you can do *vectorized/matrix math* on.\n",
    "\n",
    "And **Pandas series** are like numpy arrays that are structed and function with the knowledge that they are a *data set column*.\n",
    "\n",
    "Let's view what kind of object `tornado_logical` is"
   ]
  },
  {
   "cell_type": "code",
   "execution_count": 36,
   "metadata": {},
   "outputs": [
    {
     "data": {
      "text/plain": [
       "pandas.core.series.Series"
      ]
     },
     "execution_count": 36,
     "metadata": {},
     "output_type": "execute_result"
    }
   ],
   "source": [
    "# Viewing what type of object tornado_logical is\n",
    "type(tornado_logical)"
   ]
  },
  {
   "cell_type": "markdown",
   "metadata": {},
   "source": [
    "<br>These three types of objects are interchangable, however if you convert the type, you will also convert it's immediate capabilities (its methods and functions that can act on it)."
   ]
  },
  {
   "cell_type": "code",
   "execution_count": 42,
   "metadata": {},
   "outputs": [
    {
     "data": {
      "text/plain": [
       "numpy.ndarray"
      ]
     },
     "execution_count": 42,
     "metadata": {},
     "output_type": "execute_result"
    }
   ],
   "source": [
    "# Convert the object to a numpy array\n",
    "tornado_logical_numpy_array = tornado_logical.values\n",
    "\n",
    "# View its type\n",
    "type(tornado_logical_numpy_array)"
   ]
  },
  {
   "cell_type": "code",
   "execution_count": 43,
   "metadata": {},
   "outputs": [
    {
     "data": {
      "text/plain": [
       "list"
      ]
     },
     "execution_count": 43,
     "metadata": {},
     "output_type": "execute_result"
    }
   ],
   "source": [
    "# Convert the object to a list\n",
    "tornado_logical_list = tornado_logical.values.tolist()\n",
    "\n",
    "# View its type\n",
    "type(tornado_logical_list)"
   ]
  },
  {
   "cell_type": "markdown",
   "metadata": {},
   "source": [
    "<br>More thoroughly:\n",
    "1. The `pd.DataFrame()` function will convert a list or ndarray into a one-column data set \n",
    "2. The `np.asarray()` function will convert a list into a ndarray\n",
    "3. The `.values()` method will convert a pandas column/Series into a ndarray\n",
    "4. The `.tolist()` method will convert a ndarray object into a list\n",
    "\n",
    "Remember the different between functions and methods!\n",
    "\n",
    "1. `function(object)`\n",
    "2. `object.method()`"
   ]
  },
  {
   "cell_type": "markdown",
   "metadata": {},
   "source": [
    "# Event narrative stuff"
   ]
  },
  {
   "cell_type": "code",
   "execution_count": 7,
   "metadata": {},
   "outputs": [
    {
     "data": {
      "text/plain": [
       "'A tree was downed on Mound Hill Road.'"
      ]
     },
     "execution_count": 7,
     "metadata": {},
     "output_type": "execute_result"
    }
   ],
   "source": [
    "# Store a random row from the total data frame\n",
    "random_row = Storm_Events_2016.sample()\n",
    "\n",
    "# Get the column storing a text description of the random storm event\n",
    "random_rows_event_text = random_row['EVENT_NARRATIVE']\n",
    "\n",
    "# Turn that list-like object into just the value within it that we're interested in\n",
    "random_rows_event_text_plain = random_rows_event_text.values[0]\n",
    "\n",
    "# Print out that value/text\n",
    "random_rows_event_text_plain"
   ]
  },
  {
   "cell_type": "markdown",
   "metadata": {},
   "source": [
    "# F-scale stuff"
   ]
  },
  {
   "cell_type": "code",
   "execution_count": 8,
   "metadata": {},
   "outputs": [
    {
     "data": {
      "text/plain": [
       "72     EF0\n",
       "73     EF0\n",
       "89     EF1\n",
       "223    EF0\n",
       "751    EF1\n",
       "Name: TOR_F_SCALE, dtype: object"
      ]
     },
     "execution_count": 8,
     "metadata": {},
     "output_type": "execute_result"
    }
   ],
   "source": [
    "Tornadoes_2016 = Storm_Events_2016[tornado_logical]\n",
    "Tornadoes_2016['TOR_F_SCALE'].head()"
   ]
  },
  {
   "cell_type": "code",
   "execution_count": 9,
   "metadata": {},
   "outputs": [
    {
     "data": {
      "text/plain": [
       "EF0    570\n",
       "EF1    357\n",
       "EF2     92\n",
       "EFU     31\n",
       "EF3     27\n",
       "EF4      2\n",
       "Name: TOR_F_SCALE, dtype: int64"
      ]
     },
     "execution_count": 9,
     "metadata": {},
     "output_type": "execute_result"
    }
   ],
   "source": [
    "Tornadoes_2016['TOR_F_SCALE'].value_counts()"
   ]
  },
  {
   "cell_type": "code",
   "execution_count": 10,
   "metadata": {},
   "outputs": [
    {
     "data": {
      "text/html": [
       "<div>\n",
       "<style scoped>\n",
       "    .dataframe tbody tr th:only-of-type {\n",
       "        vertical-align: middle;\n",
       "    }\n",
       "\n",
       "    .dataframe tbody tr th {\n",
       "        vertical-align: top;\n",
       "    }\n",
       "\n",
       "    .dataframe thead th {\n",
       "        text-align: right;\n",
       "    }\n",
       "</style>\n",
       "<table border=\"1\" class=\"dataframe\">\n",
       "  <thead>\n",
       "    <tr style=\"text-align: right;\">\n",
       "      <th></th>\n",
       "      <th>TOR_F_SCALE</th>\n",
       "    </tr>\n",
       "  </thead>\n",
       "  <tbody>\n",
       "    <tr>\n",
       "      <th>EF0</th>\n",
       "      <td>570</td>\n",
       "    </tr>\n",
       "    <tr>\n",
       "      <th>EF1</th>\n",
       "      <td>357</td>\n",
       "    </tr>\n",
       "    <tr>\n",
       "      <th>EF2</th>\n",
       "      <td>92</td>\n",
       "    </tr>\n",
       "    <tr>\n",
       "      <th>EFU</th>\n",
       "      <td>31</td>\n",
       "    </tr>\n",
       "    <tr>\n",
       "      <th>EF3</th>\n",
       "      <td>27</td>\n",
       "    </tr>\n",
       "    <tr>\n",
       "      <th>EF4</th>\n",
       "      <td>2</td>\n",
       "    </tr>\n",
       "  </tbody>\n",
       "</table>\n",
       "</div>"
      ],
      "text/plain": [
       "     TOR_F_SCALE\n",
       "EF0          570\n",
       "EF1          357\n",
       "EF2           92\n",
       "EFU           31\n",
       "EF3           27\n",
       "EF4            2"
      ]
     },
     "execution_count": 10,
     "metadata": {},
     "output_type": "execute_result"
    }
   ],
   "source": [
    "pd.DataFrame(Tornadoes_2016['TOR_F_SCALE'].value_counts())"
   ]
  },
  {
   "cell_type": "code",
   "execution_count": 11,
   "metadata": {},
   "outputs": [
    {
     "data": {
      "image/png": "[encoded data removed]",
      "text/plain": [
       "<matplotlib.figure.Figure at 0x7fe5240cd390>"
      ]
     },
     "metadata": {},
     "output_type": "display_data"
    }
   ],
   "source": [
    "plt.hist(Tornadoes_2016['TOR_F_SCALE'], bins = 50, color = 'red', edgecolor = 'black');"
   ]
  },
  {
   "cell_type": "markdown",
   "metadata": {},
   "source": [
    "# Putting that all together"
   ]
  },
  {
   "cell_type": "code",
   "execution_count": 12,
   "metadata": {},
   "outputs": [
    {
     "data": {
      "text/html": [
       "<div>\n",
       "<style scoped>\n",
       "    .dataframe tbody tr th:only-of-type {\n",
       "        vertical-align: middle;\n",
       "    }\n",
       "\n",
       "    .dataframe tbody tr th {\n",
       "        vertical-align: top;\n",
       "    }\n",
       "\n",
       "    .dataframe thead th {\n",
       "        text-align: right;\n",
       "    }\n",
       "</style>\n",
       "<table border=\"1\" class=\"dataframe\">\n",
       "  <thead>\n",
       "    <tr style=\"text-align: right;\">\n",
       "      <th></th>\n",
       "      <th>TOR_F_SCALE</th>\n",
       "      <th>EVENT_NARRATIVE</th>\n",
       "    </tr>\n",
       "  </thead>\n",
       "  <tbody>\n",
       "    <tr>\n",
       "      <th>0</th>\n",
       "      <td>EF0</td>\n",
       "      <td>This weak tornado touched down along Bennett R...</td>\n",
       "    </tr>\n",
       "    <tr>\n",
       "      <th>1</th>\n",
       "      <td>EF0</td>\n",
       "      <td>This weak tornado snapped a handful of large p...</td>\n",
       "    </tr>\n",
       "    <tr>\n",
       "      <th>2</th>\n",
       "      <td>EF1</td>\n",
       "      <td>A short-lived tornado touched down southwest o...</td>\n",
       "    </tr>\n",
       "    <tr>\n",
       "      <th>3</th>\n",
       "      <td>EF0</td>\n",
       "      <td>A brief tornado damaged a small shed.</td>\n",
       "    </tr>\n",
       "    <tr>\n",
       "      <th>4</th>\n",
       "      <td>EF1</td>\n",
       "      <td>The tornado touched down southeast of Whigham ...</td>\n",
       "    </tr>\n",
       "    <tr>\n",
       "      <th>5</th>\n",
       "      <td>EF0</td>\n",
       "      <td>A landspout tornado touched down in open count...</td>\n",
       "    </tr>\n",
       "    <tr>\n",
       "      <th>6</th>\n",
       "      <td>EF0</td>\n",
       "      <td>A landspout tornado touched down in open count...</td>\n",
       "    </tr>\n",
       "    <tr>\n",
       "      <th>7</th>\n",
       "      <td>EF1</td>\n",
       "      <td>This tornado began around Grimsley Road with t...</td>\n",
       "    </tr>\n",
       "    <tr>\n",
       "      <th>8</th>\n",
       "      <td>EF1</td>\n",
       "      <td>Damage along this path was primarily to pine a...</td>\n",
       "    </tr>\n",
       "    <tr>\n",
       "      <th>9</th>\n",
       "      <td>EF1</td>\n",
       "      <td>This tornado touched down briefly at this loca...</td>\n",
       "    </tr>\n",
       "  </tbody>\n",
       "</table>\n",
       "</div>"
      ],
      "text/plain": [
       "  TOR_F_SCALE                                    EVENT_NARRATIVE\n",
       "0         EF0  This weak tornado touched down along Bennett R...\n",
       "1         EF0  This weak tornado snapped a handful of large p...\n",
       "2         EF1  A short-lived tornado touched down southwest o...\n",
       "3         EF0              A brief tornado damaged a small shed.\n",
       "4         EF1  The tornado touched down southeast of Whigham ...\n",
       "5         EF0  A landspout tornado touched down in open count...\n",
       "6         EF0  A landspout tornado touched down in open count...\n",
       "7         EF1  This tornado began around Grimsley Road with t...\n",
       "8         EF1  Damage along this path was primarily to pine a...\n",
       "9         EF1  This tornado touched down briefly at this loca..."
      ]
     },
     "execution_count": 12,
     "metadata": {},
     "output_type": "execute_result"
    }
   ],
   "source": [
    "# Import the data\n",
    "Storm_Events_2016 = pd.read_csv('/home/jeremydiaz/tornadoesr/data/raw/StormEvents_details-ftp_v1.0_d2016_c20171116.csv.gz')\n",
    "\n",
    "# Get only the tornadoes\n",
    "Tornadoes_2016 = Storm_Events_2016[Storm_Events_2016['EVENT_TYPE'] == 'Tornado']\n",
    "\n",
    "# Keep only the F-scale and text description of each tornado\n",
    "Tornadoes_2016_column_subsetted = Tornadoes_2016[['TOR_F_SCALE', 'EVENT_NARRATIVE']]\n",
    "\n",
    "# Reset the dataframe's index\n",
    "Tornadoes_2016_column_subsetted = Tornadoes_2016_column_subsetted.reset_index(drop = True)\n",
    "\n",
    "# View the first 10 rows\n",
    "Tornadoes_2016_column_subsetted.head(10)"
   ]
  },
  {
   "cell_type": "markdown",
   "metadata": {},
   "source": [
    "# Changing F-scale to binary"
   ]
  },
  {
   "cell_type": "code",
   "execution_count": 13,
   "metadata": {},
   "outputs": [
    {
     "data": {
      "text/plain": [
       "True"
      ]
     },
     "execution_count": 13,
     "metadata": {},
     "output_type": "execute_result"
    }
   ],
   "source": [
    "'EF0' in ['EF0', 'EFU']"
   ]
  },
  {
   "cell_type": "code",
   "execution_count": 14,
   "metadata": {},
   "outputs": [
    {
     "data": {
      "text/plain": [
       "False"
      ]
     },
     "execution_count": 14,
     "metadata": {},
     "output_type": "execute_result"
    }
   ],
   "source": [
    "'EF1' in ['EF0', 'EFU']"
   ]
  },
  {
   "cell_type": "code",
   "execution_count": 15,
   "metadata": {},
   "outputs": [
    {
     "name": "stdout",
     "output_type": "stream",
     "text": [
      "0\n",
      "1\n",
      "2\n",
      "3\n",
      "4\n",
      "5\n",
      "6\n",
      "7\n",
      "8\n",
      "9\n"
     ]
    }
   ],
   "source": [
    "for value in range(10):\n",
    "    print(value)"
   ]
  },
  {
   "cell_type": "code",
   "execution_count": 16,
   "metadata": {},
   "outputs": [
    {
     "data": {
      "text/plain": [
       "[False, False, True, False, True]"
      ]
     },
     "execution_count": 16,
     "metadata": {},
     "output_type": "execute_result"
    }
   ],
   "source": [
    "F_indicator_list_for_loop = []\n",
    "for row_index in range(len(Tornadoes_2016_column_subsetted)):\n",
    "    current_F = Tornadoes_2016_column_subsetted['TOR_F_SCALE'][row_index]\n",
    "    F_indicator = (current_F in ['EF1', 'EF2', 'EF3', 'EF4', 'EF5'])\n",
    "    F_indicator_list_for_loop.append(F_indicator)\n",
    "F_indicator_list_for_loop[0:5]"
   ]
  },
  {
   "cell_type": "code",
   "execution_count": 17,
   "metadata": {},
   "outputs": [
    {
     "data": {
      "text/plain": [
       "[False, False, True, False, True]"
      ]
     },
     "execution_count": 17,
     "metadata": {},
     "output_type": "execute_result"
    }
   ],
   "source": [
    "F_list = Tornadoes_2016_column_subsetted['TOR_F_SCALE'].tolist()\n",
    "F_indicator_list_list_comprehension = [(F in ['EF1', 'EF2', 'EF3', 'EF4', 'EF5']) for F in F_list]\n",
    "F_indicator_list_list_comprehension[0:5]"
   ]
  },
  {
   "cell_type": "code",
   "execution_count": 18,
   "metadata": {},
   "outputs": [
    {
     "data": {
      "text/plain": [
       "True"
      ]
     },
     "execution_count": 18,
     "metadata": {},
     "output_type": "execute_result"
    }
   ],
   "source": [
    "F_indicator_list_for_loop == F_indicator_list_list_comprehension"
   ]
  },
  {
   "cell_type": "code",
   "execution_count": 19,
   "metadata": {},
   "outputs": [],
   "source": [
    "F_indicator_list = F_indicator_list_list_comprehension\n",
    "Tornadoes_2016_column_subsetted['F_binary'] = F_indicator_list"
   ]
  },
  {
   "cell_type": "code",
   "execution_count": 20,
   "metadata": {},
   "outputs": [
    {
     "data": {
      "text/html": [
       "<div>\n",
       "<style scoped>\n",
       "    .dataframe tbody tr th:only-of-type {\n",
       "        vertical-align: middle;\n",
       "    }\n",
       "\n",
       "    .dataframe tbody tr th {\n",
       "        vertical-align: top;\n",
       "    }\n",
       "\n",
       "    .dataframe thead th {\n",
       "        text-align: right;\n",
       "    }\n",
       "</style>\n",
       "<table border=\"1\" class=\"dataframe\">\n",
       "  <thead>\n",
       "    <tr style=\"text-align: right;\">\n",
       "      <th></th>\n",
       "      <th>TOR_F_SCALE</th>\n",
       "      <th>EVENT_NARRATIVE</th>\n",
       "      <th>F_binary</th>\n",
       "    </tr>\n",
       "  </thead>\n",
       "  <tbody>\n",
       "    <tr>\n",
       "      <th>0</th>\n",
       "      <td>EF0</td>\n",
       "      <td>This weak tornado touched down along Bennett R...</td>\n",
       "      <td>False</td>\n",
       "    </tr>\n",
       "    <tr>\n",
       "      <th>1</th>\n",
       "      <td>EF0</td>\n",
       "      <td>This weak tornado snapped a handful of large p...</td>\n",
       "      <td>False</td>\n",
       "    </tr>\n",
       "    <tr>\n",
       "      <th>2</th>\n",
       "      <td>EF1</td>\n",
       "      <td>A short-lived tornado touched down southwest o...</td>\n",
       "      <td>True</td>\n",
       "    </tr>\n",
       "    <tr>\n",
       "      <th>3</th>\n",
       "      <td>EF0</td>\n",
       "      <td>A brief tornado damaged a small shed.</td>\n",
       "      <td>False</td>\n",
       "    </tr>\n",
       "    <tr>\n",
       "      <th>4</th>\n",
       "      <td>EF1</td>\n",
       "      <td>The tornado touched down southeast of Whigham ...</td>\n",
       "      <td>True</td>\n",
       "    </tr>\n",
       "    <tr>\n",
       "      <th>5</th>\n",
       "      <td>EF0</td>\n",
       "      <td>A landspout tornado touched down in open count...</td>\n",
       "      <td>False</td>\n",
       "    </tr>\n",
       "    <tr>\n",
       "      <th>6</th>\n",
       "      <td>EF0</td>\n",
       "      <td>A landspout tornado touched down in open count...</td>\n",
       "      <td>False</td>\n",
       "    </tr>\n",
       "    <tr>\n",
       "      <th>7</th>\n",
       "      <td>EF1</td>\n",
       "      <td>This tornado began around Grimsley Road with t...</td>\n",
       "      <td>True</td>\n",
       "    </tr>\n",
       "    <tr>\n",
       "      <th>8</th>\n",
       "      <td>EF1</td>\n",
       "      <td>Damage along this path was primarily to pine a...</td>\n",
       "      <td>True</td>\n",
       "    </tr>\n",
       "    <tr>\n",
       "      <th>9</th>\n",
       "      <td>EF1</td>\n",
       "      <td>This tornado touched down briefly at this loca...</td>\n",
       "      <td>True</td>\n",
       "    </tr>\n",
       "  </tbody>\n",
       "</table>\n",
       "</div>"
      ],
      "text/plain": [
       "  TOR_F_SCALE                                    EVENT_NARRATIVE  F_binary\n",
       "0         EF0  This weak tornado touched down along Bennett R...     False\n",
       "1         EF0  This weak tornado snapped a handful of large p...     False\n",
       "2         EF1  A short-lived tornado touched down southwest o...      True\n",
       "3         EF0              A brief tornado damaged a small shed.     False\n",
       "4         EF1  The tornado touched down southeast of Whigham ...      True\n",
       "5         EF0  A landspout tornado touched down in open count...     False\n",
       "6         EF0  A landspout tornado touched down in open count...     False\n",
       "7         EF1  This tornado began around Grimsley Road with t...      True\n",
       "8         EF1  Damage along this path was primarily to pine a...      True\n",
       "9         EF1  This tornado touched down briefly at this loca...      True"
      ]
     },
     "execution_count": 20,
     "metadata": {},
     "output_type": "execute_result"
    }
   ],
   "source": [
    "Tornadoes_2016_column_subsetted.head(10)"
   ]
  },
  {
   "cell_type": "code",
   "execution_count": 21,
   "metadata": {},
   "outputs": [
    {
     "data": {
      "text/html": [
       "<div>\n",
       "<style scoped>\n",
       "    .dataframe tbody tr th:only-of-type {\n",
       "        vertical-align: middle;\n",
       "    }\n",
       "\n",
       "    .dataframe tbody tr th {\n",
       "        vertical-align: top;\n",
       "    }\n",
       "\n",
       "    .dataframe thead th {\n",
       "        text-align: right;\n",
       "    }\n",
       "</style>\n",
       "<table border=\"1\" class=\"dataframe\">\n",
       "  <thead>\n",
       "    <tr style=\"text-align: right;\">\n",
       "      <th></th>\n",
       "      <th>TOR_F_SCALE</th>\n",
       "      <th>EVENT_NARRATIVE</th>\n",
       "      <th>F_binary</th>\n",
       "    </tr>\n",
       "  </thead>\n",
       "  <tbody>\n",
       "    <tr>\n",
       "      <th>0</th>\n",
       "      <td>EF0</td>\n",
       "      <td>This weak tornado touched down along Bennett R...</td>\n",
       "      <td>0</td>\n",
       "    </tr>\n",
       "    <tr>\n",
       "      <th>1</th>\n",
       "      <td>EF0</td>\n",
       "      <td>This weak tornado snapped a handful of large p...</td>\n",
       "      <td>0</td>\n",
       "    </tr>\n",
       "    <tr>\n",
       "      <th>2</th>\n",
       "      <td>EF1</td>\n",
       "      <td>A short-lived tornado touched down southwest o...</td>\n",
       "      <td>1</td>\n",
       "    </tr>\n",
       "    <tr>\n",
       "      <th>3</th>\n",
       "      <td>EF0</td>\n",
       "      <td>A brief tornado damaged a small shed.</td>\n",
       "      <td>0</td>\n",
       "    </tr>\n",
       "    <tr>\n",
       "      <th>4</th>\n",
       "      <td>EF1</td>\n",
       "      <td>The tornado touched down southeast of Whigham ...</td>\n",
       "      <td>1</td>\n",
       "    </tr>\n",
       "    <tr>\n",
       "      <th>5</th>\n",
       "      <td>EF0</td>\n",
       "      <td>A landspout tornado touched down in open count...</td>\n",
       "      <td>0</td>\n",
       "    </tr>\n",
       "    <tr>\n",
       "      <th>6</th>\n",
       "      <td>EF0</td>\n",
       "      <td>A landspout tornado touched down in open count...</td>\n",
       "      <td>0</td>\n",
       "    </tr>\n",
       "    <tr>\n",
       "      <th>7</th>\n",
       "      <td>EF1</td>\n",
       "      <td>This tornado began around Grimsley Road with t...</td>\n",
       "      <td>1</td>\n",
       "    </tr>\n",
       "    <tr>\n",
       "      <th>8</th>\n",
       "      <td>EF1</td>\n",
       "      <td>Damage along this path was primarily to pine a...</td>\n",
       "      <td>1</td>\n",
       "    </tr>\n",
       "    <tr>\n",
       "      <th>9</th>\n",
       "      <td>EF1</td>\n",
       "      <td>This tornado touched down briefly at this loca...</td>\n",
       "      <td>1</td>\n",
       "    </tr>\n",
       "  </tbody>\n",
       "</table>\n",
       "</div>"
      ],
      "text/plain": [
       "  TOR_F_SCALE                                    EVENT_NARRATIVE  F_binary\n",
       "0         EF0  This weak tornado touched down along Bennett R...         0\n",
       "1         EF0  This weak tornado snapped a handful of large p...         0\n",
       "2         EF1  A short-lived tornado touched down southwest o...         1\n",
       "3         EF0              A brief tornado damaged a small shed.         0\n",
       "4         EF1  The tornado touched down southeast of Whigham ...         1\n",
       "5         EF0  A landspout tornado touched down in open count...         0\n",
       "6         EF0  A landspout tornado touched down in open count...         0\n",
       "7         EF1  This tornado began around Grimsley Road with t...         1\n",
       "8         EF1  Damage along this path was primarily to pine a...         1\n",
       "9         EF1  This tornado touched down briefly at this loca...         1"
      ]
     },
     "execution_count": 21,
     "metadata": {},
     "output_type": "execute_result"
    }
   ],
   "source": [
    "Tornadoes_2016_column_subsetted['F_binary'] = Tornadoes_2016_column_subsetted['F_binary'].astype(int)\n",
    "Tornadoes_2016_column_subsetted.head(10)"
   ]
  },
  {
   "cell_type": "code",
   "execution_count": 22,
   "metadata": {},
   "outputs": [
    {
     "data": {
      "text/html": [
       "<div>\n",
       "<style scoped>\n",
       "    .dataframe tbody tr th:only-of-type {\n",
       "        vertical-align: middle;\n",
       "    }\n",
       "\n",
       "    .dataframe tbody tr th {\n",
       "        vertical-align: top;\n",
       "    }\n",
       "\n",
       "    .dataframe thead th {\n",
       "        text-align: right;\n",
       "    }\n",
       "</style>\n",
       "<table border=\"1\" class=\"dataframe\">\n",
       "  <thead>\n",
       "    <tr style=\"text-align: right;\">\n",
       "      <th></th>\n",
       "      <th>F_binary</th>\n",
       "    </tr>\n",
       "  </thead>\n",
       "  <tbody>\n",
       "    <tr>\n",
       "      <th>0</th>\n",
       "      <td>601</td>\n",
       "    </tr>\n",
       "    <tr>\n",
       "      <th>1</th>\n",
       "      <td>478</td>\n",
       "    </tr>\n",
       "  </tbody>\n",
       "</table>\n",
       "</div>"
      ],
      "text/plain": [
       "   F_binary\n",
       "0       601\n",
       "1       478"
      ]
     },
     "execution_count": 22,
     "metadata": {},
     "output_type": "execute_result"
    }
   ],
   "source": [
    "pd.DataFrame(Tornadoes_2016_column_subsetted['F_binary'].value_counts())"
   ]
  },
  {
   "cell_type": "markdown",
   "metadata": {},
   "source": [
    "# Text processing"
   ]
  },
  {
   "cell_type": "code",
   "execution_count": 27,
   "metadata": {},
   "outputs": [],
   "source": [
    "from sklearn.feature_extraction.text import CountVectorizer\n",
    "from sklearn.model_selection import train_test_split"
   ]
  },
  {
   "cell_type": "code",
   "execution_count": 32,
   "metadata": {},
   "outputs": [],
   "source": [
    "train_df, test_df = train_test_split(Tornadoes_2016_column_subsetted, test_size = 0.2)"
   ]
  },
  {
   "cell_type": "code",
   "execution_count": 33,
   "metadata": {},
   "outputs": [
    {
     "data": {
      "text/plain": [
       "'A small but intense tornado touched down and caused significant damage to a pole shed.  The tornado lifted the entire shed and destroyed it. Debris from this shed traveled around 1 mile to the southeast from where the tornado first struck it. Only minor structural damage occurred elsewhere on the farm.'"
      ]
     },
     "execution_count": 33,
     "metadata": {},
     "output_type": "execute_result"
    }
   ],
   "source": [
    "train_descriptions = train_df['EVENT_NARRATIVE'].values\n",
    "train_descriptions[0]"
   ]
  },
  {
   "cell_type": "code",
   "execution_count": 25,
   "metadata": {},
   "outputs": [
    {
     "data": {
      "text/plain": [
       "<1079x4821 sparse matrix of type '<class 'numpy.int64'>'\n",
       "\twith 51650 stored elements in Compressed Sparse Row format>"
      ]
     },
     "execution_count": 25,
     "metadata": {},
     "output_type": "execute_result"
    }
   ],
   "source": [
    "descrip_to_numbers = CountVectorizer()\n",
    "bag_of_words = descrip_to_numbers.fit(train_descriptions)\n",
    "bag_of_words"
   ]
  },
  {
   "cell_type": "code",
   "execution_count": 26,
   "metadata": {},
   "outputs": [
    {
     "data": {
      "text/plain": [
       "matrix([[0, 0, 0, ..., 0, 0, 0],\n",
       "        [0, 0, 0, ..., 0, 0, 0],\n",
       "        [0, 0, 0, ..., 0, 0, 0],\n",
       "        ...,\n",
       "        [0, 0, 0, ..., 0, 0, 0],\n",
       "        [0, 0, 0, ..., 0, 0, 0],\n",
       "        [0, 0, 0, ..., 0, 0, 0]], dtype=int64)"
      ]
     },
     "execution_count": 26,
     "metadata": {},
     "output_type": "execute_result"
    }
   ],
   "source": [
    "bag_of_words.todense()"
   ]
  },
  {
   "cell_type": "markdown",
   "metadata": {},
   "source": [
    "# Code"
   ]
  },
  {
   "cell_type": "code",
   "execution_count": 27,
   "metadata": {},
   "outputs": [],
   "source": [
    "from sklearn.linear_model import LogisticRegression"
   ]
  },
  {
   "cell_type": "code",
   "execution_count": 28,
   "metadata": {},
   "outputs": [],
   "source": [
    "x = bag_of_words\n",
    "y = Tornadoes_2016_column_subsetted['F_binary'].values"
   ]
  },
  {
   "cell_type": "code",
   "execution_count": 29,
   "metadata": {},
   "outputs": [
    {
     "data": {
      "text/plain": [
       "LogisticRegression(C=1.0, class_weight=None, dual=False, fit_intercept=True,\n",
       "          intercept_scaling=1, max_iter=100, multi_class='ovr', n_jobs=1,\n",
       "          penalty='l2', random_state=None, solver='liblinear', tol=0.0001,\n",
       "          verbose=0, warm_start=False)"
      ]
     },
     "execution_count": 29,
     "metadata": {},
     "output_type": "execute_result"
    }
   ],
   "source": [
    "model = LogisticRegression()\n",
    "model.fit(x, y)"
   ]
  },
  {
   "cell_type": "code",
   "execution_count": 30,
   "metadata": {},
   "outputs": [],
   "source": [
    "predictions = model.predict(x)"
   ]
  },
  {
   "cell_type": "code",
   "execution_count": 31,
   "metadata": {},
   "outputs": [],
   "source": [
    "from sklearn.metrics import accuracy_score, confusion_matrix"
   ]
  },
  {
   "cell_type": "code",
   "execution_count": 32,
   "metadata": {},
   "outputs": [
    {
     "data": {
      "text/plain": [
       "0.9962928637627433"
      ]
     },
     "execution_count": 32,
     "metadata": {},
     "output_type": "execute_result"
    }
   ],
   "source": [
    "accuracy_score(y, predictions)"
   ]
  },
  {
   "cell_type": "code",
   "execution_count": 33,
   "metadata": {},
   "outputs": [
    {
     "data": {
      "text/plain": [
       "array([[600,   1],\n",
       "       [  3, 475]])"
      ]
     },
     "execution_count": 33,
     "metadata": {},
     "output_type": "execute_result"
    }
   ],
   "source": [
    "confusion_matrix(y, predictions)"
   ]
  },
  {
   "cell_type": "markdown",
   "metadata": {},
   "source": [
    "<br><br><br><br><br><br><br><br><br><br><br><br><br><br><br><br><br><br><br>"
   ]
  }
 ],
 "metadata": {
  "kernelspec": {
   "display_name": "Python 3",
   "language": "python",
   "name": "python3"
  },
  "language_info": {
   "codemirror_mode": {
    "name": "ipython",
    "version": 3
   },
   "file_extension": ".py",
   "mimetype": "text/x-python",
   "name": "python",
   "nbconvert_exporter": "python",
   "pygments_lexer": "ipython3",
   "version": "3.6.3"
  }
 },
 "nbformat": 4,
 "nbformat_minor": 2
}
