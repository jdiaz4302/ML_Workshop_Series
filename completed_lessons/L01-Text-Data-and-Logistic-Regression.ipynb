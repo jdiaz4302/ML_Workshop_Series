{
 "cells": [
  {
   "cell_type": "markdown",
   "metadata": {},
   "source": [
    "# Set up"
   ]
  },
  {
   "cell_type": "markdown",
   "metadata": {},
   "source": [
    "Prior to Python, I had only used R, so I was surprised to learn that you need to import libraries for routine tasks like handling a dataframe, doing vectorized math, and data visualization. This is what we are doing below."
   ]
  },
  {
   "cell_type": "code",
   "execution_count": 1,
   "metadata": {},
   "outputs": [],
   "source": [
    "# Standard data science libraries\n",
    "# Used for dataframes\n",
    "import pandas as pd\n",
    "# Used for doing math\n",
    "import numpy as np\n",
    "# Used for visualization\n",
    "import matplotlib.pyplot as plt\n",
    "\n",
    "# Making the plot show within our notebook\n",
    "%matplotlib inline\n",
    "\n",
    "# Allowing us to set the plot size\n",
    "import pylab\n",
    "pylab.rcParams['figure.figsize'] = (10, 10)"
   ]
  },
  {
   "cell_type": "markdown",
   "metadata": {},
   "source": [
    "This makes Python read our data table"
   ]
  },
  {
   "cell_type": "code",
   "execution_count": 61,
   "metadata": {},
   "outputs": [
    {
     "data": {
      "text/plain": [
       "(1793, 104)"
      ]
     },
     "execution_count": 61,
     "metadata": {},
     "output_type": "execute_result"
    }
   ],
   "source": [
    "# The equivalent of R's read.csv()\n",
    "climate_essay_df = pd.read_csv('/home/jovyan/data/data_noID.csv')\n",
    "\n",
    "# The equivalent of R's dim() - getting the rows x columns\n",
    "climate_essay_df.shape"
   ]
  },
  {
   "cell_type": "markdown",
   "metadata": {},
   "source": [
    "# Exploratory Data Analysis"
   ]
  },
  {
   "cell_type": "code",
   "execution_count": 62,
   "metadata": {},
   "outputs": [
    {
     "data": {
      "text/plain": [
       "0    1204\n",
       "1     589\n",
       "Name: trt1, dtype: int64"
      ]
     },
     "execution_count": 62,
     "metadata": {},
     "output_type": "execute_result"
    }
   ],
   "source": [
    "# Getting the unique value counts of the 'treatment 1' column\n",
    "treatment1_counts = climate_essay_df['trt1'].value_counts()\n",
    "# Printing it\n",
    "treatment1_counts"
   ]
  },
  {
   "cell_type": "code",
   "execution_count": 63,
   "metadata": {},
   "outputs": [
    {
     "data": {
      "text/html": [
       "<div>\n",
       "<table border=\"1\" class=\"dataframe\">\n",
       "  <thead>\n",
       "    <tr style=\"text-align: right;\">\n",
       "      <th></th>\n",
       "      <th>trt1</th>\n",
       "    </tr>\n",
       "  </thead>\n",
       "  <tbody>\n",
       "    <tr>\n",
       "      <th>0</th>\n",
       "      <td>1204</td>\n",
       "    </tr>\n",
       "    <tr>\n",
       "      <th>1</th>\n",
       "      <td>589</td>\n",
       "    </tr>\n",
       "  </tbody>\n",
       "</table>\n",
       "</div>"
      ],
      "text/plain": [
       "   trt1\n",
       "0  1204\n",
       "1   589"
      ]
     },
     "execution_count": 63,
     "metadata": {},
     "output_type": "execute_result"
    }
   ],
   "source": [
    "# We can assign these unique values counts to a dataframe for a better view\n",
    "pd.DataFrame(treatment1_counts)"
   ]
  },
  {
   "cell_type": "code",
   "execution_count": 64,
   "metadata": {},
   "outputs": [
    {
     "data": {
      "text/plain": [
       "(589, 3)"
      ]
     },
     "execution_count": 64,
     "metadata": {},
     "output_type": "execute_result"
    }
   ],
   "source": [
    "# The equivalent of R's dplyr::filter()\n",
    "# Subsetting the DataFrame to only the treatment 1 value (0 if not treatment 1, 1 if)\n",
    "subsetted_df = climate_essay_df[climate_essay_df['trt1'] == 1]\n",
    "\n",
    "# The equivalent of R's dplyr::select()\n",
    "# Subsetting the DataFrame to only columns of interest\n",
    "subsetted_df = subsetted_df[['trt1', 'don', 'essay']]\n",
    "\n",
    "# In pandas, removing rows does not automatically reset the index\n",
    "# This will do that\n",
    "# 'drop = True' because otherwise it will add a new index columns\n",
    "subsetted_df = subsetted_df.reset_index(drop = True)\n",
    "\n",
    "# Getting rows x columns\n",
    "subsetted_df.shape"
   ]
  },
  {
   "cell_type": "code",
   "execution_count": 65,
   "metadata": {},
   "outputs": [
    {
     "data": {
      "text/html": [
       "<div>\n",
       "<table border=\"1\" class=\"dataframe\">\n",
       "  <thead>\n",
       "    <tr style=\"text-align: right;\">\n",
       "      <th></th>\n",
       "      <th>trt1</th>\n",
       "      <th>don</th>\n",
       "      <th>essay</th>\n",
       "    </tr>\n",
       "  </thead>\n",
       "  <tbody>\n",
       "    <tr>\n",
       "      <th>0</th>\n",
       "      <td>1</td>\n",
       "      <td>15.0</td>\n",
       "      <td>Dear Adelyn, \\n Today is January 7, 2015. I kn...</td>\n",
       "    </tr>\n",
       "    <tr>\n",
       "      <th>1</th>\n",
       "      <td>1</td>\n",
       "      <td>0.0</td>\n",
       "      <td>To whom it may concern in 2050:\\n\\nThis is 201...</td>\n",
       "    </tr>\n",
       "    <tr>\n",
       "      <th>2</th>\n",
       "      <td>1</td>\n",
       "      <td>19.0</td>\n",
       "      <td>Dear son,\\n    This is your mother from 2015 w...</td>\n",
       "    </tr>\n",
       "    <tr>\n",
       "      <th>3</th>\n",
       "      <td>1</td>\n",
       "      <td>15.0</td>\n",
       "      <td>Dear J-Swag,\\n I want you to know how much I l...</td>\n",
       "    </tr>\n",
       "    <tr>\n",
       "      <th>4</th>\n",
       "      <td>1</td>\n",
       "      <td>0.0</td>\n",
       "      <td>Dear Kailey,\\nYou will be reading this in the ...</td>\n",
       "    </tr>\n",
       "  </tbody>\n",
       "</table>\n",
       "</div>"
      ],
      "text/plain": [
       "   trt1   don                                              essay\n",
       "0     1  15.0  Dear Adelyn, \\n Today is January 7, 2015. I kn...\n",
       "1     1   0.0  To whom it may concern in 2050:\\n\\nThis is 201...\n",
       "2     1  19.0  Dear son,\\n    This is your mother from 2015 w...\n",
       "3     1  15.0  Dear J-Swag,\\n I want you to know how much I l...\n",
       "4     1   0.0  Dear Kailey,\\nYou will be reading this in the ..."
      ]
     },
     "execution_count": 65,
     "metadata": {},
     "output_type": "execute_result"
    }
   ],
   "source": [
    "# The equivalent of R's head()\n",
    "# Viewing the first 5 rows of our subsetted DataFrame\n",
    "subsetted_df.head(5)"
   ]
  },
  {
   "cell_type": "code",
   "execution_count": 66,
   "metadata": {},
   "outputs": [
    {
     "data": {
      "text/html": [
       "<div>\n",
       "<table border=\"1\" class=\"dataframe\">\n",
       "  <thead>\n",
       "    <tr style=\"text-align: right;\">\n",
       "      <th></th>\n",
       "      <th>trt1</th>\n",
       "      <th>don</th>\n",
       "      <th>essay</th>\n",
       "    </tr>\n",
       "  </thead>\n",
       "  <tbody>\n",
       "    <tr>\n",
       "      <th>165</th>\n",
       "      <td>1</td>\n",
       "      <td>20.0</td>\n",
       "      <td>Dear Trinity, \\n\\nI am sure that you noticed t...</td>\n",
       "    </tr>\n",
       "  </tbody>\n",
       "</table>\n",
       "</div>"
      ],
      "text/plain": [
       "     trt1   don                                              essay\n",
       "165     1  20.0  Dear Trinity, \\n\\nI am sure that you noticed t..."
      ]
     },
     "execution_count": 66,
     "metadata": {},
     "output_type": "execute_result"
    }
   ],
   "source": [
    "# Getting a random row from the DataFrame\n",
    "random_entry = subsetted_df.sample()\n",
    "\n",
    "# Viewing that random row\n",
    "random_entry"
   ]
  },
  {
   "cell_type": "code",
   "execution_count": 67,
   "metadata": {},
   "outputs": [
    {
     "data": {
      "text/plain": [
       "165    Dear Trinity, \\n\\nI am sure that you noticed t...\n",
       "Name: essay, dtype: object"
      ]
     },
     "execution_count": 67,
     "metadata": {},
     "output_type": "execute_result"
    }
   ],
   "source": [
    "# Viewing only the essay column value for that DataFrame\n",
    "random_entry['essay']"
   ]
  },
  {
   "cell_type": "code",
   "execution_count": 68,
   "metadata": {},
   "outputs": [
    {
     "data": {
      "text/plain": [
       "array([ \"Dear Trinity, \\n\\nI am sure that you noticed the seasons changing, and the seasons getting harsher and harsher as you grew older. This isn't just a coincidence, this is due to climate change. \\n\\nThe USA is still the leading producer of carbon dioxide, due to the coal burning that we still do. China is in 2nd, but their area is so small that they need oxygen tanks to breathe.\\n\\nI just hope that they decided to do something about the way that fossil fuels are burned with cars and the industry, otherwise, you might not be able to see cities like New Orleans, as it will be under water. \\n\\nI hope that you have at least been taught on how to save on the burning of fossil fuels. Everything from riding the bus to work and back, to carpooling to a concert. Every little bit helps.\\n\\nI hope all is well, when you read this... if you read this.\\n\\nLove, \\n\\nChristian\"], dtype=object)"
      ]
     },
     "execution_count": 68,
     "metadata": {},
     "output_type": "execute_result"
    }
   ],
   "source": [
    "# Viewing the stored value - opposed to the pandas Series object\n",
    "random_entry['essay'].values"
   ]
  },
  {
   "cell_type": "code",
   "execution_count": 69,
   "metadata": {},
   "outputs": [
    {
     "data": {
      "text/plain": [
       "\"Dear Trinity, \\n\\nI am sure that you noticed the seasons changing, and the seasons getting harsher and harsher as you grew older. This isn't just a coincidence, this is due to climate change. \\n\\nThe USA is still the leading producer of carbon dioxide, due to the coal burning that we still do. China is in 2nd, but their area is so small that they need oxygen tanks to breathe.\\n\\nI just hope that they decided to do something about the way that fossil fuels are burned with cars and the industry, otherwise, you might not be able to see cities like New Orleans, as it will be under water. \\n\\nI hope that you have at least been taught on how to save on the burning of fossil fuels. Everything from riding the bus to work and back, to carpooling to a concert. Every little bit helps.\\n\\nI hope all is well, when you read this... if you read this.\\n\\nLove, \\n\\nChristian\""
      ]
     },
     "execution_count": 69,
     "metadata": {},
     "output_type": "execute_result"
    }
   ],
   "source": [
    "# Removing that lone value/essay from the numpy array - after all it's just 1\n",
    "# Python indexing starts at 0!\n",
    "random_entry['essay'].values[0]"
   ]
  },
  {
   "cell_type": "markdown",
   "metadata": {},
   "source": [
    "Let's figure out how many words people wrote for the essays"
   ]
  },
  {
   "cell_type": "code",
   "execution_count": 70,
   "metadata": {},
   "outputs": [],
   "source": [
    "# FOR LOOP METHOD\n",
    "# Creating an empty vector to store word counts in\n",
    "word_counts_list = []\n",
    "\n",
    "# For-looping over all the rows\n",
    "for row in range(len(subsetted_df)):\n",
    "    # Storing the text from each row\n",
    "    essay = subsetted_df['essay'][row]\n",
    "    # Splitting the string vector into a list of individual words\n",
    "    # This splits a larger string, on white space (i.e. \" \"), into smaller component strings\n",
    "    words = essay.split()\n",
    "    # Getting the length of that list\n",
    "    word_count = len(words)\n",
    "    # Appending that to our growing list - for each row, it gets +1 longer\n",
    "    word_counts_list.append(word_count)"
   ]
  },
  {
   "cell_type": "code",
   "execution_count": 71,
   "metadata": {},
   "outputs": [],
   "source": [
    "# LIST COMPREHENSION METHOD\n",
    "# For each row, it takes that essay columns value/essay\n",
    "essays = [(subsetted_df['essay'][row]) for row in range(len(subsetted_df))]\n",
    "# Splits that essay into a list of individual words - by using white space\n",
    "words = [essay.split() for essay in essays]\n",
    "# Gets the length of each of those lists\n",
    "word_counts_list_alternative = [len(word) for word in words]"
   ]
  },
  {
   "cell_type": "code",
   "execution_count": 72,
   "metadata": {},
   "outputs": [
    {
     "data": {
      "text/plain": [
       "True"
      ]
     },
     "execution_count": 72,
     "metadata": {},
     "output_type": "execute_result"
    }
   ],
   "source": [
    "# Ensures that they are the same length\n",
    "word_counts_list == word_counts_list_alternative"
   ]
  },
  {
   "cell_type": "markdown",
   "metadata": {},
   "source": [
    "## Plotting"
   ]
  },
  {
   "cell_type": "code",
   "execution_count": 73,
   "metadata": {},
   "outputs": [
    {
     "data": {
      "text/plain": [
       "(array([ 170.,  204.,  119.,   59.,   16.,   10.,    4.,    3.,    3.,    1.]),\n",
       " array([  84.,  139.,  194.,  249.,  304.,  359.,  414.,  469.,  524.,\n",
       "         579.,  634.]),\n",
       " <a list of 10 Patch objects>)"
      ]
     },
     "execution_count": 73,
     "metadata": {},
     "output_type": "execute_result"
    },
    {
     "data": {
      "image/png": "[encoded data removed]",
      "text/plain": [
       "<matplotlib.figure.Figure at 0x7fa83210ee80>"
      ]
     },
     "metadata": {},
     "output_type": "display_data"
    }
   ],
   "source": [
    "# View the distribution of word counts within essays\n",
    "plt.hist(word_counts_list)"
   ]
  },
  {
   "cell_type": "markdown",
   "metadata": {},
   "source": [
    "That's kind of ugly, and what's up with all those arrays and numbers?\n",
    "<br>Let's clean this up a little bit"
   ]
  },
  {
   "cell_type": "code",
   "execution_count": 74,
   "metadata": {
    "scrolled": false
   },
   "outputs": [
    {
     "name": "stdout",
     "output_type": "stream",
     "text": [
      "The average number of words written is 186.319185\n"
     ]
    },
    {
     "data": {
      "image/png": "[encoded data removed]",
      "text/plain": [
       "<matplotlib.figure.Figure at 0x7fa832166f98>"
      ]
     },
     "metadata": {},
     "output_type": "display_data"
    }
   ],
   "source": [
    "# Getting the average word count\n",
    "average_word_count = np.mean(word_counts_list)\n",
    "# Printing this value out in a text statement\n",
    "# \"%0.6f\" says that you are formatting a numeric object into the print statement\n",
    "# The numeric object to-be-inserted follows the \"%\" after the ending quotation mark\n",
    "print('The average number of words written is %0.6f' % average_word_count)\n",
    "\n",
    "# Plotting the histogram\n",
    "plt.hist(word_counts_list,\n",
    "         bins = 50,                         # With 50 bins...\n",
    "         color = 'grey',                    # And grey bars...\n",
    "         edgecolor = 'black')               # With black edge lines\n",
    "\n",
    "# Adding labels of specified sizes\n",
    "plt.xlabel('Word Count',                    # The text for the xlabel\n",
    "           fontsize = 15)                   # The text's font size\n",
    "plt.ylabel('Frequency',\n",
    "           fontsize = 15)\n",
    "plt.title(\"What's the word count distribution?\",\n",
    "          fontsize = 18)\n",
    "\n",
    "# Plot a line for the average value\n",
    "plt.axvline(x = average_word_count,         # Specifying only the x position makes\n",
    "                                            #     this a verticle line at average_word_count\n",
    "            lw = 2,                         # Make this line thicker...\n",
    "            color = 'red',                  # Make the thicker line red...\n",
    "            linestyle = '--');              # Make the thicker red line dashed..."
   ]
  },
  {
   "cell_type": "markdown",
   "metadata": {},
   "source": [
    "<br><br>"
   ]
  },
  {
   "cell_type": "markdown",
   "metadata": {},
   "source": [
    "What about the donations that people chose to give?"
   ]
  },
  {
   "cell_type": "code",
   "execution_count": 75,
   "metadata": {},
   "outputs": [
    {
     "data": {
      "text/plain": [
       "(array([ 168.,   31.,  101.,    4.,    0.,  167.,    5.,   34.,    4.,   75.]),\n",
       " array([  0.,   2.,   4.,   6.,   8.,  10.,  12.,  14.,  16.,  18.,  20.]),\n",
       " <a list of 10 Patch objects>)"
      ]
     },
     "execution_count": 75,
     "metadata": {},
     "output_type": "execute_result"
    },
    {
     "data": {
      "image/png": "[encoded data removed]",
      "text/plain": [
       "<matplotlib.figure.Figure at 0x7fa832071940>"
      ]
     },
     "metadata": {},
     "output_type": "display_data"
    }
   ],
   "source": [
    "plt.hist(subsetted_df['don'])"
   ]
  },
  {
   "cell_type": "code",
   "execution_count": 76,
   "metadata": {},
   "outputs": [
    {
     "name": "stdout",
     "output_type": "stream",
     "text": [
      "The average number of words written is 7.522920\n"
     ]
    },
    {
     "data": {
      "image/png": "[encoded data removed]",
      "text/plain": [
       "<matplotlib.figure.Figure at 0x7fa832034048>"
      ]
     },
     "metadata": {},
     "output_type": "display_data"
    }
   ],
   "source": [
    "# Calculating the average donation\n",
    "average_donation = np.mean(subsetted_df['don'])\n",
    "# The statement printing the average donation\n",
    "print('The average number of words written is %0.6f' % average_donation)\n",
    "\n",
    "# The histogram\n",
    "plt.hist(subsetted_df['don'],\n",
    "         bins = 50,\n",
    "         color = 'grey',\n",
    "         edgecolor = 'black')\n",
    "\n",
    "# The labels\n",
    "plt.xlabel('Word Count',\n",
    "           fontsize = 15)\n",
    "plt.ylabel('Frequency',\n",
    "           fontsize = 15)\n",
    "plt.title(\"What's the word count distribution?\",\n",
    "          fontsize = 18)\n",
    "\n",
    "# The average-donation line\n",
    "plt.axvline(x = average_donation,\n",
    "            lw = 2,\n",
    "            color = 'red',\n",
    "            linestyle = '--');"
   ]
  },
  {
   "cell_type": "markdown",
   "metadata": {},
   "source": [
    "It would seem that there are two groups within this distribution, $(1)$ those that were strongly convinced and gave $10$ or more dollars of their gift towards climate change donations, and $(2)$ those that were not."
   ]
  },
  {
   "cell_type": "code",
   "execution_count": 77,
   "metadata": {},
   "outputs": [
    {
     "data": {
      "text/html": [
       "<div>\n",
       "<table border=\"1\" class=\"dataframe\">\n",
       "  <thead>\n",
       "    <tr style=\"text-align: right;\">\n",
       "      <th></th>\n",
       "      <th>trt1</th>\n",
       "      <th>don</th>\n",
       "      <th>essay</th>\n",
       "      <th>big_donator</th>\n",
       "    </tr>\n",
       "  </thead>\n",
       "  <tbody>\n",
       "    <tr>\n",
       "      <th>0</th>\n",
       "      <td>1</td>\n",
       "      <td>15.0</td>\n",
       "      <td>Dear Adelyn, \\n Today is January 7, 2015. I kn...</td>\n",
       "      <td>1</td>\n",
       "    </tr>\n",
       "    <tr>\n",
       "      <th>1</th>\n",
       "      <td>1</td>\n",
       "      <td>0.0</td>\n",
       "      <td>To whom it may concern in 2050:\\n\\nThis is 201...</td>\n",
       "      <td>0</td>\n",
       "    </tr>\n",
       "    <tr>\n",
       "      <th>2</th>\n",
       "      <td>1</td>\n",
       "      <td>19.0</td>\n",
       "      <td>Dear son,\\n    This is your mother from 2015 w...</td>\n",
       "      <td>1</td>\n",
       "    </tr>\n",
       "    <tr>\n",
       "      <th>3</th>\n",
       "      <td>1</td>\n",
       "      <td>15.0</td>\n",
       "      <td>Dear J-Swag,\\n I want you to know how much I l...</td>\n",
       "      <td>1</td>\n",
       "    </tr>\n",
       "    <tr>\n",
       "      <th>4</th>\n",
       "      <td>1</td>\n",
       "      <td>0.0</td>\n",
       "      <td>Dear Kailey,\\nYou will be reading this in the ...</td>\n",
       "      <td>0</td>\n",
       "    </tr>\n",
       "  </tbody>\n",
       "</table>\n",
       "</div>"
      ],
      "text/plain": [
       "   trt1   don                                              essay  big_donator\n",
       "0     1  15.0  Dear Adelyn, \\n Today is January 7, 2015. I kn...            1\n",
       "1     1   0.0  To whom it may concern in 2050:\\n\\nThis is 201...            0\n",
       "2     1  19.0  Dear son,\\n    This is your mother from 2015 w...            1\n",
       "3     1  15.0  Dear J-Swag,\\n I want you to know how much I l...            1\n",
       "4     1   0.0  Dear Kailey,\\nYou will be reading this in the ...            0"
      ]
     },
     "execution_count": 77,
     "metadata": {},
     "output_type": "execute_result"
    }
   ],
   "source": [
    "# Creating a logical column - True if the person donated $10 or more\n",
    "subsetted_df['big_donator'] = (subsetted_df['don'] >= 10)\n",
    "\n",
    "# Converting this logical to an integer; True = 1, False = 0\n",
    "subsetted_df['big_donator'] = subsetted_df['big_donator'].astype(int)\n",
    "\n",
    "# Viewing the first 5 rows\n",
    "subsetted_df.head(5)"
   ]
  },
  {
   "cell_type": "markdown",
   "metadata": {},
   "source": [
    "What's the distribution here?"
   ]
  },
  {
   "cell_type": "code",
   "execution_count": 78,
   "metadata": {},
   "outputs": [
    {
     "data": {
      "text/html": [
       "<div>\n",
       "<table border=\"1\" class=\"dataframe\">\n",
       "  <thead>\n",
       "    <tr style=\"text-align: right;\">\n",
       "      <th></th>\n",
       "      <th>big_donator</th>\n",
       "    </tr>\n",
       "  </thead>\n",
       "  <tbody>\n",
       "    <tr>\n",
       "      <th>0</th>\n",
       "      <td>304</td>\n",
       "    </tr>\n",
       "    <tr>\n",
       "      <th>1</th>\n",
       "      <td>285</td>\n",
       "    </tr>\n",
       "  </tbody>\n",
       "</table>\n",
       "</div>"
      ],
      "text/plain": [
       "   big_donator\n",
       "0          304\n",
       "1          285"
      ]
     },
     "execution_count": 78,
     "metadata": {},
     "output_type": "execute_result"
    }
   ],
   "source": [
    "# Viewing the unique value counts again\n",
    "pd.DataFrame(subsetted_df['big_donator'].value_counts())"
   ]
  },
  {
   "cell_type": "code",
   "execution_count": 79,
   "metadata": {},
   "outputs": [
    {
     "data": {
      "image/png": "[encoded data removed]",
      "text/plain": [
       "<matplotlib.figure.Figure at 0x7fa831fe4dd8>"
      ]
     },
     "metadata": {},
     "output_type": "display_data"
    }
   ],
   "source": [
    "# A histogram of this new 'big donator' column\n",
    "plt.hist(subsetted_df['big_donator'],\n",
    "         bins = 2,\n",
    "         edgecolor = 'black',\n",
    "         color = 'grey');"
   ]
  },
  {
   "cell_type": "markdown",
   "metadata": {},
   "source": [
    "# -------RESUME HERE-----------"
   ]
  },
  {
   "cell_type": "markdown",
   "metadata": {},
   "source": [
    "# Text Processing"
   ]
  },
  {
   "cell_type": "markdown",
   "metadata": {},
   "source": [
    "Importing the sklearn method for generating a \"bag of words\"; essentially a large dictionary mapping a word to its counts in a specific observation"
   ]
  },
  {
   "cell_type": "code",
   "execution_count": 80,
   "metadata": {},
   "outputs": [],
   "source": [
    "from sklearn.feature_extraction.text import CountVectorizer"
   ]
  },
  {
   "cell_type": "code",
   "execution_count": 81,
   "metadata": {},
   "outputs": [],
   "source": [
    "# Creating a CountVectorizer object\n",
    "word_counter = CountVectorizer()\n",
    "\n",
    "# Fitting this word-counter on our train essays\n",
    "# And transforming the essays into a bag of words dictionary-matrix\n",
    "bag_of_words = word_counter.fit_transform(essays)"
   ]
  },
  {
   "cell_type": "markdown",
   "metadata": {},
   "source": [
    "Import the logistic regression model from sklearn"
   ]
  },
  {
   "cell_type": "code",
   "execution_count": 82,
   "metadata": {},
   "outputs": [],
   "source": [
    "from sklearn.linear_model import LogisticRegression"
   ]
  },
  {
   "cell_type": "markdown",
   "metadata": {},
   "source": [
    "Setting our target variable"
   ]
  },
  {
   "cell_type": "code",
   "execution_count": 83,
   "metadata": {},
   "outputs": [],
   "source": [
    "Y_values = subsetted_df['big_donator'].values"
   ]
  },
  {
   "cell_type": "markdown",
   "metadata": {},
   "source": [
    "Defining and training the model"
   ]
  },
  {
   "cell_type": "code",
   "execution_count": 84,
   "metadata": {},
   "outputs": [
    {
     "data": {
      "text/plain": [
       "LogisticRegression(C=1.0, class_weight=None, dual=False, fit_intercept=True,\n",
       "          intercept_scaling=1, max_iter=100, multi_class='ovr', n_jobs=1,\n",
       "          penalty='l2', random_state=None, solver='liblinear', tol=0.0001,\n",
       "          verbose=0, warm_start=False)"
      ]
     },
     "execution_count": 84,
     "metadata": {},
     "output_type": "execute_result"
    }
   ],
   "source": [
    "# Creating the logistic regression object\n",
    "model = LogisticRegression()\n",
    "\n",
    "# Fitting it to our \"x\" and y-values\n",
    "model.fit(bag_of_words, Y_values)"
   ]
  },
  {
   "cell_type": "markdown",
   "metadata": {},
   "source": [
    "# Evaluation"
   ]
  },
  {
   "cell_type": "markdown",
   "metadata": {},
   "source": [
    "Getting predictions from the model"
   ]
  },
  {
   "cell_type": "code",
   "execution_count": 85,
   "metadata": {},
   "outputs": [
    {
     "data": {
      "image/png": "[encoded data removed]",
      "text/plain": [
       "<matplotlib.figure.Figure at 0x7fa831d980f0>"
      ]
     },
     "metadata": {},
     "output_type": "display_data"
    }
   ],
   "source": [
    "# Generating predictions from the sklearn model\n",
    "predictions = model.predict(bag_of_words)\n",
    "\n",
    "plt.hist(predictions);"
   ]
  },
  {
   "cell_type": "markdown",
   "metadata": {},
   "source": [
    "Import sklearn functions that aid in model evaluation"
   ]
  },
  {
   "cell_type": "code",
   "execution_count": 86,
   "metadata": {},
   "outputs": [],
   "source": [
    "from sklearn.metrics import accuracy_score, confusion_matrix"
   ]
  },
  {
   "cell_type": "code",
   "execution_count": 87,
   "metadata": {},
   "outputs": [
    {
     "name": "stdout",
     "output_type": "stream",
     "text": [
      "The accuracy of the model is 100.000000%\n"
     ]
    }
   ],
   "source": [
    "accuracy = accuracy_score(predictions, Y_values)\n",
    "print('The accuracy of the model is %0.6f' % (accuracy * 100) + '%')"
   ]
  },
  {
   "cell_type": "markdown",
   "metadata": {},
   "source": [
    "If the model was wrong, see where and how it was wrong.\n",
    "<br>In the confusion matrix, rows sum to the number of observed values for a class, while columns sum\n",
    "to the number of predicted values for a class. With 100% accuracy, only the diagonal from top-left to bottom-right contains non-zero integers and the non-diagonal values correspond to types of errors"
   ]
  },
  {
   "cell_type": "code",
   "execution_count": 88,
   "metadata": {},
   "outputs": [
    {
     "data": {
      "text/plain": [
       "array([[285,   0],\n",
       "       [  0, 304]])"
      ]
     },
     "execution_count": 88,
     "metadata": {},
     "output_type": "execute_result"
    }
   ],
   "source": [
    "confusion_matrix(Y_values, predictions, labels = [1, 0])"
   ]
  },
  {
   "cell_type": "markdown",
   "metadata": {},
   "source": [
    "<br><br>"
   ]
  },
  {
   "cell_type": "code",
   "execution_count": 89,
   "metadata": {},
   "outputs": [],
   "source": [
    "from sklearn.model_selection import train_test_split"
   ]
  },
  {
   "cell_type": "markdown",
   "metadata": {},
   "source": [
    "Data split for evaluation"
   ]
  },
  {
   "cell_type": "code",
   "execution_count": 90,
   "metadata": {},
   "outputs": [],
   "source": [
    "# Creating train (in-sample) and test (out-of-sample) sets\n",
    "train_df, test_df = train_test_split(subsetted_df, \n",
    "                                     test_size = 0.2,       # 80/20 train/test split\n",
    "                                     random_state = 123)    # Making sure everyone gets the same thing"
   ]
  },
  {
   "cell_type": "markdown",
   "metadata": {},
   "source": [
    "Some data conversion\n",
    "<br>The essays are currently in a Panda's DataFrame column, it would be more reasonable to have them as a vector (`np.ndarray`) of strings. This data structure carries less formatting and is more generalizable than a data frame column."
   ]
  },
  {
   "cell_type": "code",
   "execution_count": 91,
   "metadata": {},
   "outputs": [
    {
     "data": {
      "text/plain": [
       "'Dear Danny,\\n     So it is 2015 and I am concerned about you and your brother\\'s future. Your father and I see on the news all of the time about how the polar ice caps are melting. We know that if this happens there will be great floods in the coastal cities such as New York. Floods in all major coastal cities would cause millions or even billions of people worldwide to relocate further inland, which could then put a major strain on resources. It will be 2050 by the time you are reading this and I suppose by then some of the extreme consequences of our pollution of the earth will have taken effect. My only prayer is that between now and then, enough people around the world will have changed their ways enough to save our planet.\\n    Our family will do its part by driving less, walking more, and recycling. Right now our habits in these areas have a lot of room to improve. Your brothers and father most certainly do not consider what they are throwing away and whether or not it could be recycled. All of us also simply consume too much and need to learn to be more conservative. When I read articles or see videos that explain that actual impact on the Earth, I realize that our family needs to make changes in the way we live. We will work together to do our part in the fight to save our planet. When the weather is warmer here at home, we can walk to and from school. That would be good exercise for all of us and it will save carbon emissions from our vehicles, which is a huge part of the problem around the world right now. All the extra carbon that humans are adding into the atmosphere is creating a \"greenhouse effect\", trapping the sun\\'s heat near the earth\\'s surface and thereby making the entire planet slightly warmer. When we as a society collectively pollute the earth and fail to exercise better habits, we are ruining the climate stability of the earth and jeopardizing the safety and living conditions for all of us. Earth is the only planet, we know of at this time, that is habitable for humanity. If we continue to ignore the warning signs that our planet is in danger, we can effectively doom our entire race and any chance we have of continuing to inhabit this planet for generations to come.\\n    I hope the necessary changes have been made by not only our family, but everyone around the world  and that by now you might live in a better world than the one we are headed for.\\n                                                                                                           Love, \\n                                                                                                            Mom'"
      ]
     },
     "execution_count": 91,
     "metadata": {},
     "output_type": "execute_result"
    }
   ],
   "source": [
    "# Converting the Panda's formal dataframe column into a standard vector of strings\n",
    "train_essays = train_df['essay'].values\n",
    "test_essays = test_df['essay'].values\n",
    "\n",
    "train_essays[0]"
   ]
  },
  {
   "cell_type": "markdown",
   "metadata": {},
   "source": [
    "Let's get a count of words"
   ]
  },
  {
   "cell_type": "code",
   "execution_count": 92,
   "metadata": {},
   "outputs": [
    {
     "data": {
      "text/plain": [
       "<471x5394 sparse matrix of type '<class 'numpy.int64'>'\n",
       "\twith 52240 stored elements in Compressed Sparse Row format>"
      ]
     },
     "execution_count": 92,
     "metadata": {},
     "output_type": "execute_result"
    }
   ],
   "source": [
    "# Creating a CountVectorizer object\n",
    "word_counter = CountVectorizer()\n",
    "\n",
    "# Fitting this word-counter on our train essays\n",
    "word_counter.fit(train_essays)\n",
    "\n",
    "# Transforming the train and test set essays into the word count form\n",
    "test_word_counts = word_counter.transform(test_essays)\n",
    "train_word_counts = word_counter.transform(train_essays)\n",
    "\n",
    "# What's the result?\n",
    "train_word_counts"
   ]
  },
  {
   "cell_type": "markdown",
   "metadata": {},
   "source": [
    "What in the world is that?\n",
    "<br>Because most words won't be present in any given paragraph, the resulting word counts are mostly zeros. Since it's mostly empty, it's nice to prevent printing out 1000s of zeros, so it is stored as a sparse matrix. We can try to inspect it, but, in reality, it's too much, as shown below."
   ]
  },
  {
   "cell_type": "code",
   "execution_count": 93,
   "metadata": {},
   "outputs": [
    {
     "data": {
      "text/plain": [
       "matrix([[0, 0, 0, ..., 0, 0, 0],\n",
       "        [0, 0, 0, ..., 0, 0, 0],\n",
       "        [0, 0, 0, ..., 0, 0, 0],\n",
       "        ..., \n",
       "        [0, 0, 0, ..., 0, 0, 0],\n",
       "        [0, 0, 0, ..., 0, 0, 0],\n",
       "        [0, 0, 0, ..., 0, 0, 0]])"
      ]
     },
     "execution_count": 93,
     "metadata": {},
     "output_type": "execute_result"
    }
   ],
   "source": [
    "train_word_counts.todense()"
   ]
  },
  {
   "cell_type": "markdown",
   "metadata": {},
   "source": [
    "Well, how can we trust this?\n",
    "<br>We can inspect the attributes that this `word_counter` has learned"
   ]
  },
  {
   "cell_type": "code",
   "execution_count": 94,
   "metadata": {},
   "outputs": [
    {
     "name": "stdout",
     "output_type": "stream",
     "text": [
      "['000', '01', '02', '10', '100', '10000x', '11', '12', '120', '12x6x']\n",
      "['concerned', 'concerning', 'concerns', 'concert', 'conclusion', 'conclusively', 'concrete', 'condition', 'conditioned', 'conditioner']\n",
      "['youth', 'yrs', 'yyyyyyyyyyy', 'zabiah', 'zach', 'zayna', 'zero', 'ziplock', 'zoo', 'zzzzzzzzzzz']\n",
      "\n",
      "In total, it learned 5394.000000 words\n"
     ]
    }
   ],
   "source": [
    "learned_words = word_counter.get_feature_names()\n",
    "\n",
    "print(learned_words[0:10])\n",
    "print(learned_words[1000:1010])\n",
    "print(learned_words[-10:])\n",
    "print(\"\\nIn total, it learned %0.6f words\" % len(word_counter.get_feature_names()))"
   ]
  },
  {
   "cell_type": "markdown",
   "metadata": {},
   "source": [
    "What are the individual word counts?"
   ]
  },
  {
   "cell_type": "code",
   "execution_count": 95,
   "metadata": {
    "scrolled": true
   },
   "outputs": [
    {
     "data": {
      "text/plain": [
       "{'dear': 1234,\n",
       " 'danny': 1212,\n",
       " 'so': 4438,\n",
       " 'it': 2654,\n",
       " 'is': 2642,\n",
       " '2015': 41,\n",
       " 'and': 312,\n",
       " 'am': 291,\n",
       " 'concerned': 1000,\n",
       " 'about': 102,\n",
       " 'you': 5376,\n",
       " 'your': 5380,\n",
       " 'brother': 655,\n",
       " 'future': 2057,\n",
       " 'father': 1859,\n",
       " 'see': 4270,\n",
       " 'on': 3358,\n",
       " 'the': 4780,\n",
       " 'news': 3256,\n",
       " 'all': 262,\n",
       " 'of': 3340,\n",
       " 'time': 4843,\n",
       " 'how': 2396,\n",
       " 'polar': 3624,\n",
       " 'ice': 2435,\n",
       " 'caps': 738,\n",
       " 'are': 364,\n",
       " 'melting': 3048,\n",
       " 'we': 5221,\n",
       " 'know': 2741,\n",
       " 'that': 4778,\n",
       " 'if': 2447,\n",
       " 'this': 4805,\n",
       " 'happens': 2248,\n",
       " 'there': 4790,\n",
       " 'will': 5281,\n",
       " 'be': 487,\n",
       " 'great': 2176,\n",
       " 'floods': 1940,\n",
       " 'in': 2494,\n",
       " 'coastal': 919,\n",
       " 'cities': 867,\n",
       " 'such': 4626,\n",
       " 'as': 383,\n",
       " 'new': 3253,\n",
       " 'york': 5375,\n",
       " 'major': 2970,\n",
       " 'would': 5343,\n",
       " 'cause': 780,\n",
       " 'millions': 3099,\n",
       " 'or': 3387,\n",
       " 'even': 1705,\n",
       " 'billions': 563,\n",
       " 'people': 3522,\n",
       " 'worldwide': 5330,\n",
       " 'to': 4853,\n",
       " 'relocate': 4022,\n",
       " 'further': 2052,\n",
       " 'inland': 2563,\n",
       " 'which': 5265,\n",
       " 'could': 1122,\n",
       " 'then': 4787,\n",
       " 'put': 3842,\n",
       " 'strain': 4576,\n",
       " 'resources': 4083,\n",
       " '2050': 44,\n",
       " 'by': 703,\n",
       " 'reading': 3910,\n",
       " 'suppose': 4660,\n",
       " 'some': 4453,\n",
       " 'extreme': 1796,\n",
       " 'consequences': 1030,\n",
       " 'our': 3407,\n",
       " 'pollution': 3641,\n",
       " 'earth': 1526,\n",
       " 'have': 2279,\n",
       " 'taken': 4710,\n",
       " 'effect': 1565,\n",
       " 'my': 3203,\n",
       " 'only': 3363,\n",
       " 'prayer': 3689,\n",
       " 'between': 547,\n",
       " 'now': 3305,\n",
       " 'enough': 1663,\n",
       " 'around': 374,\n",
       " 'world': 5328,\n",
       " 'changed': 812,\n",
       " 'their': 4784,\n",
       " 'ways': 5220,\n",
       " 'save': 4214,\n",
       " 'planet': 3582,\n",
       " 'family': 1836,\n",
       " 'do': 1436,\n",
       " 'its': 2657,\n",
       " 'part': 3479,\n",
       " 'driving': 1497,\n",
       " 'less': 2821,\n",
       " 'walking': 5167,\n",
       " 'more': 3161,\n",
       " 'recycling': 3965,\n",
       " 'right': 4131,\n",
       " 'habits': 2224,\n",
       " 'these': 4794,\n",
       " 'areas': 366,\n",
       " 'lot': 2924,\n",
       " 'room': 4158,\n",
       " 'improve': 2487,\n",
       " 'brothers': 656,\n",
       " 'most': 3164,\n",
       " 'certainly': 799,\n",
       " 'not': 3292,\n",
       " 'consider': 1039,\n",
       " 'what': 5254,\n",
       " 'they': 4796,\n",
       " 'throwing': 4828,\n",
       " 'away': 441,\n",
       " 'whether': 5264,\n",
       " 'recycled': 3961,\n",
       " 'us': 5062,\n",
       " 'also': 279,\n",
       " 'simply': 4384,\n",
       " 'consume': 1056,\n",
       " 'too': 4866,\n",
       " 'much': 3187,\n",
       " 'need': 3235,\n",
       " 'learn': 2805,\n",
       " 'conservative': 1033,\n",
       " 'when': 5260,\n",
       " 'read': 3908,\n",
       " 'articles': 381,\n",
       " 'videos': 5129,\n",
       " 'explain': 1774,\n",
       " 'actual': 157,\n",
       " 'impact': 2466,\n",
       " 'realize': 3920,\n",
       " 'needs': 3237,\n",
       " 'make': 2973,\n",
       " 'changes': 813,\n",
       " 'way': 5218,\n",
       " 'live': 2885,\n",
       " 'work': 5321,\n",
       " 'together': 4857,\n",
       " 'fight': 1891,\n",
       " 'weather': 5228,\n",
       " 'warmer': 5181,\n",
       " 'here': 2323,\n",
       " 'at': 400,\n",
       " 'home': 2359,\n",
       " 'can': 721,\n",
       " 'walk': 5164,\n",
       " 'from': 2022,\n",
       " 'school': 4240,\n",
       " 'good': 2142,\n",
       " 'exercise': 1747,\n",
       " 'for': 1970,\n",
       " 'carbon': 743,\n",
       " 'emissions': 1619,\n",
       " 'vehicles': 5115,\n",
       " 'huge': 2401,\n",
       " 'problem': 3745,\n",
       " 'extra': 1792,\n",
       " 'humans': 2411,\n",
       " 'adding': 170,\n",
       " 'into': 2614,\n",
       " 'atmosphere': 403,\n",
       " 'creating': 1155,\n",
       " 'greenhouse': 2186,\n",
       " 'trapping': 4909,\n",
       " 'sun': 4642,\n",
       " 'heat': 2300,\n",
       " 'near': 3226,\n",
       " 'surface': 4666,\n",
       " 'thereby': 4791,\n",
       " 'making': 2976,\n",
       " 'entire': 1670,\n",
       " 'slightly': 4413,\n",
       " 'society': 4443,\n",
       " 'collectively': 934,\n",
       " 'pollute': 3636,\n",
       " 'fail': 1819,\n",
       " 'better': 546,\n",
       " 'ruining': 4174,\n",
       " 'climate': 895,\n",
       " 'stability': 4519,\n",
       " 'jeopardizing': 2672,\n",
       " 'safety': 4197,\n",
       " 'living': 2889,\n",
       " 'conditions': 1011,\n",
       " 'habitable': 2222,\n",
       " 'humanity': 2408,\n",
       " 'continue': 1069,\n",
       " 'ignore': 2450,\n",
       " 'warning': 5189,\n",
       " 'signs': 4377,\n",
       " 'danger': 1207,\n",
       " 'effectively': 1569,\n",
       " 'doom': 1458,\n",
       " 'race': 3859,\n",
       " 'any': 331,\n",
       " 'chance': 808,\n",
       " 'continuing': 1072,\n",
       " 'inhabit': 2553,\n",
       " 'generations': 2091,\n",
       " 'come': 946,\n",
       " 'hope': 2373,\n",
       " 'necessary': 3232,\n",
       " 'been': 508,\n",
       " 'made': 2957,\n",
       " 'but': 696,\n",
       " 'everyone': 1718,\n",
       " 'might': 3086,\n",
       " 'than': 4773,\n",
       " 'one': 3360,\n",
       " 'headed': 2288,\n",
       " 'love': 2927,\n",
       " 'mom': 3146,\n",
       " 'hello': 2312,\n",
       " 'dolly': 1446,\n",
       " 'has': 2271,\n",
       " 'treating': 4919,\n",
       " 'penguins': 3518,\n",
       " 'well': 5245,\n",
       " 'tried': 4933,\n",
       " 'keep': 2711,\n",
       " 'shape': 4318,\n",
       " 'possible': 3670,\n",
       " 'during': 1513,\n",
       " 'conserve': 1035,\n",
       " 'fuel': 2033,\n",
       " 'efficient': 1574,\n",
       " 'vehicle': 5114,\n",
       " 'afford': 219,\n",
       " 'reusing': 4115,\n",
       " 'hopefully': 2375,\n",
       " 'done': 1455,\n",
       " 'reverse': 4117,\n",
       " 'global': 2123,\n",
       " 'warming': 5183,\n",
       " 'trend': 4927,\n",
       " 'many': 2997,\n",
       " 'believe': 525,\n",
       " 'starting': 4536,\n",
       " 'told': 4860,\n",
       " 'me': 3026,\n",
       " 'recently': 3939,\n",
       " 'her': 2321,\n",
       " '91': 95,\n",
       " 'years': 5369,\n",
       " 'she': 4323,\n",
       " 'remember': 4035,\n",
       " 'seeing': 4271,\n",
       " 'crazy': 1150,\n",
       " 'had': 2225,\n",
       " 'childhood': 843,\n",
       " 'why': 5274,\n",
       " 'try': 4955,\n",
       " 'help': 2313,\n",
       " 'noot': 3283,\n",
       " 'rosalynn': 4163,\n",
       " 'talk': 4714,\n",
       " 'change': 811,\n",
       " 'days': 1225,\n",
       " 'causes': 782,\n",
       " 'who': 5270,\n",
       " 'alarmists': 254,\n",
       " 'got': 2145,\n",
       " 'couldn': 1123,\n",
       " 'sustain': 4679,\n",
       " 'current': 1180,\n",
       " 'population': 3658,\n",
       " 'fact': 1812,\n",
       " 're': 3899,\n",
       " 'letter': 2828,\n",
       " '35': 58,\n",
       " 'tells': 4749,\n",
       " 'were': 5247,\n",
       " 'wrong': 5355,\n",
       " 'may': 3021,\n",
       " 'very': 5123,\n",
       " 'happening': 2247,\n",
       " 'caused': 781,\n",
       " 'man': 2986,\n",
       " 'best': 544,\n",
       " 'thing': 4799,\n",
       " 'adapt': 161,\n",
       " 'with': 5302,\n",
       " 'kids': 2725,\n",
       " 'leading': 2801,\n",
       " 'happy': 2250,\n",
       " 'life': 2844,\n",
       " 'say': 4221,\n",
       " 'adapted': 163,\n",
       " 'job': 2676,\n",
       " 'proud': 3807,\n",
       " 'please': 3605,\n",
       " 'don': 1450,\n",
       " 'take': 4709,\n",
       " 'environment': 1675,\n",
       " 'granted': 2171,\n",
       " 'realist': 3914,\n",
       " 'environmental': 1676,\n",
       " 'issues': 2653,\n",
       " 'arise': 373,\n",
       " 'gasses': 2081,\n",
       " 'causing': 783,\n",
       " 'warm': 5179,\n",
       " 'alter': 280,\n",
       " 'whole': 5271,\n",
       " 'maybe': 3022,\n",
       " 'scientists': 4247,\n",
       " 'sins': 4391,\n",
       " 'fathers': 1860,\n",
       " 'becoming': 503,\n",
       " 'hippy': 2343,\n",
       " 'allowing': 271,\n",
       " 'vast': 5104,\n",
       " 'swaths': 4688,\n",
       " 'human': 2405,\n",
       " 'die': 1356,\n",
       " 'isn': 2649,\n",
       " 'solution': 4449,\n",
       " 'advocate': 210,\n",
       " 'position': 3664,\n",
       " 'support': 4654,\n",
       " 'fighting': 1892,\n",
       " 'real': 3913,\n",
       " 'adaptation': 162,\n",
       " 'other': 3402,\n",
       " 'side': 4365,\n",
       " 'aunt': 422,\n",
       " 'patience': 3500,\n",
       " 'going': 2137,\n",
       " 'important': 2479,\n",
       " 'get': 2101,\n",
       " 'back': 448,\n",
       " 'simple': 4382,\n",
       " 'before': 511,\n",
       " 'corporations': 1107,\n",
       " 'enslaved': 1665,\n",
       " 'consumerism': 1059,\n",
       " 'specifically': 4488,\n",
       " 'where': 5262,\n",
       " 'procured': 3752,\n",
       " 'independently': 2525,\n",
       " 'bartered': 471,\n",
       " 'goods': 2143,\n",
       " 'skills': 4410,\n",
       " 'turn': 4965,\n",
       " 'indirectly': 2528,\n",
       " 'proverbial': 3810,\n",
       " 'ball': 459,\n",
       " 'rolling': 4155,\n",
       " 'positive': 3666,\n",
       " 'direction': 1381,\n",
       " 'lose': 2919,\n",
       " 'dependence': 1302,\n",
       " 'reason': 3925,\n",
       " 'existing': 1755,\n",
       " 'wither': 5303,\n",
       " 'disappear': 1389,\n",
       " 'massive': 3011,\n",
       " 'independence': 2523,\n",
       " 'greatest': 2178,\n",
       " 'action': 147,\n",
       " 'preserve': 3709,\n",
       " 'end': 1635,\n",
       " 'social': 4440,\n",
       " 'governance': 2148,\n",
       " 'thus': 4832,\n",
       " 'ends': 1644,\n",
       " 'fascist': 1853,\n",
       " 'corporatocracy': 1108,\n",
       " 'government': 2149,\n",
       " 'represents': 4056,\n",
       " 'negatives': 3240,\n",
       " 'greetings': 2189,\n",
       " 'past': 3497,\n",
       " 'former': 1986,\n",
       " 'child': 842,\n",
       " 'things': 4800,\n",
       " 'flying': 1953,\n",
       " 'cars': 763,\n",
       " 'invented': 2619,\n",
       " 'widely': 5275,\n",
       " 'implemented': 2475,\n",
       " 'yet': 5374,\n",
       " 'didn': 1355,\n",
       " 'think': 4801,\n",
       " 'another': 320,\n",
       " 'eh': 1580,\n",
       " 'like': 2855,\n",
       " 'kinda': 2734,\n",
       " 'cold': 926,\n",
       " 'winter': 5292,\n",
       " 'england': 1655,\n",
       " 'still': 4561,\n",
       " 'snows': 4435,\n",
       " 'christmas': 858,\n",
       " 'wasn': 5199,\n",
       " 'white': 5269,\n",
       " 'year': 5368,\n",
       " 'yours': 5382,\n",
       " 'nothing': 3297,\n",
       " 'weirder': 5242,\n",
       " 'off': 3341,\n",
       " 'putting': 3844,\n",
       " 'sunny': 4646,\n",
       " '60': 79,\n",
       " 'degree': 1279,\n",
       " 'day': 1224,\n",
       " 'sure': 4664,\n",
       " 've': 5106,\n",
       " 'figured': 1895,\n",
       " 'out': 3410,\n",
       " 'mine': 3106,\n",
       " 'normal': 3286,\n",
       " 'honest': 2366,\n",
       " 'significant': 4374,\n",
       " 'drive': 1492,\n",
       " 'often': 3348,\n",
       " 'trash': 4910,\n",
       " 'recycle': 3960,\n",
       " 'whenever': 5261,\n",
       " 'clean': 880,\n",
       " 'up': 5045,\n",
       " 'after': 224,\n",
       " 'others': 3403,\n",
       " 'sheer': 4324,\n",
       " 'amount': 303,\n",
       " 'waste': 5201,\n",
       " 'businesses': 694,\n",
       " 'wow': 5346,\n",
       " 'anyway': 337,\n",
       " 'both': 608,\n",
       " 'wise': 5296,\n",
       " 'otherwise': 3404,\n",
       " 'energy': 1647,\n",
       " 'started': 4534,\n",
       " 'using': 5073,\n",
       " 'different': 1364,\n",
       " 'light': 2850,\n",
       " 'bulbs': 678,\n",
       " 'house': 2390,\n",
       " 'lights': 2854,\n",
       " 'needed': 3236,\n",
       " 'since': 4385,\n",
       " 'country': 1131,\n",
       " 'hard': 2251,\n",
       " 'garbage': 2072,\n",
       " 'pickup': 3565,\n",
       " 'nor': 3284,\n",
       " 'use': 5068,\n",
       " 'local': 2899,\n",
       " 'landfill': 2761,\n",
       " 'without': 5305,\n",
       " 'paying': 3508,\n",
       " 'price': 3725,\n",
       " 'therefore': 4792,\n",
       " 'burned': 687,\n",
       " 'pit': 3575,\n",
       " 'pasture': 3498,\n",
       " 'bike': 557,\n",
       " 'etc': 1699,\n",
       " '10': 3,\n",
       " 'miles': 3096,\n",
       " 'town': 4885,\n",
       " 'wheel': 5258,\n",
       " 'takes': 4712,\n",
       " 'gas': 2078,\n",
       " 'because': 500,\n",
       " 'months': 3158,\n",
       " 'snow': 4431,\n",
       " 'bigger': 555,\n",
       " 'able': 100,\n",
       " 'through': 4825,\n",
       " 'roads': 4147,\n",
       " 'understand': 4998,\n",
       " 'should': 4346,\n",
       " 'always': 289,\n",
       " 'appliances': 350,\n",
       " 'lots': 2925,\n",
       " 'insulation': 2589,\n",
       " 'cost': 1117,\n",
       " 'heating': 2304,\n",
       " 'aria': 372,\n",
       " 'uncle': 4991,\n",
       " 'travis': 4916,\n",
       " 'receive': 3935,\n",
       " 'wanted': 5173,\n",
       " 'let': 2827,\n",
       " 'essay': 1696,\n",
       " 'want': 5172,\n",
       " 'became': 499,\n",
       " 'born': 605,\n",
       " 'just': 2702,\n",
       " 'effects': 1570,\n",
       " 'process': 3748,\n",
       " 'natural': 3221,\n",
       " 'increases': 2515,\n",
       " 'decreases': 1261,\n",
       " 'earths': 1529,\n",
       " 'temperature': 4751,\n",
       " 'was': 5192,\n",
       " 'getting': 2104,\n",
       " 'heated': 2301,\n",
       " 'coupled': 1135,\n",
       " 'explosion': 1780,\n",
       " 'humankind': 2409,\n",
       " 'fluctuations': 1948,\n",
       " 'happened': 2246,\n",
       " 'beginning': 514,\n",
       " 'however': 2397,\n",
       " 'really': 3923,\n",
       " 'unknown': 5024,\n",
       " 'said': 4199,\n",
       " 'dioxide': 1378,\n",
       " 'care': 747,\n",
       " 'called': 712,\n",
       " 'experts': 1772,\n",
       " '150': 13,\n",
       " 'ago': 235,\n",
       " 'guess': 2206,\n",
       " 'trying': 4956,\n",
       " 'generation': 2090,\n",
       " 'did': 1354,\n",
       " 'means': 3032,\n",
       " 'old': 3353,\n",
       " 'lucky': 2940,\n",
       " 'hanging': 2242,\n",
       " 'ripe': 4136,\n",
       " '64': 81,\n",
       " 'point': 3618,\n",
       " 'learned': 2806,\n",
       " 'sustainably': 4682,\n",
       " 'successfully': 4625,\n",
       " 'delayed': 1283,\n",
       " 'writing': 5353,\n",
       " 'grandpa': 2168,\n",
       " 'them': 4785,\n",
       " 'pluck': 3612,\n",
       " 'individual': 2529,\n",
       " 'anecdata': 314,\n",
       " 'fit': 1925,\n",
       " 'ideas': 2441,\n",
       " 'resistant': 4078,\n",
       " 'changing': 814,\n",
       " 'almost': 274,\n",
       " 'total': 4878,\n",
       " 'scientific': 4244,\n",
       " 'consensus': 1028,\n",
       " 'poses': 3663,\n",
       " 'threat': 4815,\n",
       " 'civilization': 872,\n",
       " 'children': 844,\n",
       " 'wish': 5299,\n",
       " 'small': 4421,\n",
       " 'contributions': 1082,\n",
       " 'hybrid': 2425,\n",
       " 'car': 742,\n",
       " 'half': 2230,\n",
       " 'electric': 1590,\n",
       " 'purchase': 3829,\n",
       " 'reusable': 4111,\n",
       " 'products': 3762,\n",
       " 'cloth': 905,\n",
       " 'diapers': 1350,\n",
       " 'sister': 4395,\n",
       " 'wore': 5320,\n",
       " 'doing': 1443,\n",
       " 'level': 2832,\n",
       " 'general': 2086,\n",
       " 'striving': 4593,\n",
       " 'harder': 2252,\n",
       " 'reduce': 3972,\n",
       " 'co2': 916,\n",
       " 'levels': 2833,\n",
       " 'reaches': 3903,\n",
       " 'safe': 4194,\n",
       " 'fear': 1868,\n",
       " 'catastrophes': 773,\n",
       " 'an': 306,\n",
       " 'over': 3425,\n",
       " 'reliance': 4017,\n",
       " 'upon': 5053,\n",
       " 'fossil': 1993,\n",
       " 'fuels': 2035,\n",
       " 'travel': 4913,\n",
       " 'spend': 4494,\n",
       " 'outside': 3422,\n",
       " 'amazing': 293,\n",
       " 'places': 3579,\n",
       " 'eliza': 1605,\n",
       " 'place': 3578,\n",
       " 'bad': 451,\n",
       " 'growing': 2201,\n",
       " 'definitely': 1275,\n",
       " 'prevalent': 3720,\n",
       " 'already': 278,\n",
       " 'steps': 4557,\n",
       " 'built': 676,\n",
       " 'star': 4530,\n",
       " 'certified': 800,\n",
       " 'grow': 2200,\n",
       " 'garden': 2073,\n",
       " 'provide': 3811,\n",
       " 'healthy': 2295,\n",
       " 'food': 1963,\n",
       " 'dad': 1194,\n",
       " 'studied': 4602,\n",
       " 'implements': 2477,\n",
       " 'practice': 3686,\n",
       " 'permaculture': 3536,\n",
       " 'uses': 5072,\n",
       " 'principles': 3734,\n",
       " 'return': 4108,\n",
       " 'surplus': 4667,\n",
       " 'comfortable': 949,\n",
       " 'large': 2769,\n",
       " 'example': 1733,\n",
       " 'coal': 917,\n",
       " 'producing': 3758,\n",
       " 'plants': 3593,\n",
       " 'produce': 3753,\n",
       " 'baking': 456,\n",
       " 'soda': 4444,\n",
       " 'sold': 4447,\n",
       " 'reburied': 3931,\n",
       " 'allow': 269,\n",
       " 'rereleased': 4068,\n",
       " 'next': 3259,\n",
       " 'few': 1882,\n",
       " 'little': 2883,\n",
       " 'parker': 3476,\n",
       " 'quite': 3856,\n",
       " 'young': 5377,\n",
       " 'fully': 2040,\n",
       " 'actions': 148,\n",
       " 'instill': 2582,\n",
       " 'proper': 3790,\n",
       " 'foundation': 1997,\n",
       " 'aiding': 247,\n",
       " 'seems': 4277,\n",
       " 'pain': 3453,\n",
       " 'butt': 697,\n",
       " 'items': 2656,\n",
       " 'instead': 2581,\n",
       " 'easily': 1534,\n",
       " 'reuse': 4112,\n",
       " 'objects': 3319,\n",
       " 'send': 4284,\n",
       " 'factories': 1815,\n",
       " 'having': 2281,\n",
       " 'disposable': 1415,\n",
       " 'landfills': 2762,\n",
       " 'full': 2038,\n",
       " 'decided': 1250,\n",
       " 'those': 4808,\n",
       " 'plastic': 3594,\n",
       " 'water': 5210,\n",
       " 'bottles': 611,\n",
       " 'center': 792,\n",
       " 'shopping': 4338,\n",
       " 'bags': 454,\n",
       " 'fill': 1896,\n",
       " 'meaningless': 3031,\n",
       " 'picking': 3564,\n",
       " 'doggies': 1441,\n",
       " 'plus': 3615,\n",
       " 'cents': 794,\n",
       " 'every': 1714,\n",
       " 'bag': 453,\n",
       " 'grocery': 2194,\n",
       " 'money': 3152,\n",
       " 'pockets': 3617,\n",
       " 'finally': 1902,\n",
       " 'being': 520,\n",
       " 'chef': 831,\n",
       " 'instilled': 2583,\n",
       " 'idea': 2438,\n",
       " 'gardening': 2074,\n",
       " 'own': 3438,\n",
       " 'along': 276,\n",
       " 'composted': 989,\n",
       " 'nourish': 3303,\n",
       " 'throughout': 4826,\n",
       " 'season': 4261,\n",
       " 'something': 4458,\n",
       " 'older': 3354,\n",
       " 'enjoy': 1657,\n",
       " 'nature': 3223,\n",
       " 'never': 3251,\n",
       " 'long': 2909,\n",
       " 'last': 2773,\n",
       " 'preserved': 3710,\n",
       " 'original': 3397,\n",
       " 'state': 4539,\n",
       " 'beauty': 497,\n",
       " 'today': 4854,\n",
       " 'grey': 2191,\n",
       " 'dearest': 1235,\n",
       " 'jared': 2668,\n",
       " 'risks': 4142,\n",
       " 'challenges': 806,\n",
       " 'wonder': 5310,\n",
       " 'practices': 3687,\n",
       " 'helped': 2314,\n",
       " 'negative': 3238,\n",
       " 'separated': 4294,\n",
       " 'two': 4973,\n",
       " 'bins': 566,\n",
       " 'reserved': 4073,\n",
       " 'recyclable': 3958,\n",
       " 'materials': 3014,\n",
       " 'gradually': 2155,\n",
       " 'kind': 2733,\n",
       " 'cleaned': 881,\n",
       " 'beaches': 489,\n",
       " 'service': 4300,\n",
       " 'project': 3776,\n",
       " 'challenging': 807,\n",
       " 'taking': 4713,\n",
       " 'seriously': 4298,\n",
       " 'politicians': 3631,\n",
       " 'denying': 1299,\n",
       " 'governor': 2151,\n",
       " 'scott': 4249,\n",
       " 'reportedly': 4052,\n",
       " 'memo': 3053,\n",
       " 'insisting': 2570,\n",
       " 'his': 2345,\n",
       " 'staffers': 4522,\n",
       " 'refrain': 3982,\n",
       " 'term': 4760,\n",
       " 'he': 2286,\n",
       " 'visit': 5143,\n",
       " 'miami': 3075,\n",
       " 'beach': 488,\n",
       " 'big': 554,\n",
       " 'rainstorm': 3873,\n",
       " 'flooding': 1939,\n",
       " 'streets': 4582,\n",
       " 'ocean': 3337,\n",
       " 'especially': 1695,\n",
       " 'beautiful': 496,\n",
       " 'lost': 2923,\n",
       " 'shores': 4340,\n",
       " 'erosion': 1690,\n",
       " 'predicting': 3698,\n",
       " 'issue': 2652,\n",
       " 'grandchildren': 2160,\n",
       " 'requires': 4067,\n",
       " 'hotter': 2387,\n",
       " 'dryer': 1503,\n",
       " 'while': 5267,\n",
       " 'colder': 927,\n",
       " 'wetter': 5253,\n",
       " 'exactly': 1730,\n",
       " 'directly': 1382,\n",
       " 'responsible': 4093,\n",
       " 'respectful': 4085,\n",
       " 'knowledgeable': 2744,\n",
       " 'minimum': 3115,\n",
       " 'start': 4533,\n",
       " 'short': 4341,\n",
       " 'drives': 1496,\n",
       " 'temperatures': 4752,\n",
       " 'reasonable': 3926,\n",
       " 'reducing': 3975,\n",
       " 'happen': 2245,\n",
       " 'hungry': 2417,\n",
       " 'basically': 475,\n",
       " 'allowed': 270,\n",
       " 'whatever': 5255,\n",
       " 'impossible': 2481,\n",
       " 'guilt': 2207,\n",
       " 'regular': 3999,\n",
       " 'contributing': 1080,\n",
       " 'microscopic': 3081,\n",
       " 'itself': 2658,\n",
       " 'cannot': 729,\n",
       " 'bend': 534,\n",
       " 'grandson': 2170,\n",
       " 'birthday': 572,\n",
       " '2008': 39,\n",
       " 'took': 4867,\n",
       " 'movie': 3179,\n",
       " 'used': 5069,\n",
       " 'remind': 4036,\n",
       " 'left': 2814,\n",
       " 'bears': 493,\n",
       " 'collect': 929,\n",
       " 'aluminum': 287,\n",
       " 'cans': 730,\n",
       " 'find': 1906,\n",
       " 'impress': 2483,\n",
       " 'importance': 2478,\n",
       " 'helping': 2316,\n",
       " 'recycler': 3962,\n",
       " 'bought': 613,\n",
       " 'mostly': 3165,\n",
       " 'organic': 3392,\n",
       " 'foods': 1964,\n",
       " 'stay': 4548,\n",
       " 'imagine': 2457,\n",
       " 'facing': 1811,\n",
       " 'encouraged': 1632,\n",
       " 'efforts': 1578,\n",
       " 'bay': 485,\n",
       " 'stewards': 4559,\n",
       " 'wonders': 5315,\n",
       " 'switched': 4696,\n",
       " 'utilities': 5077,\n",
       " 'programmable': 3767,\n",
       " 'thermostat': 4793,\n",
       " 'turning': 4967,\n",
       " 'unused': 5042,\n",
       " 'rooms': 4160,\n",
       " 'running': 4180,\n",
       " 'dishwasher': 1409,\n",
       " 'quick': 3852,\n",
       " 'mode': 3138,\n",
       " 'washing': 5197,\n",
       " 'machine': 2951,\n",
       " 'setting': 4302,\n",
       " 'largest': 2772,\n",
       " 'load': 2894,\n",
       " 'rated': 3890,\n",
       " 'purchased': 3830,\n",
       " 'couple': 1134,\n",
       " 'plan': 3581,\n",
       " 'replacing': 4049,\n",
       " 'models': 3141,\n",
       " 'windows': 5289,\n",
       " 'drafts': 1470,\n",
       " 'playroom': 3601,\n",
       " 'clearly': 891,\n",
       " 'later': 2780,\n",
       " 'addition': 171,\n",
       " 'either': 1582,\n",
       " 'doesn': 1439,\n",
       " 'lacking': 2753,\n",
       " 'insulating': 2588,\n",
       " 'paris': 3474,\n",
       " 'summit': 4640,\n",
       " 'unseasonably': 5037,\n",
       " 'united': 5019,\n",
       " 'states': 4543,\n",
       " 'feels': 1878,\n",
       " 'complex': 984,\n",
       " 'fix': 1928,\n",
       " 'strides': 4586,\n",
       " 'wind': 5285,\n",
       " 'solar': 4446,\n",
       " 'common': 958,\n",
       " 'education': 1559,\n",
       " 'myself': 3205,\n",
       " 'solutions': 4450,\n",
       " 'average': 434,\n",
       " 'person': 3542,\n",
       " 'pricey': 3728,\n",
       " 'donate': 1452,\n",
       " 'organizations': 3394,\n",
       " 'awareness': 440,\n",
       " 'cleaner': 882,\n",
       " 'greener': 2184,\n",
       " 'currently': 1181,\n",
       " '2016': 42,\n",
       " 'seasons': 4262,\n",
       " 'began': 512,\n",
       " 'shift': 4327,\n",
       " 'greatly': 2179,\n",
       " 'ever': 1712,\n",
       " 'december': 1247,\n",
       " 'wear': 5224,\n",
       " 'shorts': 4345,\n",
       " 'capri': 737,\n",
       " 'pants': 3464,\n",
       " 'daily': 1196,\n",
       " 'basis': 478,\n",
       " 'regarding': 3991,\n",
       " 'studies': 4603,\n",
       " 'watching': 5209,\n",
       " 'saving': 4218,\n",
       " 'moving': 3181,\n",
       " 'look': 2913,\n",
       " 'public': 3818,\n",
       " 'transportation': 4905,\n",
       " 'deciding': 1251,\n",
       " 'course': 1137,\n",
       " 'immediately': 2462,\n",
       " 'times': 4845,\n",
       " 'hoping': 2379,\n",
       " 'history': 2347,\n",
       " 'book': 600,\n",
       " 'vs': 5158,\n",
       " 'maintain': 2967,\n",
       " 'lifestyle': 2847,\n",
       " 'serious': 4297,\n",
       " 'deal': 1230,\n",
       " 'write': 5352,\n",
       " 'warmest': 5182,\n",
       " 'record': 3951,\n",
       " 'several': 4308,\n",
       " 'weeks': 5238,\n",
       " 'seen': 4278,\n",
       " 'terrible': 4764,\n",
       " 'events': 1709,\n",
       " 'across': 142,\n",
       " 'somewhat': 4462,\n",
       " 'ashamed': 385,\n",
       " 'defense': 1270,\n",
       " 'compared': 973,\n",
       " 'north': 3288,\n",
       " 'americans': 301,\n",
       " 'fairly': 1824,\n",
       " 'green': 2183,\n",
       " 'tend': 4757,\n",
       " 'weekends': 5236,\n",
       " 'urban': 5059,\n",
       " 'area': 365,\n",
       " 'generally': 2087,\n",
       " 'follow': 1960,\n",
       " 'environmentally': 1679,\n",
       " 'friendly': 2017,\n",
       " 'precepts': 3692,\n",
       " 'northeastern': 3289,\n",
       " 'liberals': 2840,\n",
       " 'fly': 1951,\n",
       " 'holiday': 2357,\n",
       " 'trip': 4940,\n",
       " 'middle': 3083,\n",
       " 'age': 227,\n",
       " 'talking': 4716,\n",
       " 'particularly': 3486,\n",
       " 'optimistic': 3383,\n",
       " 'aggregated': 232,\n",
       " 'unless': 5026,\n",
       " 'truly': 4950,\n",
       " 'mobilized': 3137,\n",
       " 'political': 3629,\n",
       " 'movement': 3177,\n",
       " 'technological': 4739,\n",
       " 'innovation': 2564,\n",
       " 'driven': 1493,\n",
       " 'necessity': 3234,\n",
       " 'rising': 4139,\n",
       " 'seas': 4260,\n",
       " 'unstable': 5038,\n",
       " 'reactive': 3907,\n",
       " 'defensive': 1271,\n",
       " 'ameliorate': 297,\n",
       " 'worst': 5340,\n",
       " 'outcomes': 3413,\n",
       " 'alive': 261,\n",
       " 'share': 4320,\n",
       " 'livable': 2884,\n",
       " 'lantz': 2767,\n",
       " 'knows': 2746,\n",
       " 'concern': 999,\n",
       " 'sometimes': 4461,\n",
       " 'reasons': 3928,\n",
       " 'first': 1919,\n",
       " 'repurposing': 4063,\n",
       " 'rags': 3866,\n",
       " 'clothes': 906,\n",
       " 'messes': 3065,\n",
       " 'haha': 2227,\n",
       " 'paper': 3466,\n",
       " 'towels': 4884,\n",
       " 'containers': 1063,\n",
       " 'jars': 2669,\n",
       " 'number': 3309,\n",
       " 'purposes': 3836,\n",
       " 'composting': 991,\n",
       " 'scraps': 4250,\n",
       " 'compost': 988,\n",
       " 'pile': 3571,\n",
       " 'lasts': 2776,\n",
       " 'pair': 3456,\n",
       " 'errands': 1691,\n",
       " 'feasibly': 1871,\n",
       " 'canning': 728,\n",
       " 'buy': 699,\n",
       " 'shipped': 4332,\n",
       " 'everywhere': 1720,\n",
       " 'plant': 3589,\n",
       " 'trees': 4922,\n",
       " 'homestead': 2362,\n",
       " 'install': 2574,\n",
       " 'power': 3679,\n",
       " 'electricity': 1592,\n",
       " 'sources': 4478,\n",
       " 'll': 2891,\n",
       " 'gusts': 2212,\n",
       " 'sometime': 4460,\n",
       " 'grandbabies': 2159,\n",
       " 'forever': 1979,\n",
       " 'baby': 447,\n",
       " 'beset': 542,\n",
       " 'continuously': 1074,\n",
       " ...}"
      ]
     },
     "execution_count": 95,
     "metadata": {},
     "output_type": "execute_result"
    }
   ],
   "source": [
    "word_counter.vocabulary_"
   ]
  },
  {
   "cell_type": "markdown",
   "metadata": {},
   "source": [
    "# Logistic Regression Model"
   ]
  },
  {
   "cell_type": "markdown",
   "metadata": {},
   "source": [
    "Importing some sklearn functions that are important to fitting a model"
   ]
  },
  {
   "cell_type": "code",
   "execution_count": 96,
   "metadata": {},
   "outputs": [],
   "source": [
    "from sklearn.model_selection import GridSearchCV"
   ]
  },
  {
   "cell_type": "markdown",
   "metadata": {},
   "source": [
    "Getting the target variables in a less-formated structure"
   ]
  },
  {
   "cell_type": "code",
   "execution_count": 97,
   "metadata": {},
   "outputs": [],
   "source": [
    "test_Y = test_df['big_donator'].values\n",
    "train_Y = train_df['big_donator'].values"
   ]
  },
  {
   "cell_type": "markdown",
   "metadata": {},
   "source": [
    "Fitting a logistic regression model based on 5-fold cross validation grid search with several regularization options"
   ]
  },
  {
   "cell_type": "code",
   "execution_count": 98,
   "metadata": {},
   "outputs": [
    {
     "data": {
      "text/plain": [
       "GridSearchCV(cv=5, error_score='raise',\n",
       "       estimator=LogisticRegression(C=1.0, class_weight=None, dual=False, fit_intercept=True,\n",
       "          intercept_scaling=1, max_iter=100, multi_class='ovr', n_jobs=1,\n",
       "          penalty='l2', random_state=123, solver='liblinear', tol=0.0001,\n",
       "          verbose=0, warm_start=False),\n",
       "       fit_params={}, iid=True, n_jobs=1,\n",
       "       param_grid=[{'C': [1e-06, 1e-05, 0.0001, 0.001, 0.01, 0.1, 1.0, 10.0, 100.0]}],\n",
       "       pre_dispatch='2*n_jobs', refit=True, return_train_score=True,\n",
       "       scoring=None, verbose=0)"
      ]
     },
     "execution_count": 98,
     "metadata": {},
     "output_type": "execute_result"
    }
   ],
   "source": [
    "classifier = LogisticRegression(random_state = 123)\n",
    "regularization_options = [{'C': [1e-6, 1e-5, 1e-4, 1e-3, 1e-2, 1e-1, 1e0, 1e1, 1e2]}]\n",
    "gs_classifier = GridSearchCV(classifier, regularization_options, cv = 5)\n",
    "\n",
    "gs_classifier.fit(X = train_word_counts, y = train_Y)"
   ]
  },
  {
   "cell_type": "markdown",
   "metadata": {},
   "source": [
    "# Model Evaluation"
   ]
  },
  {
   "cell_type": "markdown",
   "metadata": {},
   "source": [
    "### Train set - In sample"
   ]
  },
  {
   "cell_type": "markdown",
   "metadata": {},
   "source": [
    "Determining the training set accuracy"
   ]
  },
  {
   "cell_type": "code",
   "execution_count": 99,
   "metadata": {},
   "outputs": [
    {
     "data": {
      "text/plain": [
       "1.0"
      ]
     },
     "execution_count": 99,
     "metadata": {},
     "output_type": "execute_result"
    }
   ],
   "source": [
    "train_predictions = gs_classifier.predict(X = train_word_counts)\n",
    "\n",
    "accuracy_score(train_predictions, train_Y)"
   ]
  },
  {
   "cell_type": "markdown",
   "metadata": {},
   "source": [
    "Viewing the confusion matrix"
   ]
  },
  {
   "cell_type": "code",
   "execution_count": 100,
   "metadata": {},
   "outputs": [
    {
     "data": {
      "text/plain": [
       "array([[249,   0],\n",
       "       [  0, 222]])"
      ]
     },
     "execution_count": 100,
     "metadata": {},
     "output_type": "execute_result"
    }
   ],
   "source": [
    "confusion_matrix(train_predictions, train_Y)"
   ]
  },
  {
   "cell_type": "markdown",
   "metadata": {},
   "source": [
    "### Test set - Out of sample"
   ]
  },
  {
   "cell_type": "code",
   "execution_count": 101,
   "metadata": {},
   "outputs": [
    {
     "data": {
      "text/plain": [
       "0.56779661016949157"
      ]
     },
     "execution_count": 101,
     "metadata": {},
     "output_type": "execute_result"
    }
   ],
   "source": [
    "test_predictions = gs_classifier.predict(X = test_word_counts)\n",
    "\n",
    "accuracy_score(test_predictions, test_Y)"
   ]
  },
  {
   "cell_type": "code",
   "execution_count": 102,
   "metadata": {},
   "outputs": [
    {
     "data": {
      "text/plain": [
       "array([[35, 31],\n",
       "       [20, 32]])"
      ]
     },
     "execution_count": 102,
     "metadata": {},
     "output_type": "execute_result"
    }
   ],
   "source": [
    "confusion_matrix(test_predictions, test_Y)"
   ]
  },
  {
   "cell_type": "markdown",
   "metadata": {},
   "source": [
    "# Other Ways to Quantify Text"
   ]
  },
  {
   "cell_type": "markdown",
   "metadata": {},
   "source": [
    "## 1. Inverse frequency counting"
   ]
  },
  {
   "cell_type": "code",
   "execution_count": 103,
   "metadata": {},
   "outputs": [],
   "source": [
    "from sklearn.feature_extraction.text import TfidfVectorizer"
   ]
  },
  {
   "cell_type": "code",
   "execution_count": 104,
   "metadata": {},
   "outputs": [
    {
     "data": {
      "text/plain": [
       "['at', 'cires', 'earth', 'in', 'is', 'lab', 'work']"
      ]
     },
     "execution_count": 104,
     "metadata": {},
     "output_type": "execute_result"
    }
   ],
   "source": [
    "inverse_freq_counter = TfidfVectorizer(ngram_range = (1, 1))\n",
    "\n",
    "sentence_array = np.array(['I work in CIRES', 'I work at Earth Lab', 'Work is work'])\n",
    "\n",
    "inverse_freq_counter.fit(sentence_array)\n",
    "inverse_freq_counter.get_feature_names()"
   ]
  },
  {
   "cell_type": "code",
   "execution_count": 105,
   "metadata": {},
   "outputs": [
    {
     "data": {
      "text/plain": [
       "matrix([[ 0.        ,  0.65249088,  0.        ,  0.65249088,  0.        ,\n",
       "          0.        ,  0.38537163],\n",
       "        [ 0.54645401,  0.        ,  0.54645401,  0.        ,  0.        ,\n",
       "          0.54645401,  0.32274454],\n",
       "        [ 0.        ,  0.        ,  0.        ,  0.        ,  0.64612892,\n",
       "          0.        ,  0.76322829]])"
      ]
     },
     "execution_count": 105,
     "metadata": {},
     "output_type": "execute_result"
    }
   ],
   "source": [
    "tf_idf_weightings = inverse_freq_counter.transform(sentence_array)\n",
    "tf_idf_weightings.todense()"
   ]
  },
  {
   "cell_type": "code",
   "execution_count": 106,
   "metadata": {},
   "outputs": [
    {
     "data": {
      "text/plain": [
       "matrix([[0, 1, 0, 1, 0, 0, 1],\n",
       "        [1, 0, 1, 0, 0, 1, 1],\n",
       "        [0, 0, 0, 0, 1, 0, 2]])"
      ]
     },
     "execution_count": 106,
     "metadata": {},
     "output_type": "execute_result"
    }
   ],
   "source": [
    "word_counter_proof = CountVectorizer(ngram_range = (1, 1))\n",
    "\n",
    "word_counter_proof.fit(sentence_array)\n",
    "\n",
    "word_count_values = word_counter_proof.transform(sentence_array)\n",
    "word_count_values.todense()"
   ]
  },
  {
   "cell_type": "markdown",
   "metadata": {},
   "source": [
    "## 2. Word Embeddings/Vectors"
   ]
  },
  {
   "cell_type": "code",
   "execution_count": 107,
   "metadata": {},
   "outputs": [],
   "source": [
    "import gensim\n",
    "import nltk"
   ]
  },
  {
   "cell_type": "code",
   "execution_count": 108,
   "metadata": {},
   "outputs": [
    {
     "name": "stdout",
     "output_type": "stream",
     "text": [
      "[nltk_data] Downloading package punkt to /home/jovyan/nltk_data...\n",
      "[nltk_data]   Unzipping tokenizers/punkt.zip.\n"
     ]
    },
    {
     "data": {
      "text/plain": [
       "True"
      ]
     },
     "execution_count": 108,
     "metadata": {},
     "output_type": "execute_result"
    }
   ],
   "source": [
    "nltk.download('punkt')"
   ]
  },
  {
   "cell_type": "code",
   "execution_count": 109,
   "metadata": {
    "scrolled": true
   },
   "outputs": [
    {
     "data": {
      "text/plain": [
       "471"
      ]
     },
     "execution_count": 109,
     "metadata": {},
     "output_type": "execute_result"
    }
   ],
   "source": [
    "tokens_x = [nltk.word_tokenize(sent) for sent in train_essays]\n",
    "len(tokens_x)"
   ]
  },
  {
   "cell_type": "code",
   "execution_count": 110,
   "metadata": {},
   "outputs": [
    {
     "data": {
      "text/plain": [
       "['Hello',\n",
       " 'Dolly',\n",
       " '.',\n",
       " 'I',\n",
       " 'hope',\n",
       " 'the',\n",
       " 'future',\n",
       " 'has',\n",
       " 'been',\n",
       " 'treating']"
      ]
     },
     "execution_count": 110,
     "metadata": {},
     "output_type": "execute_result"
    }
   ],
   "source": [
    "tokens_x[1][0:10]"
   ]
  },
  {
   "cell_type": "code",
   "execution_count": 111,
   "metadata": {},
   "outputs": [],
   "source": [
    "model = gensim.models.Word2Vec(tokens_x, size = 5, window = 5)"
   ]
  },
  {
   "cell_type": "code",
   "execution_count": 112,
   "metadata": {},
   "outputs": [
    {
     "data": {
      "text/plain": [
       "['This',\n",
       " 'is',\n",
       " 'a',\n",
       " 'test',\n",
       " 'sentence',\n",
       " ',',\n",
       " 'what',\n",
       " 'happens',\n",
       " 'to',\n",
       " 'it',\n",
       " '?']"
      ]
     },
     "execution_count": 112,
     "metadata": {},
     "output_type": "execute_result"
    }
   ],
   "source": [
    "test_sentence = 'This is a test sentence, what happens to it?'\n",
    "\n",
    "tokens_example = nltk.word_tokenize(test_sentence)\n",
    "tokens_example"
   ]
  },
  {
   "cell_type": "code",
   "execution_count": 113,
   "metadata": {},
   "outputs": [
    {
     "name": "stdout",
     "output_type": "stream",
     "text": [
      "[-1.71323812  0.53061801  0.35467434 -2.02031565  0.74786174]\n",
      "[-2.15003467 -0.3205933   0.51821518 -2.54047561  0.69790173]\n",
      "[-2.08088899  0.53198677  0.80539519 -2.37947011  0.53642446]\n"
     ]
    },
    {
     "name": "stderr",
     "output_type": "stream",
     "text": [
      "/opt/conda/lib/python3.6/site-packages/ipykernel_launcher.py:2: DeprecationWarning: Call to deprecated `__getitem__` (Method will be removed in 4.0.0, use self.wv.__getitem__() instead).\n",
      "  \n"
     ]
    },
    {
     "ename": "KeyError",
     "evalue": "\"word 'test' not in vocabulary\"",
     "output_type": "error",
     "traceback": [
      "\u001b[0;31m---------------------------------------------------------------------------\u001b[0m",
      "\u001b[0;31mKeyError\u001b[0m                                  Traceback (most recent call last)",
      "\u001b[0;32m<ipython-input-113-0ba2c5bbf894>\u001b[0m in \u001b[0;36m<module>\u001b[0;34m()\u001b[0m\n\u001b[1;32m      1\u001b[0m \u001b[0;32mfor\u001b[0m \u001b[0mword\u001b[0m \u001b[0;32min\u001b[0m \u001b[0mtokens_example\u001b[0m\u001b[0;34m:\u001b[0m\u001b[0;34m\u001b[0m\u001b[0m\n\u001b[0;32m----> 2\u001b[0;31m     \u001b[0mprint\u001b[0m\u001b[0;34m(\u001b[0m\u001b[0mmodel\u001b[0m\u001b[0;34m[\u001b[0m\u001b[0mword\u001b[0m\u001b[0;34m]\u001b[0m\u001b[0;34m)\u001b[0m\u001b[0;34m\u001b[0m\u001b[0m\n\u001b[0m",
      "\u001b[0;32m/opt/conda/lib/python3.6/site-packages/gensim/utils.py\u001b[0m in \u001b[0;36mnew_func1\u001b[0;34m(*args, **kwargs)\u001b[0m\n\u001b[1;32m   1396\u001b[0m                     \u001b[0mstacklevel\u001b[0m\u001b[0;34m=\u001b[0m\u001b[0;36m2\u001b[0m\u001b[0;34m\u001b[0m\u001b[0m\n\u001b[1;32m   1397\u001b[0m                 )\n\u001b[0;32m-> 1398\u001b[0;31m                 \u001b[0;32mreturn\u001b[0m \u001b[0mfunc\u001b[0m\u001b[0;34m(\u001b[0m\u001b[0;34m*\u001b[0m\u001b[0margs\u001b[0m\u001b[0;34m,\u001b[0m \u001b[0;34m**\u001b[0m\u001b[0mkwargs\u001b[0m\u001b[0;34m)\u001b[0m\u001b[0;34m\u001b[0m\u001b[0m\n\u001b[0m\u001b[1;32m   1399\u001b[0m \u001b[0;34m\u001b[0m\u001b[0m\n\u001b[1;32m   1400\u001b[0m             \u001b[0;32mreturn\u001b[0m \u001b[0mnew_func1\u001b[0m\u001b[0;34m\u001b[0m\u001b[0m\n",
      "\u001b[0;32m/opt/conda/lib/python3.6/site-packages/gensim/models/word2vec.py\u001b[0m in \u001b[0;36m__getitem__\u001b[0;34m(self, words)\u001b[0m\n\u001b[1;32m    819\u001b[0m         \u001b[0mRefer\u001b[0m \u001b[0mto\u001b[0m \u001b[0mthe\u001b[0m \u001b[0mdocumentation\u001b[0m \u001b[0;32mfor\u001b[0m\u001b[0;31m \u001b[0m\u001b[0;31m`\u001b[0m\u001b[0mgensim\u001b[0m\u001b[0;34m.\u001b[0m\u001b[0mmodels\u001b[0m\u001b[0;34m.\u001b[0m\u001b[0mkeyedvectors\u001b[0m\u001b[0;34m.\u001b[0m\u001b[0mWord2VecKeyedVectors\u001b[0m\u001b[0;34m.\u001b[0m\u001b[0m__getitem__\u001b[0m\u001b[0;31m`\u001b[0m\u001b[0;34m\u001b[0m\u001b[0m\n\u001b[1;32m    820\u001b[0m         \"\"\"\n\u001b[0;32m--> 821\u001b[0;31m         \u001b[0;32mreturn\u001b[0m \u001b[0mself\u001b[0m\u001b[0;34m.\u001b[0m\u001b[0mwv\u001b[0m\u001b[0;34m.\u001b[0m\u001b[0m__getitem__\u001b[0m\u001b[0;34m(\u001b[0m\u001b[0mwords\u001b[0m\u001b[0;34m)\u001b[0m\u001b[0;34m\u001b[0m\u001b[0m\n\u001b[0m\u001b[1;32m    822\u001b[0m \u001b[0;34m\u001b[0m\u001b[0m\n\u001b[1;32m    823\u001b[0m     \u001b[0;34m@\u001b[0m\u001b[0mdeprecated\u001b[0m\u001b[0;34m(\u001b[0m\u001b[0;34m\"Method will be removed in 4.0.0, use self.wv.__contains__() instead\"\u001b[0m\u001b[0;34m)\u001b[0m\u001b[0;34m\u001b[0m\u001b[0m\n",
      "\u001b[0;32m/opt/conda/lib/python3.6/site-packages/gensim/models/keyedvectors.py\u001b[0m in \u001b[0;36m__getitem__\u001b[0;34m(self, entities)\u001b[0m\n\u001b[1;32m    167\u001b[0m         \u001b[0;32mif\u001b[0m \u001b[0misinstance\u001b[0m\u001b[0;34m(\u001b[0m\u001b[0mentities\u001b[0m\u001b[0;34m,\u001b[0m \u001b[0mstring_types\u001b[0m\u001b[0;34m)\u001b[0m\u001b[0;34m:\u001b[0m\u001b[0;34m\u001b[0m\u001b[0m\n\u001b[1;32m    168\u001b[0m             \u001b[0;31m# allow calls like trained_model['office'], as a shorthand for trained_model[['office']]\u001b[0m\u001b[0;34m\u001b[0m\u001b[0;34m\u001b[0m\u001b[0m\n\u001b[0;32m--> 169\u001b[0;31m             \u001b[0;32mreturn\u001b[0m \u001b[0mself\u001b[0m\u001b[0;34m.\u001b[0m\u001b[0mget_vector\u001b[0m\u001b[0;34m(\u001b[0m\u001b[0mentities\u001b[0m\u001b[0;34m)\u001b[0m\u001b[0;34m\u001b[0m\u001b[0m\n\u001b[0m\u001b[1;32m    170\u001b[0m \u001b[0;34m\u001b[0m\u001b[0m\n\u001b[1;32m    171\u001b[0m         \u001b[0;32mreturn\u001b[0m \u001b[0mvstack\u001b[0m\u001b[0;34m(\u001b[0m\u001b[0;34m[\u001b[0m\u001b[0mself\u001b[0m\u001b[0;34m.\u001b[0m\u001b[0mget_vector\u001b[0m\u001b[0;34m(\u001b[0m\u001b[0mentity\u001b[0m\u001b[0;34m)\u001b[0m \u001b[0;32mfor\u001b[0m \u001b[0mentity\u001b[0m \u001b[0;32min\u001b[0m \u001b[0mentities\u001b[0m\u001b[0;34m]\u001b[0m\u001b[0;34m)\u001b[0m\u001b[0;34m\u001b[0m\u001b[0m\n",
      "\u001b[0;32m/opt/conda/lib/python3.6/site-packages/gensim/models/keyedvectors.py\u001b[0m in \u001b[0;36mget_vector\u001b[0;34m(self, word)\u001b[0m\n\u001b[1;32m    275\u001b[0m \u001b[0;34m\u001b[0m\u001b[0m\n\u001b[1;32m    276\u001b[0m     \u001b[0;32mdef\u001b[0m \u001b[0mget_vector\u001b[0m\u001b[0;34m(\u001b[0m\u001b[0mself\u001b[0m\u001b[0;34m,\u001b[0m \u001b[0mword\u001b[0m\u001b[0;34m)\u001b[0m\u001b[0;34m:\u001b[0m\u001b[0;34m\u001b[0m\u001b[0m\n\u001b[0;32m--> 277\u001b[0;31m         \u001b[0;32mreturn\u001b[0m \u001b[0mself\u001b[0m\u001b[0;34m.\u001b[0m\u001b[0mword_vec\u001b[0m\u001b[0;34m(\u001b[0m\u001b[0mword\u001b[0m\u001b[0;34m)\u001b[0m\u001b[0;34m\u001b[0m\u001b[0m\n\u001b[0m\u001b[1;32m    278\u001b[0m \u001b[0;34m\u001b[0m\u001b[0m\n\u001b[1;32m    279\u001b[0m     \u001b[0;32mdef\u001b[0m \u001b[0mwords_closer_than\u001b[0m\u001b[0;34m(\u001b[0m\u001b[0mself\u001b[0m\u001b[0;34m,\u001b[0m \u001b[0mw1\u001b[0m\u001b[0;34m,\u001b[0m \u001b[0mw2\u001b[0m\u001b[0;34m)\u001b[0m\u001b[0;34m:\u001b[0m\u001b[0;34m\u001b[0m\u001b[0m\n",
      "\u001b[0;32m/opt/conda/lib/python3.6/site-packages/gensim/models/keyedvectors.py\u001b[0m in \u001b[0;36mword_vec\u001b[0;34m(self, word, use_norm)\u001b[0m\n\u001b[1;32m    272\u001b[0m             \u001b[0;32mreturn\u001b[0m \u001b[0mresult\u001b[0m\u001b[0;34m\u001b[0m\u001b[0m\n\u001b[1;32m    273\u001b[0m         \u001b[0;32melse\u001b[0m\u001b[0;34m:\u001b[0m\u001b[0;34m\u001b[0m\u001b[0m\n\u001b[0;32m--> 274\u001b[0;31m             \u001b[0;32mraise\u001b[0m \u001b[0mKeyError\u001b[0m\u001b[0;34m(\u001b[0m\u001b[0;34m\"word '%s' not in vocabulary\"\u001b[0m \u001b[0;34m%\u001b[0m \u001b[0mword\u001b[0m\u001b[0;34m)\u001b[0m\u001b[0;34m\u001b[0m\u001b[0m\n\u001b[0m\u001b[1;32m    275\u001b[0m \u001b[0;34m\u001b[0m\u001b[0m\n\u001b[1;32m    276\u001b[0m     \u001b[0;32mdef\u001b[0m \u001b[0mget_vector\u001b[0m\u001b[0;34m(\u001b[0m\u001b[0mself\u001b[0m\u001b[0;34m,\u001b[0m \u001b[0mword\u001b[0m\u001b[0;34m)\u001b[0m\u001b[0;34m:\u001b[0m\u001b[0;34m\u001b[0m\u001b[0m\n",
      "\u001b[0;31mKeyError\u001b[0m: \"word 'test' not in vocabulary\""
     ]
    }
   ],
   "source": [
    "for word in tokens_example:\n",
    "    print(model[word])"
   ]
  },
  {
   "cell_type": "code",
   "execution_count": 114,
   "metadata": {},
   "outputs": [
    {
     "name": "stdout",
     "output_type": "stream",
     "text": [
      "[-1.71323812  0.53061801  0.35467434 -2.02031565  0.74786174]\n",
      "[-2.15003467 -0.3205933   0.51821518 -2.54047561  0.69790173]\n",
      "[-2.08088899  0.53198677  0.80539519 -2.37947011  0.53642446]\n",
      "\"word 'test' not in vocabulary\"\n",
      "\"word 'sentence' not in vocabulary\"\n",
      "[-1.66893995  0.91080183  0.34226811 -2.53907323  1.15460885]\n",
      "[-1.40900898  0.26911604  0.37314191 -2.83838964  0.08757287]\n",
      "[-0.21621497  0.01336697 -0.01118644 -0.40681791  0.1235566 ]\n",
      "[-2.60906076  0.67483979  0.32518929 -2.05126715 -0.07641125]\n",
      "[-1.52101433  0.16253334  0.40465525 -2.84217477  0.50854534]\n",
      "[-2.1003027   0.44161099  0.58049941 -2.88549423  0.69370586]\n"
     ]
    },
    {
     "name": "stderr",
     "output_type": "stream",
     "text": [
      "/opt/conda/lib/python3.6/site-packages/ipykernel_launcher.py:3: DeprecationWarning: Call to deprecated `__getitem__` (Method will be removed in 4.0.0, use self.wv.__getitem__() instead).\n",
      "  This is separate from the ipykernel package so we can avoid doing imports until\n"
     ]
    }
   ],
   "source": [
    "for word in tokens_example:\n",
    "    try:\n",
    "        print(model[word])\n",
    "    except KeyError as e:\n",
    "        print(e)"
   ]
  },
  {
   "cell_type": "markdown",
   "metadata": {},
   "source": [
    "## 3. Sentence Embeddings/Vectors"
   ]
  },
  {
   "cell_type": "code",
   "execution_count": 135,
   "metadata": {},
   "outputs": [
    {
     "name": "stdout",
     "output_type": "stream",
     "text": [
      "/home/jovyan\n",
      "fatal: destination path 'generating-reviews-discovering-sentiment' already exists and is not an empty directory.\n",
      "/home/jovyan/generating-reviews-discovering-sentiment\n",
      "Requirement already satisfied: tensorflow in /opt/conda/lib/python3.6/site-packages\n",
      "Requirement already satisfied: tensorboard<1.8.0,>=1.7.0 in /opt/conda/lib/python3.6/site-packages (from tensorflow)\n",
      "Requirement already satisfied: grpcio>=1.8.6 in /opt/conda/lib/python3.6/site-packages (from tensorflow)\n",
      "Requirement already satisfied: protobuf>=3.4.0 in /opt/conda/lib/python3.6/site-packages (from tensorflow)\n",
      "Requirement already satisfied: absl-py>=0.1.6 in /opt/conda/lib/python3.6/site-packages (from tensorflow)\n",
      "Requirement already satisfied: astor>=0.6.0 in /opt/conda/lib/python3.6/site-packages (from tensorflow)\n",
      "Requirement already satisfied: wheel>=0.26 in /opt/conda/lib/python3.6/site-packages (from tensorflow)\n",
      "Requirement already satisfied: numpy>=1.13.3 in /opt/conda/lib/python3.6/site-packages (from tensorflow)\n",
      "Requirement already satisfied: six>=1.10.0 in /opt/conda/lib/python3.6/site-packages (from tensorflow)\n",
      "Requirement already satisfied: gast>=0.2.0 in /opt/conda/lib/python3.6/site-packages (from tensorflow)\n",
      "Requirement already satisfied: termcolor>=1.1.0 in /opt/conda/lib/python3.6/site-packages (from tensorflow)\n",
      "Requirement already satisfied: bleach==1.5.0 in /opt/conda/lib/python3.6/site-packages (from tensorboard<1.8.0,>=1.7.0->tensorflow)\n",
      "Requirement already satisfied: html5lib==0.9999999 in /opt/conda/lib/python3.6/site-packages (from tensorboard<1.8.0,>=1.7.0->tensorflow)\n",
      "Requirement already satisfied: werkzeug>=0.11.10 in /opt/conda/lib/python3.6/site-packages (from tensorboard<1.8.0,>=1.7.0->tensorflow)\n",
      "Requirement already satisfied: markdown>=2.6.8 in /opt/conda/lib/python3.6/site-packages (from tensorboard<1.8.0,>=1.7.0->tensorflow)\n",
      "Requirement already satisfied: setuptools in /opt/conda/lib/python3.6/site-packages (from protobuf>=3.4.0->tensorflow)\n",
      "\u001b[33mYou are using pip version 9.0.3, however version 10.0.1 is available.\n",
      "You should consider upgrading via the 'pip install --upgrade pip' command.\u001b[0m\n",
      "Requirement already satisfied: tensorflow-hub in /opt/conda/lib/python3.6/site-packages\n",
      "Requirement already satisfied: protobuf>=3.4.0 in /opt/conda/lib/python3.6/site-packages (from tensorflow-hub)\n",
      "Requirement already satisfied: numpy>=1.12.0 in /opt/conda/lib/python3.6/site-packages (from tensorflow-hub)\n",
      "Requirement already satisfied: six>=1.10.0 in /opt/conda/lib/python3.6/site-packages (from tensorflow-hub)\n",
      "Requirement already satisfied: setuptools in /opt/conda/lib/python3.6/site-packages (from protobuf>=3.4.0->tensorflow-hub)\n",
      "\u001b[33mYou are using pip version 9.0.3, however version 10.0.1 is available.\n",
      "You should consider upgrading via the 'pip install --upgrade pip' command.\u001b[0m\n",
      "Collecting tqdm\n",
      "  Downloading https://files.pythonhosted.org/packages/78/bc/de067ab2d700b91717dc5459d86a1877e2df31abfb90ab01a5a5a5ce30b4/tqdm-4.23.0-py2.py3-none-any.whl (42kB)\n",
      "\u001b[K    100% |████████████████████████████████| 51kB 3.7MB/s ta 0:00:011\n",
      "\u001b[?25hInstalling collected packages: tqdm\n",
      "Successfully installed tqdm-4.23.0\n",
      "\u001b[33mYou are using pip version 9.0.3, however version 10.0.1 is available.\n",
      "You should consider upgrading via the 'pip install --upgrade pip' command.\u001b[0m\n",
      "WARNING:tensorflow:From /home/jovyan/generating-reviews-discovering-sentiment/encoder.py:59: calling l2_normalize (from tensorflow.python.ops.nn_impl) with dim is deprecated and will be removed in a future version.\n",
      "Instructions for updating:\n",
      "dim is deprecated, use axis instead\n",
      "/home/jovyan\n",
      "/home/jovyan/ML_Workshop_Series\n"
     ]
    }
   ],
   "source": [
    "%cd\n",
    "!git clone https://github.com/openai/generating-reviews-discovering-sentiment.git\n",
    "\n",
    "\n",
    "%cd generating-reviews-discovering-sentiment/\n",
    "!pip install tensorflow\n",
    "!pip install tensorflow-hub\n",
    "!pip install tqdm\n",
    "\n",
    "from encoder import Model\n",
    "model = Model()\n",
    "\n",
    "%cd\n",
    "%cd ML_Workshop_Series"
   ]
  },
  {
   "cell_type": "code",
   "execution_count": 136,
   "metadata": {},
   "outputs": [],
   "source": [
    "Obama_tweet = \"This week—50 years since Dr. Martin Luther King, Jr. was killed—@BarackObama and @RepJohnLewis sat down with a group of young men for an @MBK_Alliance roundtable to talk about Dr. King's legacy and the courage it takes to stand up for what you believe in: http://go.obama.org/mlk50 \"\n",
    "Trump_tweet = \"Much of the bad blood with Russia is caused by the Fake & Corrupt Russia Investigation, headed up by the all Democrat loyalists, or people that worked for Obama. Mueller is most conflicted of all (except Rosenstein who signed FISA & Comey letter). No Collusion, so they go crazy!\""
   ]
  },
  {
   "cell_type": "code",
   "execution_count": 137,
   "metadata": {},
   "outputs": [
    {
     "name": "stdout",
     "output_type": "stream",
     "text": [
      "6.543 seconds to transform 1 examples\n",
      "6.182 seconds to transform 1 examples\n"
     ]
    }
   ],
   "source": [
    "Obama_vector = model.transform([Obama_tweet])\n",
    "Trump_vector = model.transform([Trump_tweet])"
   ]
  },
  {
   "cell_type": "code",
   "execution_count": 138,
   "metadata": {},
   "outputs": [
    {
     "data": {
      "text/plain": [
       "(1, 4096)"
      ]
     },
     "execution_count": 138,
     "metadata": {},
     "output_type": "execute_result"
    }
   ],
   "source": [
    "Obama_vector.shape"
   ]
  },
  {
   "cell_type": "code",
   "execution_count": 139,
   "metadata": {},
   "outputs": [
    {
     "name": "stdout",
     "output_type": "stream",
     "text": [
      "3.692 seconds to transform 1 examples\n"
     ]
    }
   ],
   "source": [
    "comparison_tweet = \"Why would Kim Jong-un insult me by calling me old, when I would NEVER call him short and fat? Oh well, I try so hard to be his friend - and maybe someday that will happen!\"\n",
    "comparison_vector = model.transform([comparison_tweet])"
   ]
  },
  {
   "cell_type": "code",
   "execution_count": 140,
   "metadata": {},
   "outputs": [
    {
     "name": "stdout",
     "output_type": "stream",
     "text": [
      "18.7616\n",
      "1.57058\n"
     ]
    }
   ],
   "source": [
    "print(np.square(np.sum(comparison_vector - Obama_vector)))\n",
    "print(np.square(np.sum(comparison_vector - Trump_vector)))"
   ]
  },
  {
   "cell_type": "markdown",
   "metadata": {},
   "source": [
    "## 4. Latent Dirichlet Allocation"
   ]
  },
  {
   "cell_type": "code",
   "execution_count": 141,
   "metadata": {},
   "outputs": [],
   "source": [
    "from gensim import corpora\n",
    "\n",
    "import string\n",
    "\n",
    "from nltk.corpus import stopwords \n",
    "from nltk.stem.wordnet import WordNetLemmatizer"
   ]
  },
  {
   "cell_type": "code",
   "execution_count": 142,
   "metadata": {},
   "outputs": [
    {
     "name": "stdout",
     "output_type": "stream",
     "text": [
      "[nltk_data] Downloading package stopwords to /home/jovyan/nltk_data...\n",
      "[nltk_data]   Package stopwords is already up-to-date!\n"
     ]
    },
    {
     "data": {
      "text/plain": [
       "True"
      ]
     },
     "execution_count": 142,
     "metadata": {},
     "output_type": "execute_result"
    }
   ],
   "source": [
    "nltk.download('stopwords')"
   ]
  },
  {
   "cell_type": "code",
   "execution_count": 143,
   "metadata": {},
   "outputs": [],
   "source": [
    "stopwords = set(stopwords.words('english'))\n",
    "punctuation = set(string.punctuation) \n",
    "lemmatize = WordNetLemmatizer()\n",
    "\n",
    "def cleaning(article):\n",
    "    one = \" \".join([i for i in article.lower().split() if i not in stopwords])\n",
    "    two = \"\".join(i for i in one if i not in punctuation)\n",
    "    three = \" \".join(lemmatize.lemmatize(i) for i in two.split())\n",
    "    return three"
   ]
  },
  {
   "cell_type": "code",
   "execution_count": 144,
   "metadata": {},
   "outputs": [
    {
     "name": "stdout",
     "output_type": "stream",
     "text": [
      "[nltk_data] Downloading package wordnet to /home/jovyan/nltk_data...\n",
      "[nltk_data]   Package wordnet is already up-to-date!\n"
     ]
    },
    {
     "data": {
      "text/plain": [
       "True"
      ]
     },
     "execution_count": 144,
     "metadata": {},
     "output_type": "execute_result"
    }
   ],
   "source": [
    "nltk.download('wordnet')"
   ]
  },
  {
   "cell_type": "code",
   "execution_count": 145,
   "metadata": {},
   "outputs": [
    {
     "data": {
      "text/plain": [
       "589"
      ]
     },
     "execution_count": 145,
     "metadata": {},
     "output_type": "execute_result"
    }
   ],
   "source": [
    "only_essays = pd.DataFrame(subsetted_df['essay'])\n",
    "text = only_essays.applymap(cleaning)['essay']\n",
    "text_list = [i.split() for i in text]\n",
    "len(text_list)"
   ]
  },
  {
   "cell_type": "code",
   "execution_count": 146,
   "metadata": {},
   "outputs": [
    {
     "name": "stdout",
     "output_type": "stream",
     "text": [
      "Dictionary(5668 unique tokens: ['2015', '37', '7', 'ability', 'adelyn']...)\n"
     ]
    }
   ],
   "source": [
    "dictionary = corpora.Dictionary(text_list)\n",
    "dictionary.save('dictionary.dict')\n",
    "print(dictionary)"
   ]
  },
  {
   "cell_type": "code",
   "execution_count": 147,
   "metadata": {},
   "outputs": [],
   "source": [
    "doc_term_matrix = [dictionary.doc2bow(doc) for doc in text_list]"
   ]
  },
  {
   "cell_type": "code",
   "execution_count": null,
   "metadata": {},
   "outputs": [],
   "source": [
    "Lda = gensim.models.ldamodel.LdaModel\n",
    "\n",
    "# Running and Trainign LDA model on the document term matrix.\n",
    "ldamodel = Lda(doc_term_matrix, num_topics=5, id2word = dictionary, passes=50)"
   ]
  },
  {
   "cell_type": "code",
   "execution_count": null,
   "metadata": {},
   "outputs": [],
   "source": [
    "ldamodel.print_topics(5)"
   ]
  },
  {
   "cell_type": "markdown",
   "metadata": {},
   "source": [
    "<br><br><br><br><br><br><br><br><br><br><br><br><br><br><br>"
   ]
  },
  {
   "cell_type": "markdown",
   "metadata": {},
   "source": [
    "# Some less structured stuff I also explored but ultimately didn't incorporate"
   ]
  },
  {
   "cell_type": "markdown",
   "metadata": {},
   "source": [
    "## Predicting donations"
   ]
  },
  {
   "cell_type": "code",
   "execution_count": 103,
   "metadata": {},
   "outputs": [],
   "source": [
    "train_df, test_df = train_test_split(subsetted_df, test_size = 0.2)\n",
    "\n",
    "train_Y = train_df['don'].values\n",
    "test_Y = test_df['don'].values\n",
    "\n",
    "train_essays = train_df['essay'].values\n",
    "test_essays = test_df['essay'].values\n",
    "\n",
    "word_counter = CountVectorizer()\n",
    "word_counter.fit(train_essays)\n",
    "\n",
    "train_word_counts = word_counter.transform(train_essays)\n",
    "test_word_counts = word_counter.transform(test_essays)"
   ]
  },
  {
   "cell_type": "code",
   "execution_count": 104,
   "metadata": {},
   "outputs": [],
   "source": [
    "from sklearn.linear_model import LinearRegression"
   ]
  },
  {
   "cell_type": "code",
   "execution_count": 105,
   "metadata": {},
   "outputs": [
    {
     "data": {
      "text/plain": [
       "LinearRegression(copy_X=True, fit_intercept=True, n_jobs=1, normalize=False)"
      ]
     },
     "execution_count": 105,
     "metadata": {},
     "output_type": "execute_result"
    }
   ],
   "source": [
    "regressor = LinearRegression()\n",
    "regressor.fit(X = train_word_counts, y = train_Y)"
   ]
  },
  {
   "cell_type": "code",
   "execution_count": 106,
   "metadata": {},
   "outputs": [
    {
     "data": {
      "text/plain": [
       "<matplotlib.collections.PathCollection at 0x7f86db8aa278>"
      ]
     },
     "execution_count": 106,
     "metadata": {},
     "output_type": "execute_result"
    },
    {
     "data": {
      "image/png": "[encoded data removed]",
      "text/plain": [
       "<matplotlib.figure.Figure at 0x7f86f06f4b38>"
      ]
     },
     "metadata": {},
     "output_type": "display_data"
    }
   ],
   "source": [
    "train_predictions = regressor.predict(train_word_counts)\n",
    "plt.scatter(train_predictions, train_Y)"
   ]
  },
  {
   "cell_type": "code",
   "execution_count": 107,
   "metadata": {},
   "outputs": [
    {
     "data": {
      "text/plain": [
       "<matplotlib.collections.PathCollection at 0x7f86db7d7550>"
      ]
     },
     "execution_count": 107,
     "metadata": {},
     "output_type": "execute_result"
    },
    {
     "data": {
      "image/png": "[encoded data removed]",
      "text/plain": [
       "<matplotlib.figure.Figure at 0x7f86db917b00>"
      ]
     },
     "metadata": {},
     "output_type": "display_data"
    }
   ],
   "source": [
    "plt.scatter(train_predictions, train_Y)"
   ]
  },
  {
   "cell_type": "code",
   "execution_count": 108,
   "metadata": {},
   "outputs": [
    {
     "data": {
      "text/plain": [
       "<matplotlib.collections.PathCollection at 0x7f86db768f28>"
      ]
     },
     "execution_count": 108,
     "metadata": {},
     "output_type": "execute_result"
    },
    {
     "data": {
      "image/png": "[encoded data removed]",
      "text/plain": [
       "<matplotlib.figure.Figure at 0x7f86db78d400>"
      ]
     },
     "metadata": {},
     "output_type": "display_data"
    }
   ],
   "source": [
    "test_predictions = regressor.predict(test_word_counts)\n",
    "plt.scatter(test_predictions, test_Y)"
   ]
  },
  {
   "cell_type": "markdown",
   "metadata": {},
   "source": [
    "<br><br><br>"
   ]
  },
  {
   "cell_type": "code",
   "execution_count": 109,
   "metadata": {},
   "outputs": [],
   "source": [
    "from sklearn.linear_model import Ridge"
   ]
  },
  {
   "cell_type": "code",
   "execution_count": 110,
   "metadata": {},
   "outputs": [
    {
     "data": {
      "text/plain": [
       "GridSearchCV(cv=5, error_score='raise',\n",
       "       estimator=Ridge(alpha=1.0, copy_X=True, fit_intercept=True, max_iter=None,\n",
       "   normalize=False, random_state=None, solver='auto', tol=0.001),\n",
       "       fit_params={}, iid=True, n_jobs=1,\n",
       "       param_grid=[{'alpha': [1e-06, 1e-05, 0.0001, 0.001, 0.01, 0.1, 1.0, 10.0, 100.0]}],\n",
       "       pre_dispatch='2*n_jobs', refit=True, return_train_score=True,\n",
       "       scoring=None, verbose=0)"
      ]
     },
     "execution_count": 110,
     "metadata": {},
     "output_type": "execute_result"
    }
   ],
   "source": [
    "regressor = Ridge()\n",
    "regularization_options = [{'alpha': [1e-6, 1e-5, 1e-4, 1e-3, 1e-2, 1e-1, 1e0, 1e1, 1e2]}]\n",
    "gs_regressor = GridSearchCV(regressor, regularization_options, cv = 5)\n",
    "\n",
    "gs_regressor.fit(X = train_word_counts, y = train_Y)"
   ]
  },
  {
   "cell_type": "code",
   "execution_count": 111,
   "metadata": {},
   "outputs": [
    {
     "data": {
      "text/plain": [
       "<matplotlib.collections.PathCollection at 0x7f86db684cf8>"
      ]
     },
     "execution_count": 111,
     "metadata": {},
     "output_type": "execute_result"
    },
    {
     "data": {
      "image/png": "[encoded data removed]",
      "text/plain": [
       "<matplotlib.figure.Figure at 0x7f86db77ac50>"
      ]
     },
     "metadata": {},
     "output_type": "display_data"
    }
   ],
   "source": [
    "train_predictions = gs_regressor.predict(train_word_counts)\n",
    "plt.scatter(train_predictions, train_Y)"
   ]
  },
  {
   "cell_type": "code",
   "execution_count": 112,
   "metadata": {},
   "outputs": [
    {
     "data": {
      "text/plain": [
       "<matplotlib.collections.PathCollection at 0x7f86db62c198>"
      ]
     },
     "execution_count": 112,
     "metadata": {},
     "output_type": "execute_result"
    },
    {
     "data": {
      "image/png": "[encoded data removed]",
      "text/plain": [
       "<matplotlib.figure.Figure at 0x7f86db6b0358>"
      ]
     },
     "metadata": {},
     "output_type": "display_data"
    }
   ],
   "source": [
    "test_predictions = gs_regressor.predict(test_word_counts)\n",
    "plt.scatter(test_predictions, test_Y)"
   ]
  },
  {
   "cell_type": "code",
   "execution_count": null,
   "metadata": {},
   "outputs": [],
   "source": []
  },
  {
   "cell_type": "code",
   "execution_count": null,
   "metadata": {},
   "outputs": [],
   "source": []
  }
 ],
 "metadata": {
  "kernelspec": {
   "display_name": "Python 3",
   "language": "python",
   "name": "python3"
  },
  "language_info": {
   "codemirror_mode": {
    "name": "ipython",
    "version": 3
   },
   "file_extension": ".py",
   "mimetype": "text/x-python",
   "name": "python",
   "nbconvert_exporter": "python",
   "pygments_lexer": "ipython3",
   "version": "3.6.3"
  }
 },
 "nbformat": 4,
 "nbformat_minor": 2
}
